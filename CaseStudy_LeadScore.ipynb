{
 "cells": [
  {
   "cell_type": "markdown",
   "metadata": {
    "id": "e3SCvSDyrpf9"
   },
   "source": [
    "# Lead Score - Case Study"
   ]
  },
  {
   "cell_type": "markdown",
   "metadata": {
    "id": "bLGlfW-yrpgA"
   },
   "source": [
    "## Problem Statement\n",
    "An X Education need help to select the most promising leads, i.e. the leads that are most likely to convert into paying customers. The company requires us to build a model wherein you need to assign a lead score to each of the leads such that the customers with higher lead score have a higher conversion chance and the customers with lower lead score have a lower conversion chance. The CEO, in particular, has given a ballpark of the target lead conversion rate to be around 80%. <br>\n",
    "## Goals and Objectives\n",
    "There are quite a few goals for this case study.\n",
    "- Build a logistic regression model to assign a lead score between 0 and 100 to each of the leads which can be used by the company to target potential leads. A higher score would mean that the lead is hot, i.e. is most likely to convert whereas a lower score would mean that the lead is cold and will mostly not get converted.\n",
    "- There are some more problems presented by the company which your model should be able to adjust to if the company's requirement changes in the future so you will need to handle these as well. These problems are provided in a separate doc file. Please fill it based on the logistic regression model you got in the first step. Also, make sure you include this in your final PPT where you'll make recommendations."
   ]
  },
  {
   "cell_type": "code",
   "execution_count": 1,
   "metadata": {
    "id": "YbrDMArWVlg0"
   },
   "outputs": [],
   "source": [
    "# Importing all necessary libraries\n",
    "import pandas as pd\n",
    "import numpy as np\n",
    "import warnings \n",
    "import datetime\n",
    "warnings.filterwarnings('ignore')\n",
    "pd.set_option('display.max_rows', 500)\n",
    "pd.set_option('display.max_columns', 500)"
   ]
  },
  {
   "cell_type": "markdown",
   "metadata": {
    "id": "YidBy99eCf-t"
   },
   "source": [
    "## 1.Importing the data"
   ]
  },
  {
   "cell_type": "code",
   "execution_count": 2,
   "metadata": {
    "id": "3QXtsJzPVuy3"
   },
   "outputs": [],
   "source": [
    "# Loading the data \n",
    "df = pd.read_csv('Leads.csv')"
   ]
  },
  {
   "cell_type": "markdown",
   "metadata": {
    "id": "nncYr_S1CoN6"
   },
   "source": [
    "###  Inspect the dataframe\n",
    "This helps to give a good idea of the dataframes."
   ]
  },
  {
   "cell_type": "code",
   "execution_count": 3,
   "metadata": {
    "colab": {
     "base_uri": "https://localhost:8080/",
     "height": 534
    },
    "id": "gCTNsDOkCzzx",
    "outputId": "3cd820ce-ddc3-42f0-e0bf-7a73e642b4d8"
   },
   "outputs": [
    {
     "data": {
      "text/html": [
       "<div>\n",
       "<style scoped>\n",
       "    .dataframe tbody tr th:only-of-type {\n",
       "        vertical-align: middle;\n",
       "    }\n",
       "\n",
       "    .dataframe tbody tr th {\n",
       "        vertical-align: top;\n",
       "    }\n",
       "\n",
       "    .dataframe thead th {\n",
       "        text-align: right;\n",
       "    }\n",
       "</style>\n",
       "<table border=\"1\" class=\"dataframe\">\n",
       "  <thead>\n",
       "    <tr style=\"text-align: right;\">\n",
       "      <th></th>\n",
       "      <th>Prospect ID</th>\n",
       "      <th>Lead Number</th>\n",
       "      <th>Lead Origin</th>\n",
       "      <th>Lead Source</th>\n",
       "      <th>Do Not Email</th>\n",
       "      <th>Do Not Call</th>\n",
       "      <th>Converted</th>\n",
       "      <th>TotalVisits</th>\n",
       "      <th>Total Time Spent on Website</th>\n",
       "      <th>Page Views Per Visit</th>\n",
       "      <th>Last Activity</th>\n",
       "      <th>Country</th>\n",
       "      <th>Specialization</th>\n",
       "      <th>How did you hear about X Education</th>\n",
       "      <th>What is your current occupation</th>\n",
       "      <th>What matters most to you in choosing a course</th>\n",
       "      <th>Search</th>\n",
       "      <th>Magazine</th>\n",
       "      <th>Newspaper Article</th>\n",
       "      <th>X Education Forums</th>\n",
       "      <th>Newspaper</th>\n",
       "      <th>Digital Advertisement</th>\n",
       "      <th>Through Recommendations</th>\n",
       "      <th>Receive More Updates About Our Courses</th>\n",
       "      <th>Tags</th>\n",
       "      <th>Lead Quality</th>\n",
       "      <th>Update me on Supply Chain Content</th>\n",
       "      <th>Get updates on DM Content</th>\n",
       "      <th>Lead Profile</th>\n",
       "      <th>City</th>\n",
       "      <th>Asymmetrique Activity Index</th>\n",
       "      <th>Asymmetrique Profile Index</th>\n",
       "      <th>Asymmetrique Activity Score</th>\n",
       "      <th>Asymmetrique Profile Score</th>\n",
       "      <th>I agree to pay the amount through cheque</th>\n",
       "      <th>A free copy of Mastering The Interview</th>\n",
       "      <th>Last Notable Activity</th>\n",
       "    </tr>\n",
       "  </thead>\n",
       "  <tbody>\n",
       "    <tr>\n",
       "      <th>0</th>\n",
       "      <td>7927b2df-8bba-4d29-b9a2-b6e0beafe620</td>\n",
       "      <td>660737</td>\n",
       "      <td>API</td>\n",
       "      <td>Olark Chat</td>\n",
       "      <td>No</td>\n",
       "      <td>No</td>\n",
       "      <td>0</td>\n",
       "      <td>0.0</td>\n",
       "      <td>0</td>\n",
       "      <td>0.0</td>\n",
       "      <td>Page Visited on Website</td>\n",
       "      <td>NaN</td>\n",
       "      <td>Select</td>\n",
       "      <td>Select</td>\n",
       "      <td>Unemployed</td>\n",
       "      <td>Better Career Prospects</td>\n",
       "      <td>No</td>\n",
       "      <td>No</td>\n",
       "      <td>No</td>\n",
       "      <td>No</td>\n",
       "      <td>No</td>\n",
       "      <td>No</td>\n",
       "      <td>No</td>\n",
       "      <td>No</td>\n",
       "      <td>Interested in other courses</td>\n",
       "      <td>Low in Relevance</td>\n",
       "      <td>No</td>\n",
       "      <td>No</td>\n",
       "      <td>Select</td>\n",
       "      <td>Select</td>\n",
       "      <td>02.Medium</td>\n",
       "      <td>02.Medium</td>\n",
       "      <td>15.0</td>\n",
       "      <td>15.0</td>\n",
       "      <td>No</td>\n",
       "      <td>No</td>\n",
       "      <td>Modified</td>\n",
       "    </tr>\n",
       "    <tr>\n",
       "      <th>1</th>\n",
       "      <td>2a272436-5132-4136-86fa-dcc88c88f482</td>\n",
       "      <td>660728</td>\n",
       "      <td>API</td>\n",
       "      <td>Organic Search</td>\n",
       "      <td>No</td>\n",
       "      <td>No</td>\n",
       "      <td>0</td>\n",
       "      <td>5.0</td>\n",
       "      <td>674</td>\n",
       "      <td>2.5</td>\n",
       "      <td>Email Opened</td>\n",
       "      <td>India</td>\n",
       "      <td>Select</td>\n",
       "      <td>Select</td>\n",
       "      <td>Unemployed</td>\n",
       "      <td>Better Career Prospects</td>\n",
       "      <td>No</td>\n",
       "      <td>No</td>\n",
       "      <td>No</td>\n",
       "      <td>No</td>\n",
       "      <td>No</td>\n",
       "      <td>No</td>\n",
       "      <td>No</td>\n",
       "      <td>No</td>\n",
       "      <td>Ringing</td>\n",
       "      <td>NaN</td>\n",
       "      <td>No</td>\n",
       "      <td>No</td>\n",
       "      <td>Select</td>\n",
       "      <td>Select</td>\n",
       "      <td>02.Medium</td>\n",
       "      <td>02.Medium</td>\n",
       "      <td>15.0</td>\n",
       "      <td>15.0</td>\n",
       "      <td>No</td>\n",
       "      <td>No</td>\n",
       "      <td>Email Opened</td>\n",
       "    </tr>\n",
       "    <tr>\n",
       "      <th>2</th>\n",
       "      <td>8cc8c611-a219-4f35-ad23-fdfd2656bd8a</td>\n",
       "      <td>660727</td>\n",
       "      <td>Landing Page Submission</td>\n",
       "      <td>Direct Traffic</td>\n",
       "      <td>No</td>\n",
       "      <td>No</td>\n",
       "      <td>1</td>\n",
       "      <td>2.0</td>\n",
       "      <td>1532</td>\n",
       "      <td>2.0</td>\n",
       "      <td>Email Opened</td>\n",
       "      <td>India</td>\n",
       "      <td>Business Administration</td>\n",
       "      <td>Select</td>\n",
       "      <td>Student</td>\n",
       "      <td>Better Career Prospects</td>\n",
       "      <td>No</td>\n",
       "      <td>No</td>\n",
       "      <td>No</td>\n",
       "      <td>No</td>\n",
       "      <td>No</td>\n",
       "      <td>No</td>\n",
       "      <td>No</td>\n",
       "      <td>No</td>\n",
       "      <td>Will revert after reading the email</td>\n",
       "      <td>Might be</td>\n",
       "      <td>No</td>\n",
       "      <td>No</td>\n",
       "      <td>Potential Lead</td>\n",
       "      <td>Mumbai</td>\n",
       "      <td>02.Medium</td>\n",
       "      <td>01.High</td>\n",
       "      <td>14.0</td>\n",
       "      <td>20.0</td>\n",
       "      <td>No</td>\n",
       "      <td>Yes</td>\n",
       "      <td>Email Opened</td>\n",
       "    </tr>\n",
       "    <tr>\n",
       "      <th>3</th>\n",
       "      <td>0cc2df48-7cf4-4e39-9de9-19797f9b38cc</td>\n",
       "      <td>660719</td>\n",
       "      <td>Landing Page Submission</td>\n",
       "      <td>Direct Traffic</td>\n",
       "      <td>No</td>\n",
       "      <td>No</td>\n",
       "      <td>0</td>\n",
       "      <td>1.0</td>\n",
       "      <td>305</td>\n",
       "      <td>1.0</td>\n",
       "      <td>Unreachable</td>\n",
       "      <td>India</td>\n",
       "      <td>Media and Advertising</td>\n",
       "      <td>Word Of Mouth</td>\n",
       "      <td>Unemployed</td>\n",
       "      <td>Better Career Prospects</td>\n",
       "      <td>No</td>\n",
       "      <td>No</td>\n",
       "      <td>No</td>\n",
       "      <td>No</td>\n",
       "      <td>No</td>\n",
       "      <td>No</td>\n",
       "      <td>No</td>\n",
       "      <td>No</td>\n",
       "      <td>Ringing</td>\n",
       "      <td>Not Sure</td>\n",
       "      <td>No</td>\n",
       "      <td>No</td>\n",
       "      <td>Select</td>\n",
       "      <td>Mumbai</td>\n",
       "      <td>02.Medium</td>\n",
       "      <td>01.High</td>\n",
       "      <td>13.0</td>\n",
       "      <td>17.0</td>\n",
       "      <td>No</td>\n",
       "      <td>No</td>\n",
       "      <td>Modified</td>\n",
       "    </tr>\n",
       "    <tr>\n",
       "      <th>4</th>\n",
       "      <td>3256f628-e534-4826-9d63-4a8b88782852</td>\n",
       "      <td>660681</td>\n",
       "      <td>Landing Page Submission</td>\n",
       "      <td>Google</td>\n",
       "      <td>No</td>\n",
       "      <td>No</td>\n",
       "      <td>1</td>\n",
       "      <td>2.0</td>\n",
       "      <td>1428</td>\n",
       "      <td>1.0</td>\n",
       "      <td>Converted to Lead</td>\n",
       "      <td>India</td>\n",
       "      <td>Select</td>\n",
       "      <td>Other</td>\n",
       "      <td>Unemployed</td>\n",
       "      <td>Better Career Prospects</td>\n",
       "      <td>No</td>\n",
       "      <td>No</td>\n",
       "      <td>No</td>\n",
       "      <td>No</td>\n",
       "      <td>No</td>\n",
       "      <td>No</td>\n",
       "      <td>No</td>\n",
       "      <td>No</td>\n",
       "      <td>Will revert after reading the email</td>\n",
       "      <td>Might be</td>\n",
       "      <td>No</td>\n",
       "      <td>No</td>\n",
       "      <td>Select</td>\n",
       "      <td>Mumbai</td>\n",
       "      <td>02.Medium</td>\n",
       "      <td>01.High</td>\n",
       "      <td>15.0</td>\n",
       "      <td>18.0</td>\n",
       "      <td>No</td>\n",
       "      <td>No</td>\n",
       "      <td>Modified</td>\n",
       "    </tr>\n",
       "  </tbody>\n",
       "</table>\n",
       "</div>"
      ],
      "text/plain": [
       "                            Prospect ID  Lead Number              Lead Origin  \\\n",
       "0  7927b2df-8bba-4d29-b9a2-b6e0beafe620       660737                      API   \n",
       "1  2a272436-5132-4136-86fa-dcc88c88f482       660728                      API   \n",
       "2  8cc8c611-a219-4f35-ad23-fdfd2656bd8a       660727  Landing Page Submission   \n",
       "3  0cc2df48-7cf4-4e39-9de9-19797f9b38cc       660719  Landing Page Submission   \n",
       "4  3256f628-e534-4826-9d63-4a8b88782852       660681  Landing Page Submission   \n",
       "\n",
       "      Lead Source Do Not Email Do Not Call  Converted  TotalVisits  \\\n",
       "0      Olark Chat           No          No          0          0.0   \n",
       "1  Organic Search           No          No          0          5.0   \n",
       "2  Direct Traffic           No          No          1          2.0   \n",
       "3  Direct Traffic           No          No          0          1.0   \n",
       "4          Google           No          No          1          2.0   \n",
       "\n",
       "   Total Time Spent on Website  Page Views Per Visit            Last Activity  \\\n",
       "0                            0                   0.0  Page Visited on Website   \n",
       "1                          674                   2.5             Email Opened   \n",
       "2                         1532                   2.0             Email Opened   \n",
       "3                          305                   1.0              Unreachable   \n",
       "4                         1428                   1.0        Converted to Lead   \n",
       "\n",
       "  Country           Specialization How did you hear about X Education  \\\n",
       "0     NaN                   Select                             Select   \n",
       "1   India                   Select                             Select   \n",
       "2   India  Business Administration                             Select   \n",
       "3   India    Media and Advertising                      Word Of Mouth   \n",
       "4   India                   Select                              Other   \n",
       "\n",
       "  What is your current occupation  \\\n",
       "0                      Unemployed   \n",
       "1                      Unemployed   \n",
       "2                         Student   \n",
       "3                      Unemployed   \n",
       "4                      Unemployed   \n",
       "\n",
       "  What matters most to you in choosing a course Search Magazine  \\\n",
       "0                       Better Career Prospects     No       No   \n",
       "1                       Better Career Prospects     No       No   \n",
       "2                       Better Career Prospects     No       No   \n",
       "3                       Better Career Prospects     No       No   \n",
       "4                       Better Career Prospects     No       No   \n",
       "\n",
       "  Newspaper Article X Education Forums Newspaper Digital Advertisement  \\\n",
       "0                No                 No        No                    No   \n",
       "1                No                 No        No                    No   \n",
       "2                No                 No        No                    No   \n",
       "3                No                 No        No                    No   \n",
       "4                No                 No        No                    No   \n",
       "\n",
       "  Through Recommendations Receive More Updates About Our Courses  \\\n",
       "0                      No                                     No   \n",
       "1                      No                                     No   \n",
       "2                      No                                     No   \n",
       "3                      No                                     No   \n",
       "4                      No                                     No   \n",
       "\n",
       "                                  Tags      Lead Quality  \\\n",
       "0          Interested in other courses  Low in Relevance   \n",
       "1                              Ringing               NaN   \n",
       "2  Will revert after reading the email          Might be   \n",
       "3                              Ringing          Not Sure   \n",
       "4  Will revert after reading the email          Might be   \n",
       "\n",
       "  Update me on Supply Chain Content Get updates on DM Content    Lead Profile  \\\n",
       "0                                No                        No          Select   \n",
       "1                                No                        No          Select   \n",
       "2                                No                        No  Potential Lead   \n",
       "3                                No                        No          Select   \n",
       "4                                No                        No          Select   \n",
       "\n",
       "     City Asymmetrique Activity Index Asymmetrique Profile Index  \\\n",
       "0  Select                   02.Medium                  02.Medium   \n",
       "1  Select                   02.Medium                  02.Medium   \n",
       "2  Mumbai                   02.Medium                    01.High   \n",
       "3  Mumbai                   02.Medium                    01.High   \n",
       "4  Mumbai                   02.Medium                    01.High   \n",
       "\n",
       "   Asymmetrique Activity Score  Asymmetrique Profile Score  \\\n",
       "0                         15.0                        15.0   \n",
       "1                         15.0                        15.0   \n",
       "2                         14.0                        20.0   \n",
       "3                         13.0                        17.0   \n",
       "4                         15.0                        18.0   \n",
       "\n",
       "  I agree to pay the amount through cheque  \\\n",
       "0                                       No   \n",
       "1                                       No   \n",
       "2                                       No   \n",
       "3                                       No   \n",
       "4                                       No   \n",
       "\n",
       "  A free copy of Mastering The Interview Last Notable Activity  \n",
       "0                                     No              Modified  \n",
       "1                                     No          Email Opened  \n",
       "2                                    Yes          Email Opened  \n",
       "3                                     No              Modified  \n",
       "4                                     No              Modified  "
      ]
     },
     "execution_count": 3,
     "metadata": {},
     "output_type": "execute_result"
    }
   ],
   "source": [
    "# Reading the data\n",
    "df.head()"
   ]
  },
  {
   "cell_type": "code",
   "execution_count": 4,
   "metadata": {
    "colab": {
     "base_uri": "https://localhost:8080/"
    },
    "id": "DndHXlBvW0jK",
    "outputId": "f1812483-0e4b-4990-d19f-8f568bf6fa2a"
   },
   "outputs": [
    {
     "data": {
      "text/plain": [
       "(9240, 37)"
      ]
     },
     "execution_count": 4,
     "metadata": {},
     "output_type": "execute_result"
    }
   ],
   "source": [
    "# Shape of the dataset\n",
    "df.shape"
   ]
  },
  {
   "cell_type": "markdown",
   "metadata": {
    "id": "BvfzYTvJD-Um"
   },
   "source": [
    "The dataset is having 9240 rows and 37 columns"
   ]
  },
  {
   "cell_type": "code",
   "execution_count": 5,
   "metadata": {
    "colab": {
     "base_uri": "https://localhost:8080/"
    },
    "id": "6Y6jZvWFDjzT",
    "outputId": "2b2dfa03-992c-4c40-d5ad-14e80f9064ad"
   },
   "outputs": [
    {
     "name": "stdout",
     "output_type": "stream",
     "text": [
      "<class 'pandas.core.frame.DataFrame'>\n",
      "RangeIndex: 9240 entries, 0 to 9239\n",
      "Data columns (total 37 columns):\n",
      " #   Column                                         Non-Null Count  Dtype  \n",
      "---  ------                                         --------------  -----  \n",
      " 0   Prospect ID                                    9240 non-null   object \n",
      " 1   Lead Number                                    9240 non-null   int64  \n",
      " 2   Lead Origin                                    9240 non-null   object \n",
      " 3   Lead Source                                    9204 non-null   object \n",
      " 4   Do Not Email                                   9240 non-null   object \n",
      " 5   Do Not Call                                    9240 non-null   object \n",
      " 6   Converted                                      9240 non-null   int64  \n",
      " 7   TotalVisits                                    9103 non-null   float64\n",
      " 8   Total Time Spent on Website                    9240 non-null   int64  \n",
      " 9   Page Views Per Visit                           9103 non-null   float64\n",
      " 10  Last Activity                                  9137 non-null   object \n",
      " 11  Country                                        6779 non-null   object \n",
      " 12  Specialization                                 7802 non-null   object \n",
      " 13  How did you hear about X Education             7033 non-null   object \n",
      " 14  What is your current occupation                6550 non-null   object \n",
      " 15  What matters most to you in choosing a course  6531 non-null   object \n",
      " 16  Search                                         9240 non-null   object \n",
      " 17  Magazine                                       9240 non-null   object \n",
      " 18  Newspaper Article                              9240 non-null   object \n",
      " 19  X Education Forums                             9240 non-null   object \n",
      " 20  Newspaper                                      9240 non-null   object \n",
      " 21  Digital Advertisement                          9240 non-null   object \n",
      " 22  Through Recommendations                        9240 non-null   object \n",
      " 23  Receive More Updates About Our Courses         9240 non-null   object \n",
      " 24  Tags                                           5887 non-null   object \n",
      " 25  Lead Quality                                   4473 non-null   object \n",
      " 26  Update me on Supply Chain Content              9240 non-null   object \n",
      " 27  Get updates on DM Content                      9240 non-null   object \n",
      " 28  Lead Profile                                   6531 non-null   object \n",
      " 29  City                                           7820 non-null   object \n",
      " 30  Asymmetrique Activity Index                    5022 non-null   object \n",
      " 31  Asymmetrique Profile Index                     5022 non-null   object \n",
      " 32  Asymmetrique Activity Score                    5022 non-null   float64\n",
      " 33  Asymmetrique Profile Score                     5022 non-null   float64\n",
      " 34  I agree to pay the amount through cheque       9240 non-null   object \n",
      " 35  A free copy of Mastering The Interview         9240 non-null   object \n",
      " 36  Last Notable Activity                          9240 non-null   object \n",
      "dtypes: float64(4), int64(3), object(30)\n",
      "memory usage: 2.6+ MB\n"
     ]
    }
   ],
   "source": [
    "# Info of the dataset\n",
    "df.info()"
   ]
  },
  {
   "cell_type": "markdown",
   "metadata": {
    "id": "ZeGVEtVaEEIC"
   },
   "source": [
    "As we can see from the above, there are 7 numerical variables columns and remaining 30 columns are having categorical variables."
   ]
  },
  {
   "cell_type": "markdown",
   "metadata": {
    "id": "4FFcq_UCFLSX"
   },
   "source": [
    "###  Cleaning the dataframe"
   ]
  },
  {
   "cell_type": "markdown",
   "metadata": {
    "id": "kXutvfdJKl2P"
   },
   "source": [
    "Now, there are some columns/categorical variables having label as 'Select' which means the customer was not selected any option hence it is better to put it as null value - Because there was no suitable option present to select for the customer searching for. "
   ]
  },
  {
   "cell_type": "code",
   "execution_count": 6,
   "metadata": {
    "id": "dYMNpXMwKpEz"
   },
   "outputs": [],
   "source": [
    "# Replacing 'Select' label with nan values\n",
    "df.replace('Select',np.NaN,inplace = True)"
   ]
  },
  {
   "cell_type": "code",
   "execution_count": 7,
   "metadata": {
    "colab": {
     "base_uri": "https://localhost:8080/"
    },
    "id": "HVmIAIDmKx-e",
    "outputId": "2af3d75b-9149-442c-cf44-a52be4a0ac35"
   },
   "outputs": [
    {
     "data": {
      "text/plain": [
       "How did you hear about X Education    78.463203\n",
       "Lead Quality                          51.590909\n",
       "Lead Profile                          74.188312\n",
       "Asymmetrique Activity Index           45.649351\n",
       "Asymmetrique Profile Index            45.649351\n",
       "Asymmetrique Activity Score           45.649351\n",
       "Asymmetrique Profile Score            45.649351\n",
       "dtype: float64"
      ]
     },
     "execution_count": 7,
     "metadata": {},
     "output_type": "execute_result"
    }
   ],
   "source": [
    "# Selecting the columns with more than 40% null values:\n",
    "null_values = df.isnull().sum()/len(df) *100\n",
    "null_values_40 = null_values[null_values > 40]\n",
    "null_values_40"
   ]
  },
  {
   "cell_type": "code",
   "execution_count": 8,
   "metadata": {
    "id": "7Xv6kko_ZLB8"
   },
   "outputs": [],
   "source": [
    "# Dropping the columns with more than 40% null values:\n",
    "df.drop(null_values_40.index,axis = 1,inplace = True)"
   ]
  },
  {
   "cell_type": "code",
   "execution_count": 9,
   "metadata": {
    "colab": {
     "base_uri": "https://localhost:8080/"
    },
    "id": "1BZHuAw5EGOG",
    "outputId": "722f02eb-1a37-4b52-e6c4-5c15e826eda2"
   },
   "outputs": [
    {
     "name": "stdout",
     "output_type": "stream",
     "text": [
      "Prospect ID : 9240\n",
      "Lead Number : 9240\n",
      "Lead Origin : 5\n",
      "Lead Source : 21\n",
      "Do Not Email : 2\n",
      "Do Not Call : 2\n",
      "Converted : 2\n",
      "TotalVisits : 41\n",
      "Total Time Spent on Website : 1731\n",
      "Page Views Per Visit : 114\n",
      "Last Activity : 17\n",
      "Country : 38\n",
      "Specialization : 18\n",
      "What is your current occupation : 6\n",
      "What matters most to you in choosing a course : 3\n",
      "Search : 2\n",
      "Magazine : 1\n",
      "Newspaper Article : 2\n",
      "X Education Forums : 2\n",
      "Newspaper : 2\n",
      "Digital Advertisement : 2\n",
      "Through Recommendations : 2\n",
      "Receive More Updates About Our Courses : 1\n",
      "Tags : 26\n",
      "Update me on Supply Chain Content : 1\n",
      "Get updates on DM Content : 1\n",
      "City : 6\n",
      "I agree to pay the amount through cheque : 1\n",
      "A free copy of Mastering The Interview : 2\n",
      "Last Notable Activity : 16\n"
     ]
    }
   ],
   "source": [
    "# Printing the unique variables in each column:\n",
    "for cols in df.columns:\n",
    "  print(cols,':',df[cols].nunique())"
   ]
  },
  {
   "cell_type": "markdown",
   "metadata": {
    "id": "87Aul3sYMQAL"
   },
   "source": [
    "There are some columns which contains only one variable and will not contribute to the predicting power of our models."
   ]
  },
  {
   "cell_type": "code",
   "execution_count": 10,
   "metadata": {
    "id": "lS5EdNoOL6pi"
   },
   "outputs": [],
   "source": [
    "# Dropping columns which contains only one variable:\n",
    "for i in df.columns:\n",
    "  if df[i].nunique()==1:\n",
    "    df.drop(i,axis = 1,inplace = True)"
   ]
  },
  {
   "cell_type": "markdown",
   "metadata": {
    "id": "vW0gx0vqAU1l"
   },
   "source": [
    "Now we have some sales genrated data in our dataset which are not required, so we will drop them also."
   ]
  },
  {
   "cell_type": "code",
   "execution_count": 11,
   "metadata": {
    "id": "Ec2bxcbO_aBD"
   },
   "outputs": [],
   "source": [
    "# Selecting the sales data in the column sales_data \n",
    "sales_data  = ['Tags','Last Notable Activity','Last Activity','Prospect ID','Lead Number']"
   ]
  },
  {
   "cell_type": "code",
   "execution_count": 12,
   "metadata": {
    "id": "GecAEjn3Aovj"
   },
   "outputs": [],
   "source": [
    "# Deleting sales data from our dataset\n",
    "df.drop(sales_data,axis =1, inplace= True)"
   ]
  },
  {
   "cell_type": "code",
   "execution_count": 13,
   "metadata": {
    "id": "NySYmtiyB856"
   },
   "outputs": [],
   "source": [
    "# Selecting all the categorical columns:\n",
    "categorical = df.select_dtypes(include='object')"
   ]
  },
  {
   "cell_type": "code",
   "execution_count": 14,
   "metadata": {
    "colab": {
     "base_uri": "https://localhost:8080/"
    },
    "id": "h2zx6BEjB88d",
    "outputId": "992dc4f7-6e8a-4dee-94f2-7b06665d76b0"
   },
   "outputs": [
    {
     "name": "stdout",
     "output_type": "stream",
     "text": [
      "5 : Lead Origin\n",
      "21 : Lead Source\n",
      "2 : Do Not Email\n",
      "2 : Do Not Call\n",
      "2 : Converted\n",
      "41 : TotalVisits\n",
      "1731 : Total Time Spent on Website\n",
      "114 : Page Views Per Visit\n",
      "38 : Country\n",
      "18 : Specialization\n",
      "6 : What is your current occupation\n",
      "3 : What matters most to you in choosing a course\n",
      "2 : Search\n",
      "2 : Newspaper Article\n",
      "2 : X Education Forums\n",
      "2 : Newspaper\n",
      "2 : Digital Advertisement\n",
      "2 : Through Recommendations\n",
      "6 : City\n",
      "2 : A free copy of Mastering The Interview\n"
     ]
    }
   ],
   "source": [
    "# Pritning unique values of each categorical columns:\n",
    "for i in df.columns:\n",
    "  print(df[i].nunique(),':',i)"
   ]
  },
  {
   "cell_type": "markdown",
   "metadata": {
    "id": "bt8piL4_Gu4H"
   },
   "source": [
    "Printing the unique value and their percentage in each column:"
   ]
  },
  {
   "cell_type": "code",
   "execution_count": 15,
   "metadata": {
    "colab": {
     "base_uri": "https://localhost:8080/"
    },
    "id": "fc6juAABB9Aa",
    "outputId": "7853d906-8279-4bc3-d202-8d78302bc0c0"
   },
   "outputs": [
    {
     "data": {
      "text/plain": [
       "No     0.999784\n",
       "Yes    0.000216\n",
       "Name: Do Not Call, dtype: float64"
      ]
     },
     "execution_count": 15,
     "metadata": {},
     "output_type": "execute_result"
    }
   ],
   "source": [
    "df['Do Not Call'].value_counts()/len(categorical)"
   ]
  },
  {
   "cell_type": "code",
   "execution_count": 16,
   "metadata": {
    "colab": {
     "base_uri": "https://localhost:8080/"
    },
    "id": "KFZFKISpEDSE",
    "outputId": "d26e0382-4758-44f9-b970-2b2f1e38d6c9"
   },
   "outputs": [
    {
     "data": {
      "text/plain": [
       "No     0.998485\n",
       "Yes    0.001515\n",
       "Name: Search, dtype: float64"
      ]
     },
     "execution_count": 16,
     "metadata": {},
     "output_type": "execute_result"
    }
   ],
   "source": [
    "df['Search'].value_counts()/len(categorical)"
   ]
  },
  {
   "cell_type": "code",
   "execution_count": 17,
   "metadata": {
    "colab": {
     "base_uri": "https://localhost:8080/"
    },
    "id": "Waf6RzGgEJqO",
    "outputId": "7c04ea00-21fa-4fb7-ce6f-5295534c446f"
   },
   "outputs": [
    {
     "data": {
      "text/plain": [
       "No     0.999784\n",
       "Yes    0.000216\n",
       "Name: Newspaper Article, dtype: float64"
      ]
     },
     "execution_count": 17,
     "metadata": {},
     "output_type": "execute_result"
    }
   ],
   "source": [
    "df['Newspaper Article'].value_counts()/len(categorical)"
   ]
  },
  {
   "cell_type": "code",
   "execution_count": 18,
   "metadata": {
    "colab": {
     "base_uri": "https://localhost:8080/"
    },
    "id": "TIoFUrWpEOlU",
    "outputId": "73dee32b-0363-4666-898d-e80e592839e0"
   },
   "outputs": [
    {
     "data": {
      "text/plain": [
       "No     0.999892\n",
       "Yes    0.000108\n",
       "Name: X Education Forums, dtype: float64"
      ]
     },
     "execution_count": 18,
     "metadata": {},
     "output_type": "execute_result"
    }
   ],
   "source": [
    "df['X Education Forums'].value_counts()/len(categorical)"
   ]
  },
  {
   "cell_type": "code",
   "execution_count": 19,
   "metadata": {
    "colab": {
     "base_uri": "https://localhost:8080/"
    },
    "id": "z-ZGsWSUEUqE",
    "outputId": "221bd862-36d2-42eb-d186-2f8648b6adb5"
   },
   "outputs": [
    {
     "data": {
      "text/plain": [
       "No     0.999892\n",
       "Yes    0.000108\n",
       "Name: Newspaper, dtype: float64"
      ]
     },
     "execution_count": 19,
     "metadata": {},
     "output_type": "execute_result"
    }
   ],
   "source": [
    "df['Newspaper'].value_counts()/len(categorical)"
   ]
  },
  {
   "cell_type": "code",
   "execution_count": 20,
   "metadata": {
    "colab": {
     "base_uri": "https://localhost:8080/"
    },
    "id": "5nbzl7S3EUsw",
    "outputId": "32ad60a1-2ded-4e0b-b6b3-056440616917"
   },
   "outputs": [
    {
     "data": {
      "text/plain": [
       "No     0.999242\n",
       "Yes    0.000758\n",
       "Name: Through Recommendations, dtype: float64"
      ]
     },
     "execution_count": 20,
     "metadata": {},
     "output_type": "execute_result"
    }
   ],
   "source": [
    "df['Through Recommendations'].value_counts()/len(categorical)"
   ]
  },
  {
   "cell_type": "code",
   "execution_count": 21,
   "metadata": {
    "colab": {
     "base_uri": "https://localhost:8080/"
    },
    "id": "GGYYBYVfEUwR",
    "outputId": "aaeaf9b6-eb62-45ea-d195-bba2afbbcc11"
   },
   "outputs": [
    {
     "data": {
      "text/plain": [
       "No     0.999567\n",
       "Yes    0.000433\n",
       "Name: Digital Advertisement, dtype: float64"
      ]
     },
     "execution_count": 21,
     "metadata": {},
     "output_type": "execute_result"
    }
   ],
   "source": [
    "df['Digital Advertisement'].value_counts()/len(categorical)"
   ]
  },
  {
   "cell_type": "code",
   "execution_count": 22,
   "metadata": {
    "colab": {
     "base_uri": "https://localhost:8080/"
    },
    "id": "atPUZJwWvJgV",
    "outputId": "413cbefc-e331-4bfa-f5ea-c3741bd35a29"
   },
   "outputs": [
    {
     "data": {
      "text/plain": [
       "India                   0.702597\n",
       "United States           0.007468\n",
       "United Arab Emirates    0.005736\n",
       "Singapore               0.002597\n",
       "Saudi Arabia            0.002273\n",
       "United Kingdom          0.001623\n",
       "Australia               0.001407\n",
       "Qatar                   0.001082\n",
       "Bahrain                 0.000758\n",
       "Hong Kong               0.000758\n",
       "Oman                    0.000649\n",
       "France                  0.000649\n",
       "unknown                 0.000541\n",
       "Canada                  0.000433\n",
       "Nigeria                 0.000433\n",
       "Kuwait                  0.000433\n",
       "South Africa            0.000433\n",
       "Germany                 0.000433\n",
       "Sweden                  0.000325\n",
       "Asia/Pacific Region     0.000216\n",
       "Italy                   0.000216\n",
       "Netherlands             0.000216\n",
       "China                   0.000216\n",
       "Ghana                   0.000216\n",
       "Uganda                  0.000216\n",
       "Belgium                 0.000216\n",
       "Philippines             0.000216\n",
       "Bangladesh              0.000216\n",
       "Kenya                   0.000108\n",
       "Tanzania                0.000108\n",
       "Malaysia                0.000108\n",
       "Switzerland             0.000108\n",
       "Denmark                 0.000108\n",
       "Indonesia               0.000108\n",
       "Russia                  0.000108\n",
       "Sri Lanka               0.000108\n",
       "Vietnam                 0.000108\n",
       "Liberia                 0.000108\n",
       "Name: Country, dtype: float64"
      ]
     },
     "execution_count": 22,
     "metadata": {},
     "output_type": "execute_result"
    }
   ],
   "source": [
    "df['Country'].value_counts()/len(categorical)"
   ]
  },
  {
   "cell_type": "code",
   "execution_count": 23,
   "metadata": {
    "colab": {
     "base_uri": "https://localhost:8080/"
    },
    "id": "f7OwJMaqvSAQ",
    "outputId": "e97e4960-625e-4a58-e7f3-78b893af314c"
   },
   "outputs": [
    {
     "data": {
      "text/plain": [
       "Better Career Prospects      6528\n",
       "Flexibility & Convenience       2\n",
       "Other                           1\n",
       "Name: What matters most to you in choosing a course, dtype: int64"
      ]
     },
     "execution_count": 23,
     "metadata": {},
     "output_type": "execute_result"
    }
   ],
   "source": [
    "df['What matters most to you in choosing a course'].value_counts()"
   ]
  },
  {
   "cell_type": "markdown",
   "metadata": {
    "id": "g-LlHiB_HWMO"
   },
   "source": [
    "There are some columns which are having higher frequncy for a single variable (greater than 99%) which will not help our model.Thus needs to be deleted.\n",
    "The columns are -:\n",
    "\n",
    "\n",
    "*   'Do Not Call'\n",
    "\n",
    "*   'Search'\n",
    "\n",
    "*   'Newspaper Article'\n",
    "\n",
    "*   'X Education Forums'\n",
    "\n",
    "\n",
    "*   'Newspaper'\n",
    "\n",
    "\n",
    "*   'Through Recommendations'\n",
    "\n",
    "\n",
    "*   'Digital Advertisement\n",
    "\n",
    "\n",
    "*   'What matters most to you in choosing a course'\n",
    "\n",
    "*   'Country'\n",
    "\n",
    "\n",
    "\n",
    "\n",
    "\n",
    "\n"
   ]
  },
  {
   "cell_type": "code",
   "execution_count": 24,
   "metadata": {
    "id": "RaI0KdEJHm5I"
   },
   "outputs": [],
   "source": [
    "# Deleting the values:\n",
    "removable = ['Do Not Call','Search','Newspaper Article','X Education Forums','Newspaper','Through Recommendations',\n",
    "             'Digital Advertisement','What matters most to you in choosing a course','Country']\n",
    "df = df.drop(removable,axis = 1)"
   ]
  },
  {
   "cell_type": "code",
   "execution_count": 25,
   "metadata": {
    "colab": {
     "base_uri": "https://localhost:8080/"
    },
    "id": "jhCBT5nwwDXe",
    "outputId": "431beaab-da3c-485e-a748-7377c95e3890"
   },
   "outputs": [
    {
     "data": {
      "text/plain": [
       "Lead Origin                                0.000000\n",
       "Lead Source                                0.389610\n",
       "Do Not Email                               0.000000\n",
       "Converted                                  0.000000\n",
       "TotalVisits                                1.482684\n",
       "Total Time Spent on Website                0.000000\n",
       "Page Views Per Visit                       1.482684\n",
       "Specialization                            36.580087\n",
       "What is your current occupation           29.112554\n",
       "City                                      39.707792\n",
       "A free copy of Mastering The Interview     0.000000\n",
       "dtype: float64"
      ]
     },
     "execution_count": 25,
     "metadata": {},
     "output_type": "execute_result"
    }
   ],
   "source": [
    "df.isnull().sum()/len(df) *100"
   ]
  },
  {
   "cell_type": "markdown",
   "metadata": {
    "id": "V1fewDDbn1MZ"
   },
   "source": [
    "There are 3 categorical columns : 'Specialization','What is your current occupation' and 'City'\n",
    "where there are a lot of missing data and we will replace them with mode."
   ]
  },
  {
   "cell_type": "code",
   "execution_count": 26,
   "metadata": {
    "id": "JdsoySgxnZKL"
   },
   "outputs": [],
   "source": [
    "missing_vals = ['Specialization','What is your current occupation','City']"
   ]
  },
  {
   "cell_type": "code",
   "execution_count": 27,
   "metadata": {
    "id": "aVAOfvTFnZNM"
   },
   "outputs": [],
   "source": [
    "for cols in missing_vals:\n",
    "  df[cols].fillna(df[cols].mode()[0],inplace = True)"
   ]
  },
  {
   "cell_type": "code",
   "execution_count": 28,
   "metadata": {
    "colab": {
     "base_uri": "https://localhost:8080/"
    },
    "id": "OXbGy93QnZQt",
    "outputId": "e5b3a6e4-459e-436c-f3ed-de69a1b138df"
   },
   "outputs": [
    {
     "data": {
      "text/plain": [
       "Lead Origin                               0.00\n",
       "Lead Source                               0.39\n",
       "Do Not Email                              0.00\n",
       "Converted                                 0.00\n",
       "TotalVisits                               1.48\n",
       "Total Time Spent on Website               0.00\n",
       "Page Views Per Visit                      1.48\n",
       "Specialization                            0.00\n",
       "What is your current occupation           0.00\n",
       "City                                      0.00\n",
       "A free copy of Mastering The Interview    0.00\n",
       "dtype: float64"
      ]
     },
     "execution_count": 28,
     "metadata": {},
     "output_type": "execute_result"
    }
   ],
   "source": [
    "# Rechecking the null values:\n",
    "round(100*(df.isnull().sum()/df.shape[0] ),2)"
   ]
  },
  {
   "cell_type": "markdown",
   "metadata": {
    "id": "94yjZo6vlQ0R"
   },
   "source": [
    "As for the remaining null values we will again impute them with their mode as mean value may biased due to presence of outliers in the column."
   ]
  },
  {
   "cell_type": "code",
   "execution_count": 29,
   "metadata": {
    "id": "HShbAAHpjyBw"
   },
   "outputs": [],
   "source": [
    "# Imputing null values with their mode.\n",
    "df['TotalVisits'].fillna(df['TotalVisits'].mode()[0],inplace = True)\n",
    "df['Page Views Per Visit'].fillna(df['Page Views Per Visit'].mode()[0],inplace = True)\n",
    "df['Lead Source'].fillna(df['Lead Source'].mode()[0],inplace = True)"
   ]
  },
  {
   "cell_type": "markdown",
   "metadata": {
    "id": "lXcA0_ghoKB7"
   },
   "source": [
    "There are some categorical columns with 2 variables \"Yes\" and \"No\"  we will replace them with 1 and 0 for better intuition."
   ]
  },
  {
   "cell_type": "code",
   "execution_count": 30,
   "metadata": {
    "id": "gYf-CUyroiti"
   },
   "outputs": [],
   "source": [
    "for cols in df.columns:\n",
    "  if df[cols].nunique()==2:\n",
    "    if cols == 'Converted':\n",
    "      continue\n",
    "    else:\n",
    "      df[cols] = df[cols].map({'Yes':1,'No':0}) "
   ]
  },
  {
   "cell_type": "code",
   "execution_count": 31,
   "metadata": {
    "colab": {
     "base_uri": "https://localhost:8080/",
     "height": 313
    },
    "id": "R_2yXp4uGk7s",
    "outputId": "1743a1aa-100d-408c-a59f-3e902a7947f1"
   },
   "outputs": [
    {
     "data": {
      "text/html": [
       "<div>\n",
       "<style scoped>\n",
       "    .dataframe tbody tr th:only-of-type {\n",
       "        vertical-align: middle;\n",
       "    }\n",
       "\n",
       "    .dataframe tbody tr th {\n",
       "        vertical-align: top;\n",
       "    }\n",
       "\n",
       "    .dataframe thead th {\n",
       "        text-align: right;\n",
       "    }\n",
       "</style>\n",
       "<table border=\"1\" class=\"dataframe\">\n",
       "  <thead>\n",
       "    <tr style=\"text-align: right;\">\n",
       "      <th></th>\n",
       "      <th>Lead Origin</th>\n",
       "      <th>Lead Source</th>\n",
       "      <th>Do Not Email</th>\n",
       "      <th>Converted</th>\n",
       "      <th>TotalVisits</th>\n",
       "      <th>Total Time Spent on Website</th>\n",
       "      <th>Page Views Per Visit</th>\n",
       "      <th>Specialization</th>\n",
       "      <th>What is your current occupation</th>\n",
       "      <th>City</th>\n",
       "      <th>A free copy of Mastering The Interview</th>\n",
       "    </tr>\n",
       "  </thead>\n",
       "  <tbody>\n",
       "    <tr>\n",
       "      <th>0</th>\n",
       "      <td>API</td>\n",
       "      <td>Olark Chat</td>\n",
       "      <td>0</td>\n",
       "      <td>0</td>\n",
       "      <td>0.0</td>\n",
       "      <td>0</td>\n",
       "      <td>0.0</td>\n",
       "      <td>Finance Management</td>\n",
       "      <td>Unemployed</td>\n",
       "      <td>Mumbai</td>\n",
       "      <td>0</td>\n",
       "    </tr>\n",
       "    <tr>\n",
       "      <th>1</th>\n",
       "      <td>API</td>\n",
       "      <td>Organic Search</td>\n",
       "      <td>0</td>\n",
       "      <td>0</td>\n",
       "      <td>5.0</td>\n",
       "      <td>674</td>\n",
       "      <td>2.5</td>\n",
       "      <td>Finance Management</td>\n",
       "      <td>Unemployed</td>\n",
       "      <td>Mumbai</td>\n",
       "      <td>0</td>\n",
       "    </tr>\n",
       "    <tr>\n",
       "      <th>2</th>\n",
       "      <td>Landing Page Submission</td>\n",
       "      <td>Direct Traffic</td>\n",
       "      <td>0</td>\n",
       "      <td>1</td>\n",
       "      <td>2.0</td>\n",
       "      <td>1532</td>\n",
       "      <td>2.0</td>\n",
       "      <td>Business Administration</td>\n",
       "      <td>Student</td>\n",
       "      <td>Mumbai</td>\n",
       "      <td>1</td>\n",
       "    </tr>\n",
       "    <tr>\n",
       "      <th>3</th>\n",
       "      <td>Landing Page Submission</td>\n",
       "      <td>Direct Traffic</td>\n",
       "      <td>0</td>\n",
       "      <td>0</td>\n",
       "      <td>1.0</td>\n",
       "      <td>305</td>\n",
       "      <td>1.0</td>\n",
       "      <td>Media and Advertising</td>\n",
       "      <td>Unemployed</td>\n",
       "      <td>Mumbai</td>\n",
       "      <td>0</td>\n",
       "    </tr>\n",
       "    <tr>\n",
       "      <th>4</th>\n",
       "      <td>Landing Page Submission</td>\n",
       "      <td>Google</td>\n",
       "      <td>0</td>\n",
       "      <td>1</td>\n",
       "      <td>2.0</td>\n",
       "      <td>1428</td>\n",
       "      <td>1.0</td>\n",
       "      <td>Finance Management</td>\n",
       "      <td>Unemployed</td>\n",
       "      <td>Mumbai</td>\n",
       "      <td>0</td>\n",
       "    </tr>\n",
       "  </tbody>\n",
       "</table>\n",
       "</div>"
      ],
      "text/plain": [
       "               Lead Origin     Lead Source  Do Not Email  Converted  \\\n",
       "0                      API      Olark Chat             0          0   \n",
       "1                      API  Organic Search             0          0   \n",
       "2  Landing Page Submission  Direct Traffic             0          1   \n",
       "3  Landing Page Submission  Direct Traffic             0          0   \n",
       "4  Landing Page Submission          Google             0          1   \n",
       "\n",
       "   TotalVisits  Total Time Spent on Website  Page Views Per Visit  \\\n",
       "0          0.0                            0                   0.0   \n",
       "1          5.0                          674                   2.5   \n",
       "2          2.0                         1532                   2.0   \n",
       "3          1.0                          305                   1.0   \n",
       "4          2.0                         1428                   1.0   \n",
       "\n",
       "            Specialization What is your current occupation    City  \\\n",
       "0       Finance Management                      Unemployed  Mumbai   \n",
       "1       Finance Management                      Unemployed  Mumbai   \n",
       "2  Business Administration                         Student  Mumbai   \n",
       "3    Media and Advertising                      Unemployed  Mumbai   \n",
       "4       Finance Management                      Unemployed  Mumbai   \n",
       "\n",
       "   A free copy of Mastering The Interview  \n",
       "0                                       0  \n",
       "1                                       0  \n",
       "2                                       1  \n",
       "3                                       0  \n",
       "4                                       0  "
      ]
     },
     "execution_count": 31,
     "metadata": {},
     "output_type": "execute_result"
    }
   ],
   "source": [
    "df.head()"
   ]
  },
  {
   "cell_type": "code",
   "execution_count": 32,
   "metadata": {
    "colab": {
     "base_uri": "https://localhost:8080/"
    },
    "id": "VCaTaJ5XG9sy",
    "outputId": "17f2b3ed-5353-47a2-e1f9-ab0535beaced"
   },
   "outputs": [
    {
     "data": {
      "text/plain": [
       "(9240, 11)"
      ]
     },
     "execution_count": 32,
     "metadata": {},
     "output_type": "execute_result"
    }
   ],
   "source": [
    "df.shape"
   ]
  },
  {
   "cell_type": "code",
   "execution_count": 33,
   "metadata": {
    "colab": {
     "base_uri": "https://localhost:8080/"
    },
    "id": "t5fRrlJODkGh",
    "outputId": "28a4b9e1-c978-434e-8935-4548f4a93882"
   },
   "outputs": [
    {
     "name": "stdout",
     "output_type": "stream",
     "text": [
      "<class 'pandas.core.frame.DataFrame'>\n",
      "RangeIndex: 9240 entries, 0 to 9239\n",
      "Data columns (total 11 columns):\n",
      " #   Column                                  Non-Null Count  Dtype  \n",
      "---  ------                                  --------------  -----  \n",
      " 0   Lead Origin                             9240 non-null   object \n",
      " 1   Lead Source                             9240 non-null   object \n",
      " 2   Do Not Email                            9240 non-null   int64  \n",
      " 3   Converted                               9240 non-null   int64  \n",
      " 4   TotalVisits                             9240 non-null   float64\n",
      " 5   Total Time Spent on Website             9240 non-null   int64  \n",
      " 6   Page Views Per Visit                    9240 non-null   float64\n",
      " 7   Specialization                          9240 non-null   object \n",
      " 8   What is your current occupation         9240 non-null   object \n",
      " 9   City                                    9240 non-null   object \n",
      " 10  A free copy of Mastering The Interview  9240 non-null   int64  \n",
      "dtypes: float64(2), int64(4), object(5)\n",
      "memory usage: 794.2+ KB\n"
     ]
    }
   ],
   "source": [
    "df.info()"
   ]
  },
  {
   "cell_type": "markdown",
   "metadata": {
    "id": "FFLM6lAGqQS0"
   },
   "source": [
    "## 2.EDA"
   ]
  },
  {
   "cell_type": "code",
   "execution_count": 34,
   "metadata": {
    "id": "LlwaxhPtDujR"
   },
   "outputs": [],
   "source": [
    "import seaborn as sns\n",
    "import matplotlib.pyplot as plt"
   ]
  },
  {
   "cell_type": "code",
   "execution_count": 35,
   "metadata": {
    "id": "jXcooI26Htcv"
   },
   "outputs": [],
   "source": [
    "correlation  = df.corr()"
   ]
  },
  {
   "cell_type": "code",
   "execution_count": 36,
   "metadata": {
    "colab": {
     "base_uri": "https://localhost:8080/",
     "height": 482
    },
    "id": "7rfH4OnCHw7r",
    "outputId": "c309f109-fa8d-49e5-82f5-b3ec22b34615"
   },
   "outputs": [
    {
     "data": {
      "image/png": "[encoded data removed]",
      "text/plain": [
       "<Figure size 1440x720 with 2 Axes>"
      ]
     },
     "metadata": {
      "needs_background": "light"
     },
     "output_type": "display_data"
    }
   ],
   "source": [
    "plt.figure(figsize  = (20,10))\n",
    "sns.heatmap(correlation,annot = True, cmap = 'CMRmap_r')\n",
    "plt.show()"
   ]
  },
  {
   "cell_type": "markdown",
   "metadata": {
    "id": "MP4qVf7frpgP"
   },
   "source": [
    "## Outlier check"
   ]
  },
  {
   "cell_type": "code",
   "execution_count": 37,
   "metadata": {
    "colab": {
     "base_uri": "https://localhost:8080/",
     "height": 392
    },
    "id": "KaW16tgsrpgQ",
    "outputId": "f11379d3-149d-4ea9-b120-efcea864f02a"
   },
   "outputs": [
    {
     "data": {
      "text/html": [
       "<div>\n",
       "<style scoped>\n",
       "    .dataframe tbody tr th:only-of-type {\n",
       "        vertical-align: middle;\n",
       "    }\n",
       "\n",
       "    .dataframe tbody tr th {\n",
       "        vertical-align: top;\n",
       "    }\n",
       "\n",
       "    .dataframe thead th {\n",
       "        text-align: right;\n",
       "    }\n",
       "</style>\n",
       "<table border=\"1\" class=\"dataframe\">\n",
       "  <thead>\n",
       "    <tr style=\"text-align: right;\">\n",
       "      <th></th>\n",
       "      <th>Do Not Email</th>\n",
       "      <th>Converted</th>\n",
       "      <th>TotalVisits</th>\n",
       "      <th>Total Time Spent on Website</th>\n",
       "      <th>Page Views Per Visit</th>\n",
       "      <th>A free copy of Mastering The Interview</th>\n",
       "    </tr>\n",
       "  </thead>\n",
       "  <tbody>\n",
       "    <tr>\n",
       "      <th>count</th>\n",
       "      <td>9240.00</td>\n",
       "      <td>9240.00</td>\n",
       "      <td>9240.00</td>\n",
       "      <td>9240.00</td>\n",
       "      <td>9240.00</td>\n",
       "      <td>9240.00</td>\n",
       "    </tr>\n",
       "    <tr>\n",
       "      <th>mean</th>\n",
       "      <td>0.08</td>\n",
       "      <td>0.39</td>\n",
       "      <td>3.39</td>\n",
       "      <td>487.70</td>\n",
       "      <td>2.33</td>\n",
       "      <td>0.31</td>\n",
       "    </tr>\n",
       "    <tr>\n",
       "      <th>std</th>\n",
       "      <td>0.27</td>\n",
       "      <td>0.49</td>\n",
       "      <td>4.84</td>\n",
       "      <td>548.02</td>\n",
       "      <td>2.16</td>\n",
       "      <td>0.46</td>\n",
       "    </tr>\n",
       "    <tr>\n",
       "      <th>min</th>\n",
       "      <td>0.00</td>\n",
       "      <td>0.00</td>\n",
       "      <td>0.00</td>\n",
       "      <td>0.00</td>\n",
       "      <td>0.00</td>\n",
       "      <td>0.00</td>\n",
       "    </tr>\n",
       "    <tr>\n",
       "      <th>15%</th>\n",
       "      <td>0.00</td>\n",
       "      <td>0.00</td>\n",
       "      <td>0.00</td>\n",
       "      <td>0.00</td>\n",
       "      <td>0.00</td>\n",
       "      <td>0.00</td>\n",
       "    </tr>\n",
       "    <tr>\n",
       "      <th>35%</th>\n",
       "      <td>0.00</td>\n",
       "      <td>0.00</td>\n",
       "      <td>2.00</td>\n",
       "      <td>98.00</td>\n",
       "      <td>1.50</td>\n",
       "      <td>0.00</td>\n",
       "    </tr>\n",
       "    <tr>\n",
       "      <th>50%</th>\n",
       "      <td>0.00</td>\n",
       "      <td>0.00</td>\n",
       "      <td>3.00</td>\n",
       "      <td>248.00</td>\n",
       "      <td>2.00</td>\n",
       "      <td>0.00</td>\n",
       "    </tr>\n",
       "    <tr>\n",
       "      <th>55%</th>\n",
       "      <td>0.00</td>\n",
       "      <td>0.00</td>\n",
       "      <td>3.00</td>\n",
       "      <td>305.00</td>\n",
       "      <td>2.00</td>\n",
       "      <td>0.00</td>\n",
       "    </tr>\n",
       "    <tr>\n",
       "      <th>75%</th>\n",
       "      <td>0.00</td>\n",
       "      <td>1.00</td>\n",
       "      <td>5.00</td>\n",
       "      <td>936.00</td>\n",
       "      <td>3.00</td>\n",
       "      <td>1.00</td>\n",
       "    </tr>\n",
       "    <tr>\n",
       "      <th>95%</th>\n",
       "      <td>1.00</td>\n",
       "      <td>1.00</td>\n",
       "      <td>10.00</td>\n",
       "      <td>1562.00</td>\n",
       "      <td>6.00</td>\n",
       "      <td>1.00</td>\n",
       "    </tr>\n",
       "    <tr>\n",
       "      <th>max</th>\n",
       "      <td>1.00</td>\n",
       "      <td>1.00</td>\n",
       "      <td>251.00</td>\n",
       "      <td>2272.00</td>\n",
       "      <td>55.00</td>\n",
       "      <td>1.00</td>\n",
       "    </tr>\n",
       "  </tbody>\n",
       "</table>\n",
       "</div>"
      ],
      "text/plain": [
       "       Do Not Email  Converted  TotalVisits  Total Time Spent on Website  \\\n",
       "count       9240.00    9240.00      9240.00                      9240.00   \n",
       "mean           0.08       0.39         3.39                       487.70   \n",
       "std            0.27       0.49         4.84                       548.02   \n",
       "min            0.00       0.00         0.00                         0.00   \n",
       "15%            0.00       0.00         0.00                         0.00   \n",
       "35%            0.00       0.00         2.00                        98.00   \n",
       "50%            0.00       0.00         3.00                       248.00   \n",
       "55%            0.00       0.00         3.00                       305.00   \n",
       "75%            0.00       1.00         5.00                       936.00   \n",
       "95%            1.00       1.00        10.00                      1562.00   \n",
       "max            1.00       1.00       251.00                      2272.00   \n",
       "\n",
       "       Page Views Per Visit  A free copy of Mastering The Interview  \n",
       "count               9240.00                                 9240.00  \n",
       "mean                   2.33                                    0.31  \n",
       "std                    2.16                                    0.46  \n",
       "min                    0.00                                    0.00  \n",
       "15%                    0.00                                    0.00  \n",
       "35%                    1.50                                    0.00  \n",
       "50%                    2.00                                    0.00  \n",
       "55%                    2.00                                    0.00  \n",
       "75%                    3.00                                    1.00  \n",
       "95%                    6.00                                    1.00  \n",
       "max                   55.00                                    1.00  "
      ]
     },
     "execution_count": 37,
     "metadata": {},
     "output_type": "execute_result"
    }
   ],
   "source": [
    "round(df.describe(percentiles=[0.15,0.35,0.55,0.75,0.95]),2)"
   ]
  },
  {
   "cell_type": "markdown",
   "metadata": {
    "id": "UzKHMDxerpgQ"
   },
   "source": [
    "As we can see there are outliers in 2 variables 'TotalVisits' and 'Page Views Per Visit'."
   ]
  },
  {
   "cell_type": "code",
   "execution_count": 38,
   "metadata": {
    "colab": {
     "base_uri": "https://localhost:8080/",
     "height": 437
    },
    "id": "um9f0KNprpgQ",
    "outputId": "85deb17f-afbd-4cd5-af07-11eff21a2378"
   },
   "outputs": [
    {
     "data": {
      "image/png": "[encoded data removed]",
      "text/plain": [
       "<Figure size 2160x2160 with 3 Axes>"
      ]
     },
     "metadata": {
      "needs_background": "light"
     },
     "output_type": "display_data"
    }
   ],
   "source": [
    "# Setting size of figure, context and gridlines\n",
    "plt.figure(figsize=(30,30))\n",
    "plt.tight_layout()\n",
    "sns.set_style('ticks')\n",
    "sns.set_context('talk')\n",
    "\n",
    "# Title names for the columns in the dataset\n",
    "col={0:'Total Time Spent on Website', 1:'TotalVisits', 2:'Page Views Per Visit'}\n",
    "\n",
    "# Visualising the outliers with boxplot for all the variables \n",
    "for i in range(3):\n",
    "    plt.subplot(3,3,i+1)\n",
    "    plt.title(col[i],fontsize=20)\n",
    "    sns.boxplot(y=df[col[i]], data=df, palette='Set1', fliersize=12)"
   ]
  },
  {
   "cell_type": "markdown",
   "metadata": {
    "id": "XjzWHqN2rpgQ"
   },
   "source": [
    "### Univariate Analysis"
   ]
  },
  {
   "cell_type": "code",
   "execution_count": 39,
   "metadata": {
    "colab": {
     "base_uri": "https://localhost:8080/",
     "height": 829
    },
    "id": "a6oexDuqrpgR",
    "outputId": "31c98e98-63cc-4ccf-b11c-5d63a1ff8e2c"
   },
   "outputs": [
    {
     "data": {
      "text/plain": [
       "(array([ 0,  1,  2,  3,  4,  5,  6,  7,  8,  9, 10, 11, 12, 13, 14, 15, 16,\n",
       "        17]),\n",
       " [Text(0, 0, 'Finance Management'),\n",
       "  Text(1, 0, 'Business Administration'),\n",
       "  Text(2, 0, 'Media and Advertising'),\n",
       "  Text(3, 0, 'Supply Chain Management'),\n",
       "  Text(4, 0, 'IT Projects Management'),\n",
       "  Text(5, 0, 'Travel and Tourism'),\n",
       "  Text(6, 0, 'Human Resource Management'),\n",
       "  Text(7, 0, 'Marketing Management'),\n",
       "  Text(8, 0, 'Banking, Investment And Insurance'),\n",
       "  Text(9, 0, 'International Business'),\n",
       "  Text(10, 0, 'E-COMMERCE'),\n",
       "  Text(11, 0, 'Operations Management'),\n",
       "  Text(12, 0, 'Retail Management'),\n",
       "  Text(13, 0, 'Services Excellence'),\n",
       "  Text(14, 0, 'Hospitality Management'),\n",
       "  Text(15, 0, 'Rural and Agribusiness'),\n",
       "  Text(16, 0, 'Healthcare Management'),\n",
       "  Text(17, 0, 'E-Business')])"
      ]
     },
     "execution_count": 39,
     "metadata": {},
     "output_type": "execute_result"
    },
    {
     "data": {
      "image/png": "[encoded data removed]",
      "text/plain": [
       "<Figure size 1080x576 with 1 Axes>"
      ]
     },
     "metadata": {},
     "output_type": "display_data"
    }
   ],
   "source": [
    "# Visualise specialization column\n",
    "plt.figure(figsize=(15,8))\n",
    "sns.countplot(df[\"Specialization\"])\n",
    "plt.xticks(rotation = 90)"
   ]
  },
  {
   "cell_type": "markdown",
   "metadata": {
    "id": "vqQMyCYrrpgR"
   },
   "source": [
    "<b>Inference</b>:  \n",
    "\n",
    "          1. \"Finance Management\" is mostly choosen by the people.\n",
    "          2. There are equal number of the people opted for HR Management and Marketing Management."
   ]
  },
  {
   "cell_type": "code",
   "execution_count": 40,
   "metadata": {
    "colab": {
     "base_uri": "https://localhost:8080/",
     "height": 355
    },
    "id": "l0LpO2LFrpgR",
    "outputId": "f5077882-eca4-4909-fbc0-ebc447ec3e5e"
   },
   "outputs": [
    {
     "data": {
      "image/png": "[encoded data removed]",
      "text/plain": [
       "<Figure size 1080x360 with 1 Axes>"
      ]
     },
     "metadata": {},
     "output_type": "display_data"
    }
   ],
   "source": [
    "# visualise Lead Origin column\n",
    "plt.figure(figsize=(15,5))\n",
    "sns.countplot(x = \"Lead Origin\", hue = \"Converted\", data = df)\n",
    "plt.legend(loc=\"upper right\")\n",
    "plt.show()"
   ]
  },
  {
   "cell_type": "markdown",
   "metadata": {
    "id": "KVN6J4uArpgR"
   },
   "source": [
    "<b>Inference</b>:\n",
    "\n",
    "            1. API and Landing Page Submission have 30-35% conversion rate but count of lead originated from them are       \n",
    "               considerable.\n",
    "            2. Lead Add Form has more than 90% conversion rate but count of lead are not very high.\n",
    "            3. Lead Import are very less in count.\n"
   ]
  },
  {
   "cell_type": "code",
   "execution_count": 41,
   "metadata": {
    "colab": {
     "base_uri": "https://localhost:8080/",
     "height": 638
    },
    "id": "uk7oTWnrrpgR",
    "outputId": "502551e8-dc89-4d61-90ac-9d2c3da80fa8"
   },
   "outputs": [
    {
     "data": {
      "text/plain": [
       "(array([ 0,  1,  2,  3,  4,  5,  6,  7,  8,  9, 10, 11, 12, 13, 14, 15, 16,\n",
       "        17, 18, 19, 20]),\n",
       " [Text(0, 0, 'Olark Chat'),\n",
       "  Text(1, 0, 'Organic Search'),\n",
       "  Text(2, 0, 'Direct Traffic'),\n",
       "  Text(3, 0, 'Google'),\n",
       "  Text(4, 0, 'Referral Sites'),\n",
       "  Text(5, 0, 'Welingak Website'),\n",
       "  Text(6, 0, 'Reference'),\n",
       "  Text(7, 0, 'google'),\n",
       "  Text(8, 0, 'Facebook'),\n",
       "  Text(9, 0, 'blog'),\n",
       "  Text(10, 0, 'Pay per Click Ads'),\n",
       "  Text(11, 0, 'bing'),\n",
       "  Text(12, 0, 'Social Media'),\n",
       "  Text(13, 0, 'WeLearn'),\n",
       "  Text(14, 0, 'Click2call'),\n",
       "  Text(15, 0, 'Live Chat'),\n",
       "  Text(16, 0, 'welearnblog_Home'),\n",
       "  Text(17, 0, 'youtubechannel'),\n",
       "  Text(18, 0, 'testone'),\n",
       "  Text(19, 0, 'Press_Release'),\n",
       "  Text(20, 0, 'NC_EDM')])"
      ]
     },
     "execution_count": 41,
     "metadata": {},
     "output_type": "execute_result"
    },
    {
     "data": {
      "image/png": "[encoded data removed]",
      "text/plain": [
       "<Figure size 1440x504 with 1 Axes>"
      ]
     },
     "metadata": {},
     "output_type": "display_data"
    }
   ],
   "source": [
    "# visualise Lead Source column\n",
    "fig, axs = plt.subplots(figsize = (20,7))\n",
    "sns.countplot(x = \"Lead Source\", hue = \"Converted\", data = df)\n",
    "plt.xticks(rotation = 90)"
   ]
  },
  {
   "cell_type": "markdown",
   "metadata": {
    "id": "tVFWRgdrrpgS"
   },
   "source": [
    "<b>Inference</b>:\n",
    "\n",
    "          1. Google and Direct traffic generates maximum number of leads.\n",
    "          2. Conversion Rate of reference leads and leads through welingak website is high."
   ]
  },
  {
   "cell_type": "code",
   "execution_count": 42,
   "metadata": {
    "colab": {
     "base_uri": "https://localhost:8080/",
     "height": 355
    },
    "id": "ZAAfAUygrpgS",
    "outputId": "5124595f-9c5b-4f72-f32d-2993210913ee"
   },
   "outputs": [
    {
     "data": {
      "image/png": "[encoded data removed]",
      "text/plain": [
       "<Figure size 432x360 with 1 Axes>"
      ]
     },
     "metadata": {},
     "output_type": "display_data"
    }
   ],
   "source": [
    "# Visualise the time spent on website using seaborn-boxplot.\n",
    "plt.figure(figsize=(6,5))\n",
    "sns.boxplot(y = 'Total Time Spent on Website', x = 'Converted', data = df)\n",
    "plt.show()"
   ]
  },
  {
   "cell_type": "markdown",
   "metadata": {
    "id": "J6NhbkfarpgS"
   },
   "source": [
    "<b>Inference:</b>\n",
    "\n",
    "          Leads spending more time on the website are more likely to be converted."
   ]
  },
  {
   "cell_type": "code",
   "execution_count": 43,
   "metadata": {
    "colab": {
     "base_uri": "https://localhost:8080/",
     "height": 417
    },
    "id": "1xJ4HLKfrpgS",
    "outputId": "65aa4965-cc84-4efe-ca94-a139c2a538d2"
   },
   "outputs": [
    {
     "data": {
      "image/png": "[encoded data removed]",
      "text/plain": [
       "<Figure size 576x432 with 1 Axes>"
      ]
     },
     "metadata": {},
     "output_type": "display_data"
    }
   ],
   "source": [
    "# Visualise the data on number of views over a page\n",
    "plt.figure(figsize=(8,6))\n",
    "sns.boxplot(y = 'Page Views Per Visit', x = 'Converted', data = df)\n",
    "plt.ylim(0, 25)\n",
    "plt.show()"
   ]
  },
  {
   "cell_type": "markdown",
   "metadata": {
    "id": "9meIGuN7rpgS"
   },
   "source": [
    "<b>Inference:</b>\n",
    "    \n",
    "    Median value for converted and unconverted leads is same."
   ]
  },
  {
   "cell_type": "markdown",
   "metadata": {
    "id": "TiK8Abblq3xZ"
   },
   "source": [
    "###Dummy variables creation"
   ]
  },
  {
   "cell_type": "code",
   "execution_count": 44,
   "metadata": {
    "colab": {
     "base_uri": "https://localhost:8080/"
    },
    "id": "1TOz5qosqW1G",
    "outputId": "f7fa2f70-d701-4e90-88a1-bf394abed4e6"
   },
   "outputs": [
    {
     "name": "stdout",
     "output_type": "stream",
     "text": [
      "<class 'pandas.core.frame.DataFrame'>\n",
      "RangeIndex: 9240 entries, 0 to 9239\n",
      "Data columns (total 11 columns):\n",
      " #   Column                                  Non-Null Count  Dtype  \n",
      "---  ------                                  --------------  -----  \n",
      " 0   Lead Origin                             9240 non-null   object \n",
      " 1   Lead Source                             9240 non-null   object \n",
      " 2   Do Not Email                            9240 non-null   int64  \n",
      " 3   Converted                               9240 non-null   int64  \n",
      " 4   TotalVisits                             9240 non-null   float64\n",
      " 5   Total Time Spent on Website             9240 non-null   int64  \n",
      " 6   Page Views Per Visit                    9240 non-null   float64\n",
      " 7   Specialization                          9240 non-null   object \n",
      " 8   What is your current occupation         9240 non-null   object \n",
      " 9   City                                    9240 non-null   object \n",
      " 10  A free copy of Mastering The Interview  9240 non-null   int64  \n",
      "dtypes: float64(2), int64(4), object(5)\n",
      "memory usage: 794.2+ KB\n"
     ]
    }
   ],
   "source": [
    "df.info()"
   ]
  },
  {
   "cell_type": "code",
   "execution_count": 45,
   "metadata": {
    "colab": {
     "base_uri": "https://localhost:8080/"
    },
    "id": "GF3AdZj_IEXg",
    "outputId": "f55ba069-35e7-494c-c9c2-e98b860e0804"
   },
   "outputs": [
    {
     "data": {
      "text/plain": [
       "(9240, 5)"
      ]
     },
     "execution_count": 45,
     "metadata": {},
     "output_type": "execute_result"
    }
   ],
   "source": [
    "# Selecting all the categoriacal columns:\n",
    "categorical_cols = df.select_dtypes(include = 'object')\n",
    "categorical_cols.shape"
   ]
  },
  {
   "cell_type": "code",
   "execution_count": 46,
   "metadata": {
    "colab": {
     "base_uri": "https://localhost:8080/"
    },
    "id": "x7AKWpbuImmo",
    "outputId": "7595fd1e-155d-459c-e69f-e0b24bc3ff3a"
   },
   "outputs": [
    {
     "data": {
      "text/plain": [
       "(9240, 51)"
      ]
     },
     "execution_count": 46,
     "metadata": {},
     "output_type": "execute_result"
    }
   ],
   "source": [
    "# Creating dummy variables:\n",
    "dummy =  pd.get_dummies(categorical_cols,drop_first= True)\n",
    "dummy.shape"
   ]
  },
  {
   "cell_type": "code",
   "execution_count": 47,
   "metadata": {
    "id": "hy1DjLsRI-5m"
   },
   "outputs": [],
   "source": [
    "# Dropping the original columns and merging the dummy variables:\n",
    "df.drop(categorical_cols.columns,axis = 1,inplace = True)\n",
    "df = pd.concat((df,dummy),axis = 1)\n"
   ]
  },
  {
   "cell_type": "code",
   "execution_count": 48,
   "metadata": {
    "colab": {
     "base_uri": "https://localhost:8080/",
     "height": 282
    },
    "id": "xGfD5yWIJ1md",
    "outputId": "953fa589-907e-4156-cbd2-290ac4bae877"
   },
   "outputs": [
    {
     "data": {
      "text/html": [
       "<div>\n",
       "<style scoped>\n",
       "    .dataframe tbody tr th:only-of-type {\n",
       "        vertical-align: middle;\n",
       "    }\n",
       "\n",
       "    .dataframe tbody tr th {\n",
       "        vertical-align: top;\n",
       "    }\n",
       "\n",
       "    .dataframe thead th {\n",
       "        text-align: right;\n",
       "    }\n",
       "</style>\n",
       "<table border=\"1\" class=\"dataframe\">\n",
       "  <thead>\n",
       "    <tr style=\"text-align: right;\">\n",
       "      <th></th>\n",
       "      <th>Do Not Email</th>\n",
       "      <th>Converted</th>\n",
       "      <th>TotalVisits</th>\n",
       "      <th>Total Time Spent on Website</th>\n",
       "      <th>Page Views Per Visit</th>\n",
       "      <th>A free copy of Mastering The Interview</th>\n",
       "      <th>Lead Origin_Landing Page Submission</th>\n",
       "      <th>Lead Origin_Lead Add Form</th>\n",
       "      <th>Lead Origin_Lead Import</th>\n",
       "      <th>Lead Origin_Quick Add Form</th>\n",
       "      <th>Lead Source_Direct Traffic</th>\n",
       "      <th>Lead Source_Facebook</th>\n",
       "      <th>Lead Source_Google</th>\n",
       "      <th>Lead Source_Live Chat</th>\n",
       "      <th>Lead Source_NC_EDM</th>\n",
       "      <th>Lead Source_Olark Chat</th>\n",
       "      <th>Lead Source_Organic Search</th>\n",
       "      <th>Lead Source_Pay per Click Ads</th>\n",
       "      <th>Lead Source_Press_Release</th>\n",
       "      <th>Lead Source_Reference</th>\n",
       "      <th>Lead Source_Referral Sites</th>\n",
       "      <th>Lead Source_Social Media</th>\n",
       "      <th>Lead Source_WeLearn</th>\n",
       "      <th>Lead Source_Welingak Website</th>\n",
       "      <th>Lead Source_bing</th>\n",
       "      <th>Lead Source_blog</th>\n",
       "      <th>Lead Source_google</th>\n",
       "      <th>Lead Source_testone</th>\n",
       "      <th>Lead Source_welearnblog_Home</th>\n",
       "      <th>Lead Source_youtubechannel</th>\n",
       "      <th>Specialization_Business Administration</th>\n",
       "      <th>Specialization_E-Business</th>\n",
       "      <th>Specialization_E-COMMERCE</th>\n",
       "      <th>Specialization_Finance Management</th>\n",
       "      <th>Specialization_Healthcare Management</th>\n",
       "      <th>Specialization_Hospitality Management</th>\n",
       "      <th>Specialization_Human Resource Management</th>\n",
       "      <th>Specialization_IT Projects Management</th>\n",
       "      <th>Specialization_International Business</th>\n",
       "      <th>Specialization_Marketing Management</th>\n",
       "      <th>Specialization_Media and Advertising</th>\n",
       "      <th>Specialization_Operations Management</th>\n",
       "      <th>Specialization_Retail Management</th>\n",
       "      <th>Specialization_Rural and Agribusiness</th>\n",
       "      <th>Specialization_Services Excellence</th>\n",
       "      <th>Specialization_Supply Chain Management</th>\n",
       "      <th>Specialization_Travel and Tourism</th>\n",
       "      <th>What is your current occupation_Housewife</th>\n",
       "      <th>What is your current occupation_Other</th>\n",
       "      <th>What is your current occupation_Student</th>\n",
       "      <th>What is your current occupation_Unemployed</th>\n",
       "      <th>What is your current occupation_Working Professional</th>\n",
       "      <th>City_Other Cities</th>\n",
       "      <th>City_Other Cities of Maharashtra</th>\n",
       "      <th>City_Other Metro Cities</th>\n",
       "      <th>City_Thane &amp; Outskirts</th>\n",
       "      <th>City_Tier II Cities</th>\n",
       "    </tr>\n",
       "  </thead>\n",
       "  <tbody>\n",
       "    <tr>\n",
       "      <th>0</th>\n",
       "      <td>0</td>\n",
       "      <td>0</td>\n",
       "      <td>0.0</td>\n",
       "      <td>0</td>\n",
       "      <td>0.0</td>\n",
       "      <td>0</td>\n",
       "      <td>0</td>\n",
       "      <td>0</td>\n",
       "      <td>0</td>\n",
       "      <td>0</td>\n",
       "      <td>0</td>\n",
       "      <td>0</td>\n",
       "      <td>0</td>\n",
       "      <td>0</td>\n",
       "      <td>0</td>\n",
       "      <td>1</td>\n",
       "      <td>0</td>\n",
       "      <td>0</td>\n",
       "      <td>0</td>\n",
       "      <td>0</td>\n",
       "      <td>0</td>\n",
       "      <td>0</td>\n",
       "      <td>0</td>\n",
       "      <td>0</td>\n",
       "      <td>0</td>\n",
       "      <td>0</td>\n",
       "      <td>0</td>\n",
       "      <td>0</td>\n",
       "      <td>0</td>\n",
       "      <td>0</td>\n",
       "      <td>0</td>\n",
       "      <td>0</td>\n",
       "      <td>0</td>\n",
       "      <td>1</td>\n",
       "      <td>0</td>\n",
       "      <td>0</td>\n",
       "      <td>0</td>\n",
       "      <td>0</td>\n",
       "      <td>0</td>\n",
       "      <td>0</td>\n",
       "      <td>0</td>\n",
       "      <td>0</td>\n",
       "      <td>0</td>\n",
       "      <td>0</td>\n",
       "      <td>0</td>\n",
       "      <td>0</td>\n",
       "      <td>0</td>\n",
       "      <td>0</td>\n",
       "      <td>0</td>\n",
       "      <td>0</td>\n",
       "      <td>1</td>\n",
       "      <td>0</td>\n",
       "      <td>0</td>\n",
       "      <td>0</td>\n",
       "      <td>0</td>\n",
       "      <td>0</td>\n",
       "      <td>0</td>\n",
       "    </tr>\n",
       "    <tr>\n",
       "      <th>1</th>\n",
       "      <td>0</td>\n",
       "      <td>0</td>\n",
       "      <td>5.0</td>\n",
       "      <td>674</td>\n",
       "      <td>2.5</td>\n",
       "      <td>0</td>\n",
       "      <td>0</td>\n",
       "      <td>0</td>\n",
       "      <td>0</td>\n",
       "      <td>0</td>\n",
       "      <td>0</td>\n",
       "      <td>0</td>\n",
       "      <td>0</td>\n",
       "      <td>0</td>\n",
       "      <td>0</td>\n",
       "      <td>0</td>\n",
       "      <td>1</td>\n",
       "      <td>0</td>\n",
       "      <td>0</td>\n",
       "      <td>0</td>\n",
       "      <td>0</td>\n",
       "      <td>0</td>\n",
       "      <td>0</td>\n",
       "      <td>0</td>\n",
       "      <td>0</td>\n",
       "      <td>0</td>\n",
       "      <td>0</td>\n",
       "      <td>0</td>\n",
       "      <td>0</td>\n",
       "      <td>0</td>\n",
       "      <td>0</td>\n",
       "      <td>0</td>\n",
       "      <td>0</td>\n",
       "      <td>1</td>\n",
       "      <td>0</td>\n",
       "      <td>0</td>\n",
       "      <td>0</td>\n",
       "      <td>0</td>\n",
       "      <td>0</td>\n",
       "      <td>0</td>\n",
       "      <td>0</td>\n",
       "      <td>0</td>\n",
       "      <td>0</td>\n",
       "      <td>0</td>\n",
       "      <td>0</td>\n",
       "      <td>0</td>\n",
       "      <td>0</td>\n",
       "      <td>0</td>\n",
       "      <td>0</td>\n",
       "      <td>0</td>\n",
       "      <td>1</td>\n",
       "      <td>0</td>\n",
       "      <td>0</td>\n",
       "      <td>0</td>\n",
       "      <td>0</td>\n",
       "      <td>0</td>\n",
       "      <td>0</td>\n",
       "    </tr>\n",
       "    <tr>\n",
       "      <th>2</th>\n",
       "      <td>0</td>\n",
       "      <td>1</td>\n",
       "      <td>2.0</td>\n",
       "      <td>1532</td>\n",
       "      <td>2.0</td>\n",
       "      <td>1</td>\n",
       "      <td>1</td>\n",
       "      <td>0</td>\n",
       "      <td>0</td>\n",
       "      <td>0</td>\n",
       "      <td>1</td>\n",
       "      <td>0</td>\n",
       "      <td>0</td>\n",
       "      <td>0</td>\n",
       "      <td>0</td>\n",
       "      <td>0</td>\n",
       "      <td>0</td>\n",
       "      <td>0</td>\n",
       "      <td>0</td>\n",
       "      <td>0</td>\n",
       "      <td>0</td>\n",
       "      <td>0</td>\n",
       "      <td>0</td>\n",
       "      <td>0</td>\n",
       "      <td>0</td>\n",
       "      <td>0</td>\n",
       "      <td>0</td>\n",
       "      <td>0</td>\n",
       "      <td>0</td>\n",
       "      <td>0</td>\n",
       "      <td>1</td>\n",
       "      <td>0</td>\n",
       "      <td>0</td>\n",
       "      <td>0</td>\n",
       "      <td>0</td>\n",
       "      <td>0</td>\n",
       "      <td>0</td>\n",
       "      <td>0</td>\n",
       "      <td>0</td>\n",
       "      <td>0</td>\n",
       "      <td>0</td>\n",
       "      <td>0</td>\n",
       "      <td>0</td>\n",
       "      <td>0</td>\n",
       "      <td>0</td>\n",
       "      <td>0</td>\n",
       "      <td>0</td>\n",
       "      <td>0</td>\n",
       "      <td>0</td>\n",
       "      <td>1</td>\n",
       "      <td>0</td>\n",
       "      <td>0</td>\n",
       "      <td>0</td>\n",
       "      <td>0</td>\n",
       "      <td>0</td>\n",
       "      <td>0</td>\n",
       "      <td>0</td>\n",
       "    </tr>\n",
       "    <tr>\n",
       "      <th>3</th>\n",
       "      <td>0</td>\n",
       "      <td>0</td>\n",
       "      <td>1.0</td>\n",
       "      <td>305</td>\n",
       "      <td>1.0</td>\n",
       "      <td>0</td>\n",
       "      <td>1</td>\n",
       "      <td>0</td>\n",
       "      <td>0</td>\n",
       "      <td>0</td>\n",
       "      <td>1</td>\n",
       "      <td>0</td>\n",
       "      <td>0</td>\n",
       "      <td>0</td>\n",
       "      <td>0</td>\n",
       "      <td>0</td>\n",
       "      <td>0</td>\n",
       "      <td>0</td>\n",
       "      <td>0</td>\n",
       "      <td>0</td>\n",
       "      <td>0</td>\n",
       "      <td>0</td>\n",
       "      <td>0</td>\n",
       "      <td>0</td>\n",
       "      <td>0</td>\n",
       "      <td>0</td>\n",
       "      <td>0</td>\n",
       "      <td>0</td>\n",
       "      <td>0</td>\n",
       "      <td>0</td>\n",
       "      <td>0</td>\n",
       "      <td>0</td>\n",
       "      <td>0</td>\n",
       "      <td>0</td>\n",
       "      <td>0</td>\n",
       "      <td>0</td>\n",
       "      <td>0</td>\n",
       "      <td>0</td>\n",
       "      <td>0</td>\n",
       "      <td>0</td>\n",
       "      <td>1</td>\n",
       "      <td>0</td>\n",
       "      <td>0</td>\n",
       "      <td>0</td>\n",
       "      <td>0</td>\n",
       "      <td>0</td>\n",
       "      <td>0</td>\n",
       "      <td>0</td>\n",
       "      <td>0</td>\n",
       "      <td>0</td>\n",
       "      <td>1</td>\n",
       "      <td>0</td>\n",
       "      <td>0</td>\n",
       "      <td>0</td>\n",
       "      <td>0</td>\n",
       "      <td>0</td>\n",
       "      <td>0</td>\n",
       "    </tr>\n",
       "    <tr>\n",
       "      <th>4</th>\n",
       "      <td>0</td>\n",
       "      <td>1</td>\n",
       "      <td>2.0</td>\n",
       "      <td>1428</td>\n",
       "      <td>1.0</td>\n",
       "      <td>0</td>\n",
       "      <td>1</td>\n",
       "      <td>0</td>\n",
       "      <td>0</td>\n",
       "      <td>0</td>\n",
       "      <td>0</td>\n",
       "      <td>0</td>\n",
       "      <td>1</td>\n",
       "      <td>0</td>\n",
       "      <td>0</td>\n",
       "      <td>0</td>\n",
       "      <td>0</td>\n",
       "      <td>0</td>\n",
       "      <td>0</td>\n",
       "      <td>0</td>\n",
       "      <td>0</td>\n",
       "      <td>0</td>\n",
       "      <td>0</td>\n",
       "      <td>0</td>\n",
       "      <td>0</td>\n",
       "      <td>0</td>\n",
       "      <td>0</td>\n",
       "      <td>0</td>\n",
       "      <td>0</td>\n",
       "      <td>0</td>\n",
       "      <td>0</td>\n",
       "      <td>0</td>\n",
       "      <td>0</td>\n",
       "      <td>1</td>\n",
       "      <td>0</td>\n",
       "      <td>0</td>\n",
       "      <td>0</td>\n",
       "      <td>0</td>\n",
       "      <td>0</td>\n",
       "      <td>0</td>\n",
       "      <td>0</td>\n",
       "      <td>0</td>\n",
       "      <td>0</td>\n",
       "      <td>0</td>\n",
       "      <td>0</td>\n",
       "      <td>0</td>\n",
       "      <td>0</td>\n",
       "      <td>0</td>\n",
       "      <td>0</td>\n",
       "      <td>0</td>\n",
       "      <td>1</td>\n",
       "      <td>0</td>\n",
       "      <td>0</td>\n",
       "      <td>0</td>\n",
       "      <td>0</td>\n",
       "      <td>0</td>\n",
       "      <td>0</td>\n",
       "    </tr>\n",
       "  </tbody>\n",
       "</table>\n",
       "</div>"
      ],
      "text/plain": [
       "   Do Not Email  Converted  TotalVisits  Total Time Spent on Website  \\\n",
       "0             0          0          0.0                            0   \n",
       "1             0          0          5.0                          674   \n",
       "2             0          1          2.0                         1532   \n",
       "3             0          0          1.0                          305   \n",
       "4             0          1          2.0                         1428   \n",
       "\n",
       "   Page Views Per Visit  A free copy of Mastering The Interview  \\\n",
       "0                   0.0                                       0   \n",
       "1                   2.5                                       0   \n",
       "2                   2.0                                       1   \n",
       "3                   1.0                                       0   \n",
       "4                   1.0                                       0   \n",
       "\n",
       "   Lead Origin_Landing Page Submission  Lead Origin_Lead Add Form  \\\n",
       "0                                    0                          0   \n",
       "1                                    0                          0   \n",
       "2                                    1                          0   \n",
       "3                                    1                          0   \n",
       "4                                    1                          0   \n",
       "\n",
       "   Lead Origin_Lead Import  Lead Origin_Quick Add Form  \\\n",
       "0                        0                           0   \n",
       "1                        0                           0   \n",
       "2                        0                           0   \n",
       "3                        0                           0   \n",
       "4                        0                           0   \n",
       "\n",
       "   Lead Source_Direct Traffic  Lead Source_Facebook  Lead Source_Google  \\\n",
       "0                           0                     0                   0   \n",
       "1                           0                     0                   0   \n",
       "2                           1                     0                   0   \n",
       "3                           1                     0                   0   \n",
       "4                           0                     0                   1   \n",
       "\n",
       "   Lead Source_Live Chat  Lead Source_NC_EDM  Lead Source_Olark Chat  \\\n",
       "0                      0                   0                       1   \n",
       "1                      0                   0                       0   \n",
       "2                      0                   0                       0   \n",
       "3                      0                   0                       0   \n",
       "4                      0                   0                       0   \n",
       "\n",
       "   Lead Source_Organic Search  Lead Source_Pay per Click Ads  \\\n",
       "0                           0                              0   \n",
       "1                           1                              0   \n",
       "2                           0                              0   \n",
       "3                           0                              0   \n",
       "4                           0                              0   \n",
       "\n",
       "   Lead Source_Press_Release  Lead Source_Reference  \\\n",
       "0                          0                      0   \n",
       "1                          0                      0   \n",
       "2                          0                      0   \n",
       "3                          0                      0   \n",
       "4                          0                      0   \n",
       "\n",
       "   Lead Source_Referral Sites  Lead Source_Social Media  Lead Source_WeLearn  \\\n",
       "0                           0                         0                    0   \n",
       "1                           0                         0                    0   \n",
       "2                           0                         0                    0   \n",
       "3                           0                         0                    0   \n",
       "4                           0                         0                    0   \n",
       "\n",
       "   Lead Source_Welingak Website  Lead Source_bing  Lead Source_blog  \\\n",
       "0                             0                 0                 0   \n",
       "1                             0                 0                 0   \n",
       "2                             0                 0                 0   \n",
       "3                             0                 0                 0   \n",
       "4                             0                 0                 0   \n",
       "\n",
       "   Lead Source_google  Lead Source_testone  Lead Source_welearnblog_Home  \\\n",
       "0                   0                    0                             0   \n",
       "1                   0                    0                             0   \n",
       "2                   0                    0                             0   \n",
       "3                   0                    0                             0   \n",
       "4                   0                    0                             0   \n",
       "\n",
       "   Lead Source_youtubechannel  Specialization_Business Administration  \\\n",
       "0                           0                                       0   \n",
       "1                           0                                       0   \n",
       "2                           0                                       1   \n",
       "3                           0                                       0   \n",
       "4                           0                                       0   \n",
       "\n",
       "   Specialization_E-Business  Specialization_E-COMMERCE  \\\n",
       "0                          0                          0   \n",
       "1                          0                          0   \n",
       "2                          0                          0   \n",
       "3                          0                          0   \n",
       "4                          0                          0   \n",
       "\n",
       "   Specialization_Finance Management  Specialization_Healthcare Management  \\\n",
       "0                                  1                                     0   \n",
       "1                                  1                                     0   \n",
       "2                                  0                                     0   \n",
       "3                                  0                                     0   \n",
       "4                                  1                                     0   \n",
       "\n",
       "   Specialization_Hospitality Management  \\\n",
       "0                                      0   \n",
       "1                                      0   \n",
       "2                                      0   \n",
       "3                                      0   \n",
       "4                                      0   \n",
       "\n",
       "   Specialization_Human Resource Management  \\\n",
       "0                                         0   \n",
       "1                                         0   \n",
       "2                                         0   \n",
       "3                                         0   \n",
       "4                                         0   \n",
       "\n",
       "   Specialization_IT Projects Management  \\\n",
       "0                                      0   \n",
       "1                                      0   \n",
       "2                                      0   \n",
       "3                                      0   \n",
       "4                                      0   \n",
       "\n",
       "   Specialization_International Business  Specialization_Marketing Management  \\\n",
       "0                                      0                                    0   \n",
       "1                                      0                                    0   \n",
       "2                                      0                                    0   \n",
       "3                                      0                                    0   \n",
       "4                                      0                                    0   \n",
       "\n",
       "   Specialization_Media and Advertising  Specialization_Operations Management  \\\n",
       "0                                     0                                     0   \n",
       "1                                     0                                     0   \n",
       "2                                     0                                     0   \n",
       "3                                     1                                     0   \n",
       "4                                     0                                     0   \n",
       "\n",
       "   Specialization_Retail Management  Specialization_Rural and Agribusiness  \\\n",
       "0                                 0                                      0   \n",
       "1                                 0                                      0   \n",
       "2                                 0                                      0   \n",
       "3                                 0                                      0   \n",
       "4                                 0                                      0   \n",
       "\n",
       "   Specialization_Services Excellence  Specialization_Supply Chain Management  \\\n",
       "0                                   0                                       0   \n",
       "1                                   0                                       0   \n",
       "2                                   0                                       0   \n",
       "3                                   0                                       0   \n",
       "4                                   0                                       0   \n",
       "\n",
       "   Specialization_Travel and Tourism  \\\n",
       "0                                  0   \n",
       "1                                  0   \n",
       "2                                  0   \n",
       "3                                  0   \n",
       "4                                  0   \n",
       "\n",
       "   What is your current occupation_Housewife  \\\n",
       "0                                          0   \n",
       "1                                          0   \n",
       "2                                          0   \n",
       "3                                          0   \n",
       "4                                          0   \n",
       "\n",
       "   What is your current occupation_Other  \\\n",
       "0                                      0   \n",
       "1                                      0   \n",
       "2                                      0   \n",
       "3                                      0   \n",
       "4                                      0   \n",
       "\n",
       "   What is your current occupation_Student  \\\n",
       "0                                        0   \n",
       "1                                        0   \n",
       "2                                        1   \n",
       "3                                        0   \n",
       "4                                        0   \n",
       "\n",
       "   What is your current occupation_Unemployed  \\\n",
       "0                                           1   \n",
       "1                                           1   \n",
       "2                                           0   \n",
       "3                                           1   \n",
       "4                                           1   \n",
       "\n",
       "   What is your current occupation_Working Professional  City_Other Cities  \\\n",
       "0                                                  0                     0   \n",
       "1                                                  0                     0   \n",
       "2                                                  0                     0   \n",
       "3                                                  0                     0   \n",
       "4                                                  0                     0   \n",
       "\n",
       "   City_Other Cities of Maharashtra  City_Other Metro Cities  \\\n",
       "0                                 0                        0   \n",
       "1                                 0                        0   \n",
       "2                                 0                        0   \n",
       "3                                 0                        0   \n",
       "4                                 0                        0   \n",
       "\n",
       "   City_Thane & Outskirts  City_Tier II Cities  \n",
       "0                       0                    0  \n",
       "1                       0                    0  \n",
       "2                       0                    0  \n",
       "3                       0                    0  \n",
       "4                       0                    0  "
      ]
     },
     "execution_count": 48,
     "metadata": {},
     "output_type": "execute_result"
    }
   ],
   "source": [
    "# Checking the dataframe\n",
    "df.head()"
   ]
  },
  {
   "cell_type": "code",
   "execution_count": 49,
   "metadata": {
    "colab": {
     "base_uri": "https://localhost:8080/"
    },
    "id": "Yg2cShk00j0K",
    "outputId": "e289677a-a4c4-4a30-f9bf-0af4102bed74"
   },
   "outputs": [
    {
     "data": {
      "text/plain": [
       "(9240, 57)"
      ]
     },
     "execution_count": 49,
     "metadata": {},
     "output_type": "execute_result"
    }
   ],
   "source": [
    "df.shape"
   ]
  },
  {
   "cell_type": "markdown",
   "metadata": {
    "id": "J6svlKeO0cai"
   },
   "source": [
    "### Splitting the dataset into test and train"
   ]
  },
  {
   "cell_type": "code",
   "execution_count": 50,
   "metadata": {
    "id": "gSk5f0NBJpAY"
   },
   "outputs": [],
   "source": [
    "x = df.drop('Converted',axis =1)\n",
    "y  = df['Converted']"
   ]
  },
  {
   "cell_type": "code",
   "execution_count": 51,
   "metadata": {
    "id": "2RZj0howLlDc"
   },
   "outputs": [],
   "source": [
    "from sklearn.model_selection import train_test_split\n",
    "x_train,x_test,y_train,y_test = train_test_split(x,y,train_size = 0.8,random_state = 11)"
   ]
  },
  {
   "cell_type": "markdown",
   "metadata": {
    "id": "99ap8JKX0vSz"
   },
   "source": [
    "### Rescaling the train features:"
   ]
  },
  {
   "cell_type": "code",
   "execution_count": 52,
   "metadata": {
    "colab": {
     "base_uri": "https://localhost:8080/",
     "height": 282
    },
    "id": "wuohMrcZ1W66",
    "outputId": "eea50a50-66ea-4a81-c07c-28d7a557e5f9"
   },
   "outputs": [
    {
     "data": {
      "text/html": [
       "<div>\n",
       "<style scoped>\n",
       "    .dataframe tbody tr th:only-of-type {\n",
       "        vertical-align: middle;\n",
       "    }\n",
       "\n",
       "    .dataframe tbody tr th {\n",
       "        vertical-align: top;\n",
       "    }\n",
       "\n",
       "    .dataframe thead th {\n",
       "        text-align: right;\n",
       "    }\n",
       "</style>\n",
       "<table border=\"1\" class=\"dataframe\">\n",
       "  <thead>\n",
       "    <tr style=\"text-align: right;\">\n",
       "      <th></th>\n",
       "      <th>Do Not Email</th>\n",
       "      <th>TotalVisits</th>\n",
       "      <th>Total Time Spent on Website</th>\n",
       "      <th>Page Views Per Visit</th>\n",
       "      <th>A free copy of Mastering The Interview</th>\n",
       "      <th>Lead Origin_Landing Page Submission</th>\n",
       "      <th>Lead Origin_Lead Add Form</th>\n",
       "      <th>Lead Origin_Lead Import</th>\n",
       "      <th>Lead Origin_Quick Add Form</th>\n",
       "      <th>Lead Source_Direct Traffic</th>\n",
       "      <th>Lead Source_Facebook</th>\n",
       "      <th>Lead Source_Google</th>\n",
       "      <th>Lead Source_Live Chat</th>\n",
       "      <th>Lead Source_NC_EDM</th>\n",
       "      <th>Lead Source_Olark Chat</th>\n",
       "      <th>Lead Source_Organic Search</th>\n",
       "      <th>Lead Source_Pay per Click Ads</th>\n",
       "      <th>Lead Source_Press_Release</th>\n",
       "      <th>Lead Source_Reference</th>\n",
       "      <th>Lead Source_Referral Sites</th>\n",
       "      <th>Lead Source_Social Media</th>\n",
       "      <th>Lead Source_WeLearn</th>\n",
       "      <th>Lead Source_Welingak Website</th>\n",
       "      <th>Lead Source_bing</th>\n",
       "      <th>Lead Source_blog</th>\n",
       "      <th>Lead Source_google</th>\n",
       "      <th>Lead Source_testone</th>\n",
       "      <th>Lead Source_welearnblog_Home</th>\n",
       "      <th>Lead Source_youtubechannel</th>\n",
       "      <th>Specialization_Business Administration</th>\n",
       "      <th>Specialization_E-Business</th>\n",
       "      <th>Specialization_E-COMMERCE</th>\n",
       "      <th>Specialization_Finance Management</th>\n",
       "      <th>Specialization_Healthcare Management</th>\n",
       "      <th>Specialization_Hospitality Management</th>\n",
       "      <th>Specialization_Human Resource Management</th>\n",
       "      <th>Specialization_IT Projects Management</th>\n",
       "      <th>Specialization_International Business</th>\n",
       "      <th>Specialization_Marketing Management</th>\n",
       "      <th>Specialization_Media and Advertising</th>\n",
       "      <th>Specialization_Operations Management</th>\n",
       "      <th>Specialization_Retail Management</th>\n",
       "      <th>Specialization_Rural and Agribusiness</th>\n",
       "      <th>Specialization_Services Excellence</th>\n",
       "      <th>Specialization_Supply Chain Management</th>\n",
       "      <th>Specialization_Travel and Tourism</th>\n",
       "      <th>What is your current occupation_Housewife</th>\n",
       "      <th>What is your current occupation_Other</th>\n",
       "      <th>What is your current occupation_Student</th>\n",
       "      <th>What is your current occupation_Unemployed</th>\n",
       "      <th>What is your current occupation_Working Professional</th>\n",
       "      <th>City_Other Cities</th>\n",
       "      <th>City_Other Cities of Maharashtra</th>\n",
       "      <th>City_Other Metro Cities</th>\n",
       "      <th>City_Thane &amp; Outskirts</th>\n",
       "      <th>City_Tier II Cities</th>\n",
       "    </tr>\n",
       "  </thead>\n",
       "  <tbody>\n",
       "    <tr>\n",
       "      <th>587</th>\n",
       "      <td>0</td>\n",
       "      <td>0.000000</td>\n",
       "      <td>0.004842</td>\n",
       "      <td>0.000000</td>\n",
       "      <td>0</td>\n",
       "      <td>0</td>\n",
       "      <td>0</td>\n",
       "      <td>1</td>\n",
       "      <td>0</td>\n",
       "      <td>0</td>\n",
       "      <td>1</td>\n",
       "      <td>0</td>\n",
       "      <td>0</td>\n",
       "      <td>0</td>\n",
       "      <td>0</td>\n",
       "      <td>0</td>\n",
       "      <td>0</td>\n",
       "      <td>0</td>\n",
       "      <td>0</td>\n",
       "      <td>0</td>\n",
       "      <td>0</td>\n",
       "      <td>0</td>\n",
       "      <td>0</td>\n",
       "      <td>0</td>\n",
       "      <td>0</td>\n",
       "      <td>0</td>\n",
       "      <td>0</td>\n",
       "      <td>0</td>\n",
       "      <td>0</td>\n",
       "      <td>0</td>\n",
       "      <td>0</td>\n",
       "      <td>0</td>\n",
       "      <td>1</td>\n",
       "      <td>0</td>\n",
       "      <td>0</td>\n",
       "      <td>0</td>\n",
       "      <td>0</td>\n",
       "      <td>0</td>\n",
       "      <td>0</td>\n",
       "      <td>0</td>\n",
       "      <td>0</td>\n",
       "      <td>0</td>\n",
       "      <td>0</td>\n",
       "      <td>0</td>\n",
       "      <td>0</td>\n",
       "      <td>0</td>\n",
       "      <td>0</td>\n",
       "      <td>0</td>\n",
       "      <td>0</td>\n",
       "      <td>1</td>\n",
       "      <td>0</td>\n",
       "      <td>0</td>\n",
       "      <td>0</td>\n",
       "      <td>0</td>\n",
       "      <td>0</td>\n",
       "      <td>0</td>\n",
       "    </tr>\n",
       "    <tr>\n",
       "      <th>8290</th>\n",
       "      <td>0</td>\n",
       "      <td>0.000000</td>\n",
       "      <td>0.000000</td>\n",
       "      <td>0.000000</td>\n",
       "      <td>0</td>\n",
       "      <td>0</td>\n",
       "      <td>0</td>\n",
       "      <td>0</td>\n",
       "      <td>0</td>\n",
       "      <td>0</td>\n",
       "      <td>0</td>\n",
       "      <td>0</td>\n",
       "      <td>0</td>\n",
       "      <td>0</td>\n",
       "      <td>1</td>\n",
       "      <td>0</td>\n",
       "      <td>0</td>\n",
       "      <td>0</td>\n",
       "      <td>0</td>\n",
       "      <td>0</td>\n",
       "      <td>0</td>\n",
       "      <td>0</td>\n",
       "      <td>0</td>\n",
       "      <td>0</td>\n",
       "      <td>0</td>\n",
       "      <td>0</td>\n",
       "      <td>0</td>\n",
       "      <td>0</td>\n",
       "      <td>0</td>\n",
       "      <td>0</td>\n",
       "      <td>0</td>\n",
       "      <td>0</td>\n",
       "      <td>1</td>\n",
       "      <td>0</td>\n",
       "      <td>0</td>\n",
       "      <td>0</td>\n",
       "      <td>0</td>\n",
       "      <td>0</td>\n",
       "      <td>0</td>\n",
       "      <td>0</td>\n",
       "      <td>0</td>\n",
       "      <td>0</td>\n",
       "      <td>0</td>\n",
       "      <td>0</td>\n",
       "      <td>0</td>\n",
       "      <td>0</td>\n",
       "      <td>0</td>\n",
       "      <td>0</td>\n",
       "      <td>0</td>\n",
       "      <td>1</td>\n",
       "      <td>0</td>\n",
       "      <td>0</td>\n",
       "      <td>0</td>\n",
       "      <td>0</td>\n",
       "      <td>0</td>\n",
       "      <td>0</td>\n",
       "    </tr>\n",
       "    <tr>\n",
       "      <th>1106</th>\n",
       "      <td>0</td>\n",
       "      <td>0.014184</td>\n",
       "      <td>0.258803</td>\n",
       "      <td>0.036364</td>\n",
       "      <td>0</td>\n",
       "      <td>1</td>\n",
       "      <td>0</td>\n",
       "      <td>0</td>\n",
       "      <td>0</td>\n",
       "      <td>0</td>\n",
       "      <td>0</td>\n",
       "      <td>1</td>\n",
       "      <td>0</td>\n",
       "      <td>0</td>\n",
       "      <td>0</td>\n",
       "      <td>0</td>\n",
       "      <td>0</td>\n",
       "      <td>0</td>\n",
       "      <td>0</td>\n",
       "      <td>0</td>\n",
       "      <td>0</td>\n",
       "      <td>0</td>\n",
       "      <td>0</td>\n",
       "      <td>0</td>\n",
       "      <td>0</td>\n",
       "      <td>0</td>\n",
       "      <td>0</td>\n",
       "      <td>0</td>\n",
       "      <td>0</td>\n",
       "      <td>0</td>\n",
       "      <td>1</td>\n",
       "      <td>0</td>\n",
       "      <td>0</td>\n",
       "      <td>0</td>\n",
       "      <td>0</td>\n",
       "      <td>0</td>\n",
       "      <td>0</td>\n",
       "      <td>0</td>\n",
       "      <td>0</td>\n",
       "      <td>0</td>\n",
       "      <td>0</td>\n",
       "      <td>0</td>\n",
       "      <td>0</td>\n",
       "      <td>0</td>\n",
       "      <td>0</td>\n",
       "      <td>0</td>\n",
       "      <td>0</td>\n",
       "      <td>0</td>\n",
       "      <td>0</td>\n",
       "      <td>1</td>\n",
       "      <td>0</td>\n",
       "      <td>0</td>\n",
       "      <td>0</td>\n",
       "      <td>0</td>\n",
       "      <td>0</td>\n",
       "      <td>0</td>\n",
       "    </tr>\n",
       "    <tr>\n",
       "      <th>2591</th>\n",
       "      <td>0</td>\n",
       "      <td>0.042553</td>\n",
       "      <td>0.108715</td>\n",
       "      <td>0.109091</td>\n",
       "      <td>0</td>\n",
       "      <td>0</td>\n",
       "      <td>0</td>\n",
       "      <td>0</td>\n",
       "      <td>0</td>\n",
       "      <td>0</td>\n",
       "      <td>0</td>\n",
       "      <td>1</td>\n",
       "      <td>0</td>\n",
       "      <td>0</td>\n",
       "      <td>0</td>\n",
       "      <td>0</td>\n",
       "      <td>0</td>\n",
       "      <td>0</td>\n",
       "      <td>0</td>\n",
       "      <td>0</td>\n",
       "      <td>0</td>\n",
       "      <td>0</td>\n",
       "      <td>0</td>\n",
       "      <td>0</td>\n",
       "      <td>0</td>\n",
       "      <td>0</td>\n",
       "      <td>0</td>\n",
       "      <td>0</td>\n",
       "      <td>0</td>\n",
       "      <td>0</td>\n",
       "      <td>0</td>\n",
       "      <td>0</td>\n",
       "      <td>1</td>\n",
       "      <td>0</td>\n",
       "      <td>0</td>\n",
       "      <td>0</td>\n",
       "      <td>0</td>\n",
       "      <td>0</td>\n",
       "      <td>0</td>\n",
       "      <td>0</td>\n",
       "      <td>0</td>\n",
       "      <td>0</td>\n",
       "      <td>0</td>\n",
       "      <td>0</td>\n",
       "      <td>0</td>\n",
       "      <td>0</td>\n",
       "      <td>0</td>\n",
       "      <td>0</td>\n",
       "      <td>0</td>\n",
       "      <td>1</td>\n",
       "      <td>0</td>\n",
       "      <td>0</td>\n",
       "      <td>0</td>\n",
       "      <td>0</td>\n",
       "      <td>0</td>\n",
       "      <td>0</td>\n",
       "    </tr>\n",
       "    <tr>\n",
       "      <th>6146</th>\n",
       "      <td>1</td>\n",
       "      <td>0.007092</td>\n",
       "      <td>0.093310</td>\n",
       "      <td>0.018182</td>\n",
       "      <td>0</td>\n",
       "      <td>1</td>\n",
       "      <td>0</td>\n",
       "      <td>0</td>\n",
       "      <td>0</td>\n",
       "      <td>1</td>\n",
       "      <td>0</td>\n",
       "      <td>0</td>\n",
       "      <td>0</td>\n",
       "      <td>0</td>\n",
       "      <td>0</td>\n",
       "      <td>0</td>\n",
       "      <td>0</td>\n",
       "      <td>0</td>\n",
       "      <td>0</td>\n",
       "      <td>0</td>\n",
       "      <td>0</td>\n",
       "      <td>0</td>\n",
       "      <td>0</td>\n",
       "      <td>0</td>\n",
       "      <td>0</td>\n",
       "      <td>0</td>\n",
       "      <td>0</td>\n",
       "      <td>0</td>\n",
       "      <td>0</td>\n",
       "      <td>0</td>\n",
       "      <td>0</td>\n",
       "      <td>0</td>\n",
       "      <td>0</td>\n",
       "      <td>0</td>\n",
       "      <td>0</td>\n",
       "      <td>0</td>\n",
       "      <td>1</td>\n",
       "      <td>0</td>\n",
       "      <td>0</td>\n",
       "      <td>0</td>\n",
       "      <td>0</td>\n",
       "      <td>0</td>\n",
       "      <td>0</td>\n",
       "      <td>0</td>\n",
       "      <td>0</td>\n",
       "      <td>0</td>\n",
       "      <td>0</td>\n",
       "      <td>0</td>\n",
       "      <td>0</td>\n",
       "      <td>1</td>\n",
       "      <td>0</td>\n",
       "      <td>0</td>\n",
       "      <td>0</td>\n",
       "      <td>0</td>\n",
       "      <td>0</td>\n",
       "      <td>0</td>\n",
       "    </tr>\n",
       "  </tbody>\n",
       "</table>\n",
       "</div>"
      ],
      "text/plain": [
       "      Do Not Email  TotalVisits  Total Time Spent on Website  \\\n",
       "587              0     0.000000                     0.004842   \n",
       "8290             0     0.000000                     0.000000   \n",
       "1106             0     0.014184                     0.258803   \n",
       "2591             0     0.042553                     0.108715   \n",
       "6146             1     0.007092                     0.093310   \n",
       "\n",
       "      Page Views Per Visit  A free copy of Mastering The Interview  \\\n",
       "587               0.000000                                       0   \n",
       "8290              0.000000                                       0   \n",
       "1106              0.036364                                       0   \n",
       "2591              0.109091                                       0   \n",
       "6146              0.018182                                       0   \n",
       "\n",
       "      Lead Origin_Landing Page Submission  Lead Origin_Lead Add Form  \\\n",
       "587                                     0                          0   \n",
       "8290                                    0                          0   \n",
       "1106                                    1                          0   \n",
       "2591                                    0                          0   \n",
       "6146                                    1                          0   \n",
       "\n",
       "      Lead Origin_Lead Import  Lead Origin_Quick Add Form  \\\n",
       "587                         1                           0   \n",
       "8290                        0                           0   \n",
       "1106                        0                           0   \n",
       "2591                        0                           0   \n",
       "6146                        0                           0   \n",
       "\n",
       "      Lead Source_Direct Traffic  Lead Source_Facebook  Lead Source_Google  \\\n",
       "587                            0                     1                   0   \n",
       "8290                           0                     0                   0   \n",
       "1106                           0                     0                   1   \n",
       "2591                           0                     0                   1   \n",
       "6146                           1                     0                   0   \n",
       "\n",
       "      Lead Source_Live Chat  Lead Source_NC_EDM  Lead Source_Olark Chat  \\\n",
       "587                       0                   0                       0   \n",
       "8290                      0                   0                       1   \n",
       "1106                      0                   0                       0   \n",
       "2591                      0                   0                       0   \n",
       "6146                      0                   0                       0   \n",
       "\n",
       "      Lead Source_Organic Search  Lead Source_Pay per Click Ads  \\\n",
       "587                            0                              0   \n",
       "8290                           0                              0   \n",
       "1106                           0                              0   \n",
       "2591                           0                              0   \n",
       "6146                           0                              0   \n",
       "\n",
       "      Lead Source_Press_Release  Lead Source_Reference  \\\n",
       "587                           0                      0   \n",
       "8290                          0                      0   \n",
       "1106                          0                      0   \n",
       "2591                          0                      0   \n",
       "6146                          0                      0   \n",
       "\n",
       "      Lead Source_Referral Sites  Lead Source_Social Media  \\\n",
       "587                            0                         0   \n",
       "8290                           0                         0   \n",
       "1106                           0                         0   \n",
       "2591                           0                         0   \n",
       "6146                           0                         0   \n",
       "\n",
       "      Lead Source_WeLearn  Lead Source_Welingak Website  Lead Source_bing  \\\n",
       "587                     0                             0                 0   \n",
       "8290                    0                             0                 0   \n",
       "1106                    0                             0                 0   \n",
       "2591                    0                             0                 0   \n",
       "6146                    0                             0                 0   \n",
       "\n",
       "      Lead Source_blog  Lead Source_google  Lead Source_testone  \\\n",
       "587                  0                   0                    0   \n",
       "8290                 0                   0                    0   \n",
       "1106                 0                   0                    0   \n",
       "2591                 0                   0                    0   \n",
       "6146                 0                   0                    0   \n",
       "\n",
       "      Lead Source_welearnblog_Home  Lead Source_youtubechannel  \\\n",
       "587                              0                           0   \n",
       "8290                             0                           0   \n",
       "1106                             0                           0   \n",
       "2591                             0                           0   \n",
       "6146                             0                           0   \n",
       "\n",
       "      Specialization_Business Administration  Specialization_E-Business  \\\n",
       "587                                        0                          0   \n",
       "8290                                       0                          0   \n",
       "1106                                       0                          1   \n",
       "2591                                       0                          0   \n",
       "6146                                       0                          0   \n",
       "\n",
       "      Specialization_E-COMMERCE  Specialization_Finance Management  \\\n",
       "587                           0                                  1   \n",
       "8290                          0                                  1   \n",
       "1106                          0                                  0   \n",
       "2591                          0                                  1   \n",
       "6146                          0                                  0   \n",
       "\n",
       "      Specialization_Healthcare Management  \\\n",
       "587                                      0   \n",
       "8290                                     0   \n",
       "1106                                     0   \n",
       "2591                                     0   \n",
       "6146                                     0   \n",
       "\n",
       "      Specialization_Hospitality Management  \\\n",
       "587                                       0   \n",
       "8290                                      0   \n",
       "1106                                      0   \n",
       "2591                                      0   \n",
       "6146                                      0   \n",
       "\n",
       "      Specialization_Human Resource Management  \\\n",
       "587                                          0   \n",
       "8290                                         0   \n",
       "1106                                         0   \n",
       "2591                                         0   \n",
       "6146                                         0   \n",
       "\n",
       "      Specialization_IT Projects Management  \\\n",
       "587                                       0   \n",
       "8290                                      0   \n",
       "1106                                      0   \n",
       "2591                                      0   \n",
       "6146                                      1   \n",
       "\n",
       "      Specialization_International Business  \\\n",
       "587                                       0   \n",
       "8290                                      0   \n",
       "1106                                      0   \n",
       "2591                                      0   \n",
       "6146                                      0   \n",
       "\n",
       "      Specialization_Marketing Management  \\\n",
       "587                                     0   \n",
       "8290                                    0   \n",
       "1106                                    0   \n",
       "2591                                    0   \n",
       "6146                                    0   \n",
       "\n",
       "      Specialization_Media and Advertising  \\\n",
       "587                                      0   \n",
       "8290                                     0   \n",
       "1106                                     0   \n",
       "2591                                     0   \n",
       "6146                                     0   \n",
       "\n",
       "      Specialization_Operations Management  Specialization_Retail Management  \\\n",
       "587                                      0                                 0   \n",
       "8290                                     0                                 0   \n",
       "1106                                     0                                 0   \n",
       "2591                                     0                                 0   \n",
       "6146                                     0                                 0   \n",
       "\n",
       "      Specialization_Rural and Agribusiness  \\\n",
       "587                                       0   \n",
       "8290                                      0   \n",
       "1106                                      0   \n",
       "2591                                      0   \n",
       "6146                                      0   \n",
       "\n",
       "      Specialization_Services Excellence  \\\n",
       "587                                    0   \n",
       "8290                                   0   \n",
       "1106                                   0   \n",
       "2591                                   0   \n",
       "6146                                   0   \n",
       "\n",
       "      Specialization_Supply Chain Management  \\\n",
       "587                                        0   \n",
       "8290                                       0   \n",
       "1106                                       0   \n",
       "2591                                       0   \n",
       "6146                                       0   \n",
       "\n",
       "      Specialization_Travel and Tourism  \\\n",
       "587                                   0   \n",
       "8290                                  0   \n",
       "1106                                  0   \n",
       "2591                                  0   \n",
       "6146                                  0   \n",
       "\n",
       "      What is your current occupation_Housewife  \\\n",
       "587                                           0   \n",
       "8290                                          0   \n",
       "1106                                          0   \n",
       "2591                                          0   \n",
       "6146                                          0   \n",
       "\n",
       "      What is your current occupation_Other  \\\n",
       "587                                       0   \n",
       "8290                                      0   \n",
       "1106                                      0   \n",
       "2591                                      0   \n",
       "6146                                      0   \n",
       "\n",
       "      What is your current occupation_Student  \\\n",
       "587                                         0   \n",
       "8290                                        0   \n",
       "1106                                        0   \n",
       "2591                                        0   \n",
       "6146                                        0   \n",
       "\n",
       "      What is your current occupation_Unemployed  \\\n",
       "587                                            1   \n",
       "8290                                           1   \n",
       "1106                                           1   \n",
       "2591                                           1   \n",
       "6146                                           1   \n",
       "\n",
       "      What is your current occupation_Working Professional  City_Other Cities  \\\n",
       "587                                                   0                     0   \n",
       "8290                                                  0                     0   \n",
       "1106                                                  0                     0   \n",
       "2591                                                  0                     0   \n",
       "6146                                                  0                     0   \n",
       "\n",
       "      City_Other Cities of Maharashtra  City_Other Metro Cities  \\\n",
       "587                                  0                        0   \n",
       "8290                                 0                        0   \n",
       "1106                                 0                        0   \n",
       "2591                                 0                        0   \n",
       "6146                                 0                        0   \n",
       "\n",
       "      City_Thane & Outskirts  City_Tier II Cities  \n",
       "587                        0                    0  \n",
       "8290                       0                    0  \n",
       "1106                       0                    0  \n",
       "2591                       0                    0  \n",
       "6146                       0                    0  "
      ]
     },
     "execution_count": 52,
     "metadata": {},
     "output_type": "execute_result"
    }
   ],
   "source": [
    "# Import MinMax scaler\n",
    "from sklearn.preprocessing import MinMaxScaler\n",
    "# Scale the three numeric features\n",
    "scaler = MinMaxScaler()\n",
    "x_train[['TotalVisits','Page Views Per Visit','Total Time Spent on Website']] = scaler.fit_transform(x_train[['TotalVisits', 'Page Views Per Visit', 'Total Time Spent on Website']])\n",
    "x_train.head()"
   ]
  },
  {
   "cell_type": "markdown",
   "metadata": {
    "id": "fnBznWom1_2_"
   },
   "source": [
    "##   4.Model building"
   ]
  },
  {
   "cell_type": "markdown",
   "metadata": {
    "id": "_tPSb2o62oA0"
   },
   "source": [
    "### Using RFE"
   ]
  },
  {
   "cell_type": "markdown",
   "metadata": {
    "id": "gAsSLMl_2ZqQ"
   },
   "source": [
    "Since there are a lot of features we will select only the top 15 using RFE and do manual tuning "
   ]
  },
  {
   "cell_type": "code",
   "execution_count": 53,
   "metadata": {
    "colab": {
     "base_uri": "https://localhost:8080/"
    },
    "id": "94RW_UlgL48L",
    "outputId": "ee276e41-0bf1-47e4-ca84-66659b906661"
   },
   "outputs": [
    {
     "data": {
      "text/plain": [
       "[('Do Not Email', True, 1),\n",
       " ('TotalVisits', True, 1),\n",
       " ('Total Time Spent on Website', True, 1),\n",
       " ('Page Views Per Visit', False, 8),\n",
       " ('A free copy of Mastering The Interview', False, 34),\n",
       " ('Lead Origin_Landing Page Submission', False, 7),\n",
       " ('Lead Origin_Lead Add Form', True, 1),\n",
       " ('Lead Origin_Lead Import', False, 39),\n",
       " ('Lead Origin_Quick Add Form', False, 30),\n",
       " ('Lead Source_Direct Traffic', False, 3),\n",
       " ('Lead Source_Facebook', False, 26),\n",
       " ('Lead Source_Google', False, 36),\n",
       " ('Lead Source_Live Chat', False, 10),\n",
       " ('Lead Source_NC_EDM', False, 5),\n",
       " ('Lead Source_Olark Chat', True, 1),\n",
       " ('Lead Source_Organic Search', False, 38),\n",
       " ('Lead Source_Pay per Click Ads', False, 19),\n",
       " ('Lead Source_Press_Release', False, 6),\n",
       " ('Lead Source_Reference', False, 32),\n",
       " ('Lead Source_Referral Sites', True, 1),\n",
       " ('Lead Source_Social Media', False, 21),\n",
       " ('Lead Source_WeLearn', False, 42),\n",
       " ('Lead Source_Welingak Website', True, 1),\n",
       " ('Lead Source_bing', False, 37),\n",
       " ('Lead Source_blog', False, 41),\n",
       " ('Lead Source_google', True, 1),\n",
       " ('Lead Source_testone', False, 14),\n",
       " ('Lead Source_welearnblog_Home', False, 13),\n",
       " ('Lead Source_youtubechannel', False, 31),\n",
       " ('Specialization_Business Administration', False, 28),\n",
       " ('Specialization_E-Business', False, 27),\n",
       " ('Specialization_E-COMMERCE', False, 40),\n",
       " ('Specialization_Finance Management', False, 2),\n",
       " ('Specialization_Healthcare Management', False, 33),\n",
       " ('Specialization_Hospitality Management', True, 1),\n",
       " ('Specialization_Human Resource Management', False, 22),\n",
       " ('Specialization_IT Projects Management', False, 25),\n",
       " ('Specialization_International Business', False, 12),\n",
       " ('Specialization_Marketing Management', False, 29),\n",
       " ('Specialization_Media and Advertising', False, 23),\n",
       " ('Specialization_Operations Management', False, 24),\n",
       " ('Specialization_Retail Management', True, 1),\n",
       " ('Specialization_Rural and Agribusiness', False, 11),\n",
       " ('Specialization_Services Excellence', False, 18),\n",
       " ('Specialization_Supply Chain Management', False, 20),\n",
       " ('Specialization_Travel and Tourism', False, 4),\n",
       " ('What is your current occupation_Housewife', True, 1),\n",
       " ('What is your current occupation_Other', True, 1),\n",
       " ('What is your current occupation_Student', True, 1),\n",
       " ('What is your current occupation_Unemployed', True, 1),\n",
       " ('What is your current occupation_Working Professional', True, 1),\n",
       " ('City_Other Cities', False, 17),\n",
       " ('City_Other Cities of Maharashtra', False, 16),\n",
       " ('City_Other Metro Cities', False, 9),\n",
       " ('City_Thane & Outskirts', False, 15),\n",
       " ('City_Tier II Cities', False, 35)]"
      ]
     },
     "execution_count": 53,
     "metadata": {},
     "output_type": "execute_result"
    }
   ],
   "source": [
    "# Since the total number of variables are a lot, using RFE to calculate the best 15 variables to be used for model building\n",
    "from sklearn.linear_model import LogisticRegression\n",
    "from sklearn.feature_selection import RFE\n",
    "lr = LogisticRegression()\n",
    "rfe = RFE(lr,15)\n",
    "rfe = rfe.fit(x_train,y_train)\n",
    "list(zip(x_train.columns,rfe.support_,rfe.ranking_))"
   ]
  },
  {
   "cell_type": "code",
   "execution_count": 54,
   "metadata": {
    "id": "6pwQYj5QN9me"
   },
   "outputs": [],
   "source": [
    "# Selecting columns only which are 'True' in rfem.support_ i.e True columns were selected for creating a model\n",
    "cols = x_train.columns[rfe.support_]\n",
    "x_train = x_train[cols]"
   ]
  },
  {
   "cell_type": "markdown",
   "metadata": {
    "id": "qNTcd9nS4VvP"
   },
   "source": [
    "###VIF"
   ]
  },
  {
   "cell_type": "code",
   "execution_count": 55,
   "metadata": {
    "id": "MF4p4PY2OAvA"
   },
   "outputs": [],
   "source": [
    "from statsmodels.stats.outliers_influence import variance_inflation_factor\n",
    "\n",
    "\n",
    "# Defining a function to calculate the VIF:\n",
    "\n",
    "    \n",
    "def VIF(X):\n",
    "    vif = pd.DataFrame()\n",
    "    vif['Features'] = X.columns\n",
    "    vif['VIF'] = [variance_inflation_factor(X.values, i) for i in range(X.shape[1])]\n",
    "    vif['VIF'] = round(vif['VIF'], 2)\n",
    "    vif = vif.sort_values(by = \"VIF\", ascending = False)\n",
    "    return vif"
   ]
  },
  {
   "cell_type": "markdown",
   "metadata": {
    "id": "gkcCN9Gt4-D_"
   },
   "source": [
    "### First model"
   ]
  },
  {
   "cell_type": "code",
   "execution_count": 56,
   "metadata": {
    "colab": {
     "base_uri": "https://localhost:8080/"
    },
    "id": "epRaf8ug5IQE",
    "outputId": "49373dd7-ad90-49fc-8a24-278577b7ff33"
   },
   "outputs": [
    {
     "name": "stdout",
     "output_type": "stream",
     "text": [
      "                 Generalized Linear Model Regression Results                  \n",
      "==============================================================================\n",
      "Dep. Variable:              Converted   No. Observations:                 7392\n",
      "Model:                            GLM   Df Residuals:                     7376\n",
      "Model Family:                Binomial   Df Model:                           15\n",
      "Link Function:                  logit   Scale:                          1.0000\n",
      "Method:                          IRLS   Log-Likelihood:                -3473.8\n",
      "Date:                Mon, 14 Jun 2021   Deviance:                       6947.5\n",
      "Time:                        22:38:27   Pearson chi2:                 9.06e+03\n",
      "No. Iterations:                    21                                         \n",
      "Covariance Type:            nonrobust                                         \n",
      "========================================================================================================================\n",
      "                                                           coef    std err          z      P>|z|      [0.025      0.975]\n",
      "------------------------------------------------------------------------------------------------------------------------\n",
      "const                                                   -1.4350      0.896     -1.601      0.109      -3.192       0.322\n",
      "Do Not Email                                            -1.3744      0.143     -9.578      0.000      -1.656      -1.093\n",
      "TotalVisits                                              4.1534      1.193      3.482      0.000       1.815       6.492\n",
      "Total Time Spent on Website                              4.5380      0.144     31.427      0.000       4.255       4.821\n",
      "Lead Origin_Lead Add Form                                4.0475      0.190     21.260      0.000       3.674       4.421\n",
      "Lead Source_Olark Chat                                   0.8668      0.091      9.511      0.000       0.688       1.045\n",
      "Lead Source_Referral Sites                              -0.6645      0.301     -2.208      0.027      -1.254      -0.075\n",
      "Lead Source_Welingak Website                             2.1373      0.740      2.887      0.004       0.686       3.588\n",
      "Lead Source_google                                     -21.4483   2.45e+04     -0.001      0.999   -4.81e+04    4.81e+04\n",
      "Specialization_Hospitality Management                   -0.6291      0.278     -2.267      0.023      -1.173      -0.085\n",
      "Specialization_Retail Management                        -0.4413      0.297     -1.487      0.137      -1.023       0.140\n",
      "What is your current occupation_Housewife               21.9436   1.48e+04      0.001      0.999    -2.9e+04    2.91e+04\n",
      "What is your current occupation_Other                   -0.5929      1.095     -0.541      0.588      -2.739       1.553\n",
      "What is your current occupation_Student                 -0.5557      0.914     -0.608      0.543      -2.348       1.237\n",
      "What is your current occupation_Unemployed              -0.7035      0.894     -0.787      0.431      -2.456       1.049\n",
      "What is your current occupation_Working Professional     2.0665      0.908      2.275      0.023       0.286       3.847\n",
      "========================================================================================================================\n"
     ]
    }
   ],
   "source": [
    "#  Training the model\n",
    "import statsmodels.api as sm\n",
    "\n",
    "x_train_sm  =  sm.add_constant(x_train)\n",
    "log_1 = sm.GLM(y_train,x_train_sm,family=sm.families.Binomial())\n",
    "model_1 = log_1.fit()\n",
    "print(model_1.summary())"
   ]
  },
  {
   "cell_type": "code",
   "execution_count": 57,
   "metadata": {
    "colab": {
     "base_uri": "https://localhost:8080/",
     "height": 491
    },
    "id": "4YmLt_cZPIwQ",
    "outputId": "a77979d5-4396-431e-b07e-0a7a08186320"
   },
   "outputs": [
    {
     "data": {
      "text/html": [
       "<div>\n",
       "<style scoped>\n",
       "    .dataframe tbody tr th:only-of-type {\n",
       "        vertical-align: middle;\n",
       "    }\n",
       "\n",
       "    .dataframe tbody tr th {\n",
       "        vertical-align: top;\n",
       "    }\n",
       "\n",
       "    .dataframe thead th {\n",
       "        text-align: right;\n",
       "    }\n",
       "</style>\n",
       "<table border=\"1\" class=\"dataframe\">\n",
       "  <thead>\n",
       "    <tr style=\"text-align: right;\">\n",
       "      <th></th>\n",
       "      <th>Features</th>\n",
       "      <th>VIF</th>\n",
       "    </tr>\n",
       "  </thead>\n",
       "  <tbody>\n",
       "    <tr>\n",
       "      <th>13</th>\n",
       "      <td>What is your current occupation_Unemployed</td>\n",
       "      <td>4.02</td>\n",
       "    </tr>\n",
       "    <tr>\n",
       "      <th>2</th>\n",
       "      <td>Total Time Spent on Website</td>\n",
       "      <td>2.24</td>\n",
       "    </tr>\n",
       "    <tr>\n",
       "      <th>1</th>\n",
       "      <td>TotalVisits</td>\n",
       "      <td>2.16</td>\n",
       "    </tr>\n",
       "    <tr>\n",
       "      <th>4</th>\n",
       "      <td>Lead Source_Olark Chat</td>\n",
       "      <td>1.73</td>\n",
       "    </tr>\n",
       "    <tr>\n",
       "      <th>3</th>\n",
       "      <td>Lead Origin_Lead Add Form</td>\n",
       "      <td>1.59</td>\n",
       "    </tr>\n",
       "    <tr>\n",
       "      <th>14</th>\n",
       "      <td>What is your current occupation_Working Profes...</td>\n",
       "      <td>1.44</td>\n",
       "    </tr>\n",
       "    <tr>\n",
       "      <th>6</th>\n",
       "      <td>Lead Source_Welingak Website</td>\n",
       "      <td>1.26</td>\n",
       "    </tr>\n",
       "    <tr>\n",
       "      <th>0</th>\n",
       "      <td>Do Not Email</td>\n",
       "      <td>1.10</td>\n",
       "    </tr>\n",
       "    <tr>\n",
       "      <th>12</th>\n",
       "      <td>What is your current occupation_Student</td>\n",
       "      <td>1.08</td>\n",
       "    </tr>\n",
       "    <tr>\n",
       "      <th>5</th>\n",
       "      <td>Lead Source_Referral Sites</td>\n",
       "      <td>1.02</td>\n",
       "    </tr>\n",
       "    <tr>\n",
       "      <th>8</th>\n",
       "      <td>Specialization_Hospitality Management</td>\n",
       "      <td>1.02</td>\n",
       "    </tr>\n",
       "    <tr>\n",
       "      <th>9</th>\n",
       "      <td>Specialization_Retail Management</td>\n",
       "      <td>1.02</td>\n",
       "    </tr>\n",
       "    <tr>\n",
       "      <th>10</th>\n",
       "      <td>What is your current occupation_Housewife</td>\n",
       "      <td>1.01</td>\n",
       "    </tr>\n",
       "    <tr>\n",
       "      <th>11</th>\n",
       "      <td>What is your current occupation_Other</td>\n",
       "      <td>1.01</td>\n",
       "    </tr>\n",
       "    <tr>\n",
       "      <th>7</th>\n",
       "      <td>Lead Source_google</td>\n",
       "      <td>1.00</td>\n",
       "    </tr>\n",
       "  </tbody>\n",
       "</table>\n",
       "</div>"
      ],
      "text/plain": [
       "                                             Features   VIF\n",
       "13         What is your current occupation_Unemployed  4.02\n",
       "2                         Total Time Spent on Website  2.24\n",
       "1                                         TotalVisits  2.16\n",
       "4                              Lead Source_Olark Chat  1.73\n",
       "3                           Lead Origin_Lead Add Form  1.59\n",
       "14  What is your current occupation_Working Profes...  1.44\n",
       "6                        Lead Source_Welingak Website  1.26\n",
       "0                                        Do Not Email  1.10\n",
       "12            What is your current occupation_Student  1.08\n",
       "5                          Lead Source_Referral Sites  1.02\n",
       "8               Specialization_Hospitality Management  1.02\n",
       "9                    Specialization_Retail Management  1.02\n",
       "10          What is your current occupation_Housewife  1.01\n",
       "11              What is your current occupation_Other  1.01\n",
       "7                                  Lead Source_google  1.00"
      ]
     },
     "execution_count": 57,
     "metadata": {},
     "output_type": "execute_result"
    }
   ],
   "source": [
    "# Calculating the VIF\n",
    "VIF(x_train)"
   ]
  },
  {
   "cell_type": "markdown",
   "metadata": {
    "id": "ZoyOxZByPp6y"
   },
   "source": [
    "### Second model"
   ]
  },
  {
   "cell_type": "markdown",
   "metadata": {
    "id": "Zl6x8Md45zAG"
   },
   "source": [
    " Dropping the column 'What is your current occupation_Unemployed' as it has high p value."
   ]
  },
  {
   "cell_type": "code",
   "execution_count": 58,
   "metadata": {
    "id": "Vx7SG1fKPaUe"
   },
   "outputs": [],
   "source": [
    "# Dropping the column 'What is your current occupation_Unemployed'\n",
    "cols = cols.drop('What is your current occupation_Unemployed')\n",
    "x_train = x_train[cols]"
   ]
  },
  {
   "cell_type": "code",
   "execution_count": 59,
   "metadata": {
    "colab": {
     "base_uri": "https://localhost:8080/"
    },
    "id": "QwRfKEEq6Bj3",
    "outputId": "37898c06-fab0-4d2d-938c-64e0e9d82c90"
   },
   "outputs": [
    {
     "name": "stdout",
     "output_type": "stream",
     "text": [
      "                 Generalized Linear Model Regression Results                  \n",
      "==============================================================================\n",
      "Dep. Variable:              Converted   No. Observations:                 7392\n",
      "Model:                            GLM   Df Residuals:                     7377\n",
      "Model Family:                Binomial   Df Model:                           14\n",
      "Link Function:                  logit   Scale:                          1.0000\n",
      "Method:                          IRLS   Log-Likelihood:                -3474.1\n",
      "Date:                Mon, 14 Jun 2021   Deviance:                       6948.1\n",
      "Time:                        22:38:28   Pearson chi2:                 9.06e+03\n",
      "No. Iterations:                    21                                         \n",
      "Covariance Type:            nonrobust                                         \n",
      "========================================================================================================================\n",
      "                                                           coef    std err          z      P>|z|      [0.025      0.975]\n",
      "------------------------------------------------------------------------------------------------------------------------\n",
      "const                                                   -2.1383      0.069    -31.198      0.000      -2.273      -2.004\n",
      "Do Not Email                                            -1.3754      0.144     -9.584      0.000      -1.657      -1.094\n",
      "TotalVisits                                              4.1679      1.194      3.491      0.000       1.828       6.508\n",
      "Total Time Spent on Website                              4.5389      0.144     31.437      0.000       4.256       4.822\n",
      "Lead Origin_Lead Add Form                                4.0495      0.190     21.272      0.000       3.676       4.423\n",
      "Lead Source_Olark Chat                                   0.8672      0.091      9.515      0.000       0.689       1.046\n",
      "Lead Source_Referral Sites                              -0.6655      0.301     -2.211      0.027      -1.255      -0.076\n",
      "Lead Source_Welingak Website                             2.1354      0.740      2.885      0.004       0.685       3.586\n",
      "Lead Source_google                                     -21.4491   2.45e+04     -0.001      0.999   -4.81e+04    4.81e+04\n",
      "Specialization_Hospitality Management                   -0.6301      0.278     -2.270      0.023      -1.174      -0.086\n",
      "Specialization_Retail Management                        -0.4421      0.297     -1.490      0.136      -1.024       0.139\n",
      "What is your current occupation_Housewife               22.6463   1.48e+04      0.002      0.999    -2.9e+04    2.91e+04\n",
      "What is your current occupation_Other                    0.1095      0.634      0.173      0.863      -1.132       1.351\n",
      "What is your current occupation_Student                  0.1471      0.195      0.753      0.452      -0.236       0.530\n",
      "What is your current occupation_Working Professional     2.7694      0.164     16.850      0.000       2.447       3.091\n",
      "========================================================================================================================\n"
     ]
    }
   ],
   "source": [
    "# Training the second model\n",
    "x_train_sm  =  sm.add_constant(x_train)\n",
    "log_2 = sm.GLM(y_train,x_train_sm,family=sm.families.Binomial())\n",
    "model_2 = log_2.fit()\n",
    "print(model_2.summary())"
   ]
  },
  {
   "cell_type": "markdown",
   "metadata": {
    "id": "azAiwPTI6byj"
   },
   "source": [
    "Calculating the VIF"
   ]
  },
  {
   "cell_type": "code",
   "execution_count": 60,
   "metadata": {
    "colab": {
     "base_uri": "https://localhost:8080/",
     "height": 465
    },
    "id": "B7RfbSn3P677",
    "outputId": "fd8d8822-f126-40ac-ce99-43b995228c50"
   },
   "outputs": [
    {
     "data": {
      "text/html": [
       "<div>\n",
       "<style scoped>\n",
       "    .dataframe tbody tr th:only-of-type {\n",
       "        vertical-align: middle;\n",
       "    }\n",
       "\n",
       "    .dataframe tbody tr th {\n",
       "        vertical-align: top;\n",
       "    }\n",
       "\n",
       "    .dataframe thead th {\n",
       "        text-align: right;\n",
       "    }\n",
       "</style>\n",
       "<table border=\"1\" class=\"dataframe\">\n",
       "  <thead>\n",
       "    <tr style=\"text-align: right;\">\n",
       "      <th></th>\n",
       "      <th>Features</th>\n",
       "      <th>VIF</th>\n",
       "    </tr>\n",
       "  </thead>\n",
       "  <tbody>\n",
       "    <tr>\n",
       "      <th>2</th>\n",
       "      <td>Total Time Spent on Website</td>\n",
       "      <td>1.58</td>\n",
       "    </tr>\n",
       "    <tr>\n",
       "      <th>1</th>\n",
       "      <td>TotalVisits</td>\n",
       "      <td>1.56</td>\n",
       "    </tr>\n",
       "    <tr>\n",
       "      <th>3</th>\n",
       "      <td>Lead Origin_Lead Add Form</td>\n",
       "      <td>1.38</td>\n",
       "    </tr>\n",
       "    <tr>\n",
       "      <th>6</th>\n",
       "      <td>Lead Source_Welingak Website</td>\n",
       "      <td>1.26</td>\n",
       "    </tr>\n",
       "    <tr>\n",
       "      <th>13</th>\n",
       "      <td>What is your current occupation_Working Profes...</td>\n",
       "      <td>1.18</td>\n",
       "    </tr>\n",
       "    <tr>\n",
       "      <th>0</th>\n",
       "      <td>Do Not Email</td>\n",
       "      <td>1.06</td>\n",
       "    </tr>\n",
       "    <tr>\n",
       "      <th>4</th>\n",
       "      <td>Lead Source_Olark Chat</td>\n",
       "      <td>1.02</td>\n",
       "    </tr>\n",
       "    <tr>\n",
       "      <th>5</th>\n",
       "      <td>Lead Source_Referral Sites</td>\n",
       "      <td>1.02</td>\n",
       "    </tr>\n",
       "    <tr>\n",
       "      <th>8</th>\n",
       "      <td>Specialization_Hospitality Management</td>\n",
       "      <td>1.02</td>\n",
       "    </tr>\n",
       "    <tr>\n",
       "      <th>12</th>\n",
       "      <td>What is your current occupation_Student</td>\n",
       "      <td>1.02</td>\n",
       "    </tr>\n",
       "    <tr>\n",
       "      <th>9</th>\n",
       "      <td>Specialization_Retail Management</td>\n",
       "      <td>1.01</td>\n",
       "    </tr>\n",
       "    <tr>\n",
       "      <th>10</th>\n",
       "      <td>What is your current occupation_Housewife</td>\n",
       "      <td>1.01</td>\n",
       "    </tr>\n",
       "    <tr>\n",
       "      <th>7</th>\n",
       "      <td>Lead Source_google</td>\n",
       "      <td>1.00</td>\n",
       "    </tr>\n",
       "    <tr>\n",
       "      <th>11</th>\n",
       "      <td>What is your current occupation_Other</td>\n",
       "      <td>1.00</td>\n",
       "    </tr>\n",
       "  </tbody>\n",
       "</table>\n",
       "</div>"
      ],
      "text/plain": [
       "                                             Features   VIF\n",
       "2                         Total Time Spent on Website  1.58\n",
       "1                                         TotalVisits  1.56\n",
       "3                           Lead Origin_Lead Add Form  1.38\n",
       "6                        Lead Source_Welingak Website  1.26\n",
       "13  What is your current occupation_Working Profes...  1.18\n",
       "0                                        Do Not Email  1.06\n",
       "4                              Lead Source_Olark Chat  1.02\n",
       "5                          Lead Source_Referral Sites  1.02\n",
       "8               Specialization_Hospitality Management  1.02\n",
       "12            What is your current occupation_Student  1.02\n",
       "9                    Specialization_Retail Management  1.01\n",
       "10          What is your current occupation_Housewife  1.01\n",
       "7                                  Lead Source_google  1.00\n",
       "11              What is your current occupation_Other  1.00"
      ]
     },
     "execution_count": 60,
     "metadata": {},
     "output_type": "execute_result"
    }
   ],
   "source": [
    "# Calculating the VIF\n",
    "VIF(x_train)"
   ]
  },
  {
   "cell_type": "markdown",
   "metadata": {
    "id": "3hf0E_WG7fyU"
   },
   "source": [
    "### Third Model"
   ]
  },
  {
   "cell_type": "markdown",
   "metadata": {
    "id": "brd28TjANE3F"
   },
   "source": [
    " Dropping the column 'Lead Source_google' as it has high p value."
   ]
  },
  {
   "cell_type": "code",
   "execution_count": 61,
   "metadata": {
    "id": "K94Leo0LM5G7"
   },
   "outputs": [],
   "source": [
    "# Dropping the column 'Lead Source_google'\n",
    "cols = cols.drop('Lead Source_google')\n",
    "x_train = x_train[cols]"
   ]
  },
  {
   "cell_type": "code",
   "execution_count": 62,
   "metadata": {
    "colab": {
     "base_uri": "https://localhost:8080/"
    },
    "id": "E_ZjXyrSM5PR",
    "outputId": "806e32f7-34f2-42db-b57e-2594bfa78625"
   },
   "outputs": [
    {
     "name": "stdout",
     "output_type": "stream",
     "text": [
      "                 Generalized Linear Model Regression Results                  \n",
      "==============================================================================\n",
      "Dep. Variable:              Converted   No. Observations:                 7392\n",
      "Model:                            GLM   Df Residuals:                     7378\n",
      "Model Family:                Binomial   Df Model:                           13\n",
      "Link Function:                  logit   Scale:                          1.0000\n",
      "Method:                          IRLS   Log-Likelihood:                -3475.0\n",
      "Date:                Mon, 14 Jun 2021   Deviance:                       6950.0\n",
      "Time:                        22:38:28   Pearson chi2:                 9.07e+03\n",
      "No. Iterations:                    21                                         \n",
      "Covariance Type:            nonrobust                                         \n",
      "========================================================================================================================\n",
      "                                                           coef    std err          z      P>|z|      [0.025      0.975]\n",
      "------------------------------------------------------------------------------------------------------------------------\n",
      "const                                                   -2.1389      0.069    -31.209      0.000      -2.273      -2.005\n",
      "Do Not Email                                            -1.3758      0.143     -9.590      0.000      -1.657      -1.095\n",
      "TotalVisits                                              4.1623      1.193      3.488      0.000       1.823       6.501\n",
      "Total Time Spent on Website                              4.5386      0.144     31.440      0.000       4.256       4.822\n",
      "Lead Origin_Lead Add Form                                4.0501      0.190     21.275      0.000       3.677       4.423\n",
      "Lead Source_Olark Chat                                   0.8679      0.091      9.522      0.000       0.689       1.047\n",
      "Lead Source_Referral Sites                              -0.6646      0.301     -2.208      0.027      -1.255      -0.075\n",
      "Lead Source_Welingak Website                             2.1355      0.740      2.885      0.004       0.685       3.586\n",
      "Specialization_Hospitality Management                   -0.6293      0.278     -2.267      0.023      -1.173      -0.085\n",
      "Specialization_Retail Management                        -0.4413      0.297     -1.488      0.137      -1.023       0.140\n",
      "What is your current occupation_Housewife               22.6469   1.48e+04      0.002      0.999    -2.9e+04    2.91e+04\n",
      "What is your current occupation_Other                    0.1105      0.634      0.174      0.862      -1.131       1.352\n",
      "What is your current occupation_Student                  0.1477      0.195      0.756      0.450      -0.235       0.531\n",
      "What is your current occupation_Working Professional     2.7700      0.164     16.854      0.000       2.448       3.092\n",
      "========================================================================================================================\n"
     ]
    }
   ],
   "source": [
    "# Training the second model\n",
    "x_train_sm  =  sm.add_constant(x_train)\n",
    "log_3 = sm.GLM(y_train,x_train_sm,family=sm.families.Binomial())\n",
    "model_3 = log_3.fit()\n",
    "print(model_3.summary())"
   ]
  },
  {
   "cell_type": "code",
   "execution_count": 63,
   "metadata": {
    "colab": {
     "base_uri": "https://localhost:8080/",
     "height": 432
    },
    "id": "S6L-kpYjM5SB",
    "outputId": "1f977bdc-9d2e-458b-abd2-33e8450dacc1"
   },
   "outputs": [
    {
     "data": {
      "text/html": [
       "<div>\n",
       "<style scoped>\n",
       "    .dataframe tbody tr th:only-of-type {\n",
       "        vertical-align: middle;\n",
       "    }\n",
       "\n",
       "    .dataframe tbody tr th {\n",
       "        vertical-align: top;\n",
       "    }\n",
       "\n",
       "    .dataframe thead th {\n",
       "        text-align: right;\n",
       "    }\n",
       "</style>\n",
       "<table border=\"1\" class=\"dataframe\">\n",
       "  <thead>\n",
       "    <tr style=\"text-align: right;\">\n",
       "      <th></th>\n",
       "      <th>Features</th>\n",
       "      <th>VIF</th>\n",
       "    </tr>\n",
       "  </thead>\n",
       "  <tbody>\n",
       "    <tr>\n",
       "      <th>2</th>\n",
       "      <td>Total Time Spent on Website</td>\n",
       "      <td>1.58</td>\n",
       "    </tr>\n",
       "    <tr>\n",
       "      <th>1</th>\n",
       "      <td>TotalVisits</td>\n",
       "      <td>1.56</td>\n",
       "    </tr>\n",
       "    <tr>\n",
       "      <th>3</th>\n",
       "      <td>Lead Origin_Lead Add Form</td>\n",
       "      <td>1.38</td>\n",
       "    </tr>\n",
       "    <tr>\n",
       "      <th>6</th>\n",
       "      <td>Lead Source_Welingak Website</td>\n",
       "      <td>1.26</td>\n",
       "    </tr>\n",
       "    <tr>\n",
       "      <th>12</th>\n",
       "      <td>What is your current occupation_Working Profes...</td>\n",
       "      <td>1.18</td>\n",
       "    </tr>\n",
       "    <tr>\n",
       "      <th>0</th>\n",
       "      <td>Do Not Email</td>\n",
       "      <td>1.06</td>\n",
       "    </tr>\n",
       "    <tr>\n",
       "      <th>4</th>\n",
       "      <td>Lead Source_Olark Chat</td>\n",
       "      <td>1.02</td>\n",
       "    </tr>\n",
       "    <tr>\n",
       "      <th>5</th>\n",
       "      <td>Lead Source_Referral Sites</td>\n",
       "      <td>1.02</td>\n",
       "    </tr>\n",
       "    <tr>\n",
       "      <th>7</th>\n",
       "      <td>Specialization_Hospitality Management</td>\n",
       "      <td>1.02</td>\n",
       "    </tr>\n",
       "    <tr>\n",
       "      <th>11</th>\n",
       "      <td>What is your current occupation_Student</td>\n",
       "      <td>1.02</td>\n",
       "    </tr>\n",
       "    <tr>\n",
       "      <th>8</th>\n",
       "      <td>Specialization_Retail Management</td>\n",
       "      <td>1.01</td>\n",
       "    </tr>\n",
       "    <tr>\n",
       "      <th>9</th>\n",
       "      <td>What is your current occupation_Housewife</td>\n",
       "      <td>1.01</td>\n",
       "    </tr>\n",
       "    <tr>\n",
       "      <th>10</th>\n",
       "      <td>What is your current occupation_Other</td>\n",
       "      <td>1.00</td>\n",
       "    </tr>\n",
       "  </tbody>\n",
       "</table>\n",
       "</div>"
      ],
      "text/plain": [
       "                                             Features   VIF\n",
       "2                         Total Time Spent on Website  1.58\n",
       "1                                         TotalVisits  1.56\n",
       "3                           Lead Origin_Lead Add Form  1.38\n",
       "6                        Lead Source_Welingak Website  1.26\n",
       "12  What is your current occupation_Working Profes...  1.18\n",
       "0                                        Do Not Email  1.06\n",
       "4                              Lead Source_Olark Chat  1.02\n",
       "5                          Lead Source_Referral Sites  1.02\n",
       "7               Specialization_Hospitality Management  1.02\n",
       "11            What is your current occupation_Student  1.02\n",
       "8                    Specialization_Retail Management  1.01\n",
       "9           What is your current occupation_Housewife  1.01\n",
       "10              What is your current occupation_Other  1.00"
      ]
     },
     "execution_count": 63,
     "metadata": {},
     "output_type": "execute_result"
    }
   ],
   "source": [
    "# Calculating the VIF\n",
    "VIF(x_train)"
   ]
  },
  {
   "cell_type": "markdown",
   "metadata": {
    "id": "o_6fvspqspC5"
   },
   "source": [
    "### Fourth Model"
   ]
  },
  {
   "cell_type": "markdown",
   "metadata": {
    "id": "gAHwfckUNhW4"
   },
   "source": [
    " Dropping the column 'What is your current occupation_Housewife' as it has high p value."
   ]
  },
  {
   "cell_type": "code",
   "execution_count": 64,
   "metadata": {
    "id": "02ati04bM5Ux"
   },
   "outputs": [],
   "source": [
    "# Dropping the column 'What is your current occupation_Housewife'\n",
    "cols = cols.drop('What is your current occupation_Housewife')\n",
    "x_train = x_train[cols]"
   ]
  },
  {
   "cell_type": "code",
   "execution_count": 65,
   "metadata": {
    "colab": {
     "base_uri": "https://localhost:8080/"
    },
    "id": "Y7u2xKiuM5Xl",
    "outputId": "82caadae-ac9c-463c-fb41-d34ed48d40e8"
   },
   "outputs": [
    {
     "name": "stdout",
     "output_type": "stream",
     "text": [
      "                 Generalized Linear Model Regression Results                  \n",
      "==============================================================================\n",
      "Dep. Variable:              Converted   No. Observations:                 7392\n",
      "Model:                            GLM   Df Residuals:                     7379\n",
      "Model Family:                Binomial   Df Model:                           12\n",
      "Link Function:                  logit   Scale:                          1.0000\n",
      "Method:                          IRLS   Log-Likelihood:                -3479.6\n",
      "Date:                Mon, 14 Jun 2021   Deviance:                       6959.2\n",
      "Time:                        22:38:28   Pearson chi2:                 9.09e+03\n",
      "No. Iterations:                     7                                         \n",
      "Covariance Type:            nonrobust                                         \n",
      "========================================================================================================================\n",
      "                                                           coef    std err          z      P>|z|      [0.025      0.975]\n",
      "------------------------------------------------------------------------------------------------------------------------\n",
      "const                                                   -2.1335      0.068    -31.186      0.000      -2.268      -1.999\n",
      "Do Not Email                                            -1.3788      0.143     -9.610      0.000      -1.660      -1.098\n",
      "TotalVisits                                              4.1323      1.191      3.469      0.001       1.798       6.467\n",
      "Total Time Spent on Website                              4.5338      0.144     31.425      0.000       4.251       4.817\n",
      "Lead Origin_Lead Add Form                                4.0583      0.190     21.347      0.000       3.686       4.431\n",
      "Lead Source_Olark Chat                                   0.8628      0.091      9.476      0.000       0.684       1.041\n",
      "Lead Source_Referral Sites                              -0.6670      0.301     -2.217      0.027      -1.257      -0.077\n",
      "Lead Source_Welingak Website                             2.1228      0.740      2.868      0.004       0.672       3.574\n",
      "Specialization_Hospitality Management                   -0.6321      0.278     -2.277      0.023      -1.176      -0.088\n",
      "Specialization_Retail Management                        -0.4433      0.297     -1.494      0.135      -1.025       0.138\n",
      "What is your current occupation_Other                    0.1088      0.634      0.172      0.864      -1.133       1.351\n",
      "What is your current occupation_Student                  0.1451      0.195      0.742      0.458      -0.238       0.528\n",
      "What is your current occupation_Working Professional     2.7671      0.164     16.837      0.000       2.445       3.089\n",
      "========================================================================================================================\n"
     ]
    }
   ],
   "source": [
    "# Training the model\n",
    "x_train_sm  =  sm.add_constant(x_train)\n",
    "log_4 = sm.GLM(y_train,x_train_sm,family=sm.families.Binomial())\n",
    "model_4 = log_4.fit()\n",
    "print(model_4.summary())"
   ]
  },
  {
   "cell_type": "code",
   "execution_count": 66,
   "metadata": {
    "colab": {
     "base_uri": "https://localhost:8080/",
     "height": 402
    },
    "id": "81E59JjYM5Zu",
    "outputId": "a51e2684-7787-4977-f9aa-45d5927f495d"
   },
   "outputs": [
    {
     "data": {
      "text/html": [
       "<div>\n",
       "<style scoped>\n",
       "    .dataframe tbody tr th:only-of-type {\n",
       "        vertical-align: middle;\n",
       "    }\n",
       "\n",
       "    .dataframe tbody tr th {\n",
       "        vertical-align: top;\n",
       "    }\n",
       "\n",
       "    .dataframe thead th {\n",
       "        text-align: right;\n",
       "    }\n",
       "</style>\n",
       "<table border=\"1\" class=\"dataframe\">\n",
       "  <thead>\n",
       "    <tr style=\"text-align: right;\">\n",
       "      <th></th>\n",
       "      <th>Features</th>\n",
       "      <th>VIF</th>\n",
       "    </tr>\n",
       "  </thead>\n",
       "  <tbody>\n",
       "    <tr>\n",
       "      <th>2</th>\n",
       "      <td>Total Time Spent on Website</td>\n",
       "      <td>1.58</td>\n",
       "    </tr>\n",
       "    <tr>\n",
       "      <th>1</th>\n",
       "      <td>TotalVisits</td>\n",
       "      <td>1.56</td>\n",
       "    </tr>\n",
       "    <tr>\n",
       "      <th>3</th>\n",
       "      <td>Lead Origin_Lead Add Form</td>\n",
       "      <td>1.37</td>\n",
       "    </tr>\n",
       "    <tr>\n",
       "      <th>6</th>\n",
       "      <td>Lead Source_Welingak Website</td>\n",
       "      <td>1.25</td>\n",
       "    </tr>\n",
       "    <tr>\n",
       "      <th>11</th>\n",
       "      <td>What is your current occupation_Working Profes...</td>\n",
       "      <td>1.18</td>\n",
       "    </tr>\n",
       "    <tr>\n",
       "      <th>0</th>\n",
       "      <td>Do Not Email</td>\n",
       "      <td>1.06</td>\n",
       "    </tr>\n",
       "    <tr>\n",
       "      <th>4</th>\n",
       "      <td>Lead Source_Olark Chat</td>\n",
       "      <td>1.02</td>\n",
       "    </tr>\n",
       "    <tr>\n",
       "      <th>5</th>\n",
       "      <td>Lead Source_Referral Sites</td>\n",
       "      <td>1.02</td>\n",
       "    </tr>\n",
       "    <tr>\n",
       "      <th>7</th>\n",
       "      <td>Specialization_Hospitality Management</td>\n",
       "      <td>1.02</td>\n",
       "    </tr>\n",
       "    <tr>\n",
       "      <th>10</th>\n",
       "      <td>What is your current occupation_Student</td>\n",
       "      <td>1.02</td>\n",
       "    </tr>\n",
       "    <tr>\n",
       "      <th>8</th>\n",
       "      <td>Specialization_Retail Management</td>\n",
       "      <td>1.01</td>\n",
       "    </tr>\n",
       "    <tr>\n",
       "      <th>9</th>\n",
       "      <td>What is your current occupation_Other</td>\n",
       "      <td>1.00</td>\n",
       "    </tr>\n",
       "  </tbody>\n",
       "</table>\n",
       "</div>"
      ],
      "text/plain": [
       "                                             Features   VIF\n",
       "2                         Total Time Spent on Website  1.58\n",
       "1                                         TotalVisits  1.56\n",
       "3                           Lead Origin_Lead Add Form  1.37\n",
       "6                        Lead Source_Welingak Website  1.25\n",
       "11  What is your current occupation_Working Profes...  1.18\n",
       "0                                        Do Not Email  1.06\n",
       "4                              Lead Source_Olark Chat  1.02\n",
       "5                          Lead Source_Referral Sites  1.02\n",
       "7               Specialization_Hospitality Management  1.02\n",
       "10            What is your current occupation_Student  1.02\n",
       "8                    Specialization_Retail Management  1.01\n",
       "9               What is your current occupation_Other  1.00"
      ]
     },
     "execution_count": 66,
     "metadata": {},
     "output_type": "execute_result"
    }
   ],
   "source": [
    "# Calculating the VIF\n",
    "VIF(x_train)"
   ]
  },
  {
   "cell_type": "markdown",
   "metadata": {
    "id": "z1vS-Qx579aH"
   },
   "source": [
    "### Fifth model"
   ]
  },
  {
   "cell_type": "code",
   "execution_count": 67,
   "metadata": {
    "id": "8iuzS2Vz8HFr"
   },
   "outputs": [],
   "source": [
    "# Dropping the column 'What is your current occupation_Other'\n",
    "cols = cols.drop('What is your current occupation_Other')\n",
    "x_train = x_train[cols]"
   ]
  },
  {
   "cell_type": "code",
   "execution_count": 68,
   "metadata": {
    "colab": {
     "base_uri": "https://localhost:8080/"
    },
    "id": "C8lbQm2qOMuJ",
    "outputId": "6a90a0b0-88f1-45fc-fa18-3766749d3dc7"
   },
   "outputs": [
    {
     "name": "stdout",
     "output_type": "stream",
     "text": [
      "                 Generalized Linear Model Regression Results                  \n",
      "==============================================================================\n",
      "Dep. Variable:              Converted   No. Observations:                 7392\n",
      "Model:                            GLM   Df Residuals:                     7380\n",
      "Model Family:                Binomial   Df Model:                           11\n",
      "Link Function:                  logit   Scale:                          1.0000\n",
      "Method:                          IRLS   Log-Likelihood:                -3479.6\n",
      "Date:                Mon, 14 Jun 2021   Deviance:                       6959.2\n",
      "Time:                        22:38:28   Pearson chi2:                 9.09e+03\n",
      "No. Iterations:                     7                                         \n",
      "Covariance Type:            nonrobust                                         \n",
      "========================================================================================================================\n",
      "                                                           coef    std err          z      P>|z|      [0.025      0.975]\n",
      "------------------------------------------------------------------------------------------------------------------------\n",
      "const                                                   -2.1336      0.068    -31.187      0.000      -2.268      -2.000\n",
      "Do Not Email                                            -1.3786      0.143     -9.609      0.000      -1.660      -1.097\n",
      "TotalVisits                                              4.1372      1.191      3.474      0.001       1.803       6.472\n",
      "Total Time Spent on Website                              4.5347      0.144     31.453      0.000       4.252       4.817\n",
      "Lead Origin_Lead Add Form                                4.0587      0.190     21.351      0.000       3.686       4.431\n",
      "Lead Source_Olark Chat                                   0.8630      0.091      9.477      0.000       0.684       1.041\n",
      "Lead Source_Referral Sites                              -0.6674      0.301     -2.218      0.027      -1.257      -0.078\n",
      "Lead Source_Welingak Website                             2.1225      0.740      2.867      0.004       0.672       3.573\n",
      "Specialization_Hospitality Management                   -0.6325      0.278     -2.279      0.023      -1.177      -0.088\n",
      "Specialization_Retail Management                        -0.4437      0.297     -1.496      0.135      -1.025       0.138\n",
      "What is your current occupation_Student                  0.1448      0.195      0.741      0.459      -0.238       0.528\n",
      "What is your current occupation_Working Professional     2.7669      0.164     16.836      0.000       2.445       3.089\n",
      "========================================================================================================================\n"
     ]
    }
   ],
   "source": [
    "# Training the model\n",
    "x_train_sm  =  sm.add_constant(x_train)\n",
    "log_5 = sm.GLM(y_train,x_train_sm,family=sm.families.Binomial())\n",
    "model_5 = log_5.fit()\n",
    "print(model_5.summary())"
   ]
  },
  {
   "cell_type": "code",
   "execution_count": 69,
   "metadata": {
    "colab": {
     "base_uri": "https://localhost:8080/",
     "height": 375
    },
    "id": "E1-_wnXltG_P",
    "outputId": "0c186af5-4c85-4f2c-da10-c5cc8dc160f7"
   },
   "outputs": [
    {
     "data": {
      "text/html": [
       "<div>\n",
       "<style scoped>\n",
       "    .dataframe tbody tr th:only-of-type {\n",
       "        vertical-align: middle;\n",
       "    }\n",
       "\n",
       "    .dataframe tbody tr th {\n",
       "        vertical-align: top;\n",
       "    }\n",
       "\n",
       "    .dataframe thead th {\n",
       "        text-align: right;\n",
       "    }\n",
       "</style>\n",
       "<table border=\"1\" class=\"dataframe\">\n",
       "  <thead>\n",
       "    <tr style=\"text-align: right;\">\n",
       "      <th></th>\n",
       "      <th>Features</th>\n",
       "      <th>VIF</th>\n",
       "    </tr>\n",
       "  </thead>\n",
       "  <tbody>\n",
       "    <tr>\n",
       "      <th>2</th>\n",
       "      <td>Total Time Spent on Website</td>\n",
       "      <td>1.58</td>\n",
       "    </tr>\n",
       "    <tr>\n",
       "      <th>1</th>\n",
       "      <td>TotalVisits</td>\n",
       "      <td>1.56</td>\n",
       "    </tr>\n",
       "    <tr>\n",
       "      <th>3</th>\n",
       "      <td>Lead Origin_Lead Add Form</td>\n",
       "      <td>1.37</td>\n",
       "    </tr>\n",
       "    <tr>\n",
       "      <th>6</th>\n",
       "      <td>Lead Source_Welingak Website</td>\n",
       "      <td>1.25</td>\n",
       "    </tr>\n",
       "    <tr>\n",
       "      <th>10</th>\n",
       "      <td>What is your current occupation_Working Profes...</td>\n",
       "      <td>1.18</td>\n",
       "    </tr>\n",
       "    <tr>\n",
       "      <th>0</th>\n",
       "      <td>Do Not Email</td>\n",
       "      <td>1.06</td>\n",
       "    </tr>\n",
       "    <tr>\n",
       "      <th>4</th>\n",
       "      <td>Lead Source_Olark Chat</td>\n",
       "      <td>1.02</td>\n",
       "    </tr>\n",
       "    <tr>\n",
       "      <th>5</th>\n",
       "      <td>Lead Source_Referral Sites</td>\n",
       "      <td>1.02</td>\n",
       "    </tr>\n",
       "    <tr>\n",
       "      <th>7</th>\n",
       "      <td>Specialization_Hospitality Management</td>\n",
       "      <td>1.02</td>\n",
       "    </tr>\n",
       "    <tr>\n",
       "      <th>9</th>\n",
       "      <td>What is your current occupation_Student</td>\n",
       "      <td>1.02</td>\n",
       "    </tr>\n",
       "    <tr>\n",
       "      <th>8</th>\n",
       "      <td>Specialization_Retail Management</td>\n",
       "      <td>1.01</td>\n",
       "    </tr>\n",
       "  </tbody>\n",
       "</table>\n",
       "</div>"
      ],
      "text/plain": [
       "                                             Features   VIF\n",
       "2                         Total Time Spent on Website  1.58\n",
       "1                                         TotalVisits  1.56\n",
       "3                           Lead Origin_Lead Add Form  1.37\n",
       "6                        Lead Source_Welingak Website  1.25\n",
       "10  What is your current occupation_Working Profes...  1.18\n",
       "0                                        Do Not Email  1.06\n",
       "4                              Lead Source_Olark Chat  1.02\n",
       "5                          Lead Source_Referral Sites  1.02\n",
       "7               Specialization_Hospitality Management  1.02\n",
       "9             What is your current occupation_Student  1.02\n",
       "8                    Specialization_Retail Management  1.01"
      ]
     },
     "execution_count": 69,
     "metadata": {},
     "output_type": "execute_result"
    }
   ],
   "source": [
    "# Calculating the VIF\n",
    "VIF(x_train)"
   ]
  },
  {
   "cell_type": "markdown",
   "metadata": {
    "id": "hrYCPtMUyG6G"
   },
   "source": [
    "### Sixth model"
   ]
  },
  {
   "cell_type": "code",
   "execution_count": 70,
   "metadata": {
    "id": "H-Ue72krOMxL"
   },
   "outputs": [],
   "source": [
    "# Dropping the column 'What is your current occupation_Student'\n",
    "cols = cols.drop('What is your current occupation_Student')\n",
    "x_train = x_train[cols]"
   ]
  },
  {
   "cell_type": "code",
   "execution_count": 71,
   "metadata": {
    "colab": {
     "base_uri": "https://localhost:8080/"
    },
    "id": "9KKwetBCOMzw",
    "outputId": "8a0bcd80-5b93-424f-ba68-7aa015eae33c"
   },
   "outputs": [
    {
     "name": "stdout",
     "output_type": "stream",
     "text": [
      "                 Generalized Linear Model Regression Results                  \n",
      "==============================================================================\n",
      "Dep. Variable:              Converted   No. Observations:                 7392\n",
      "Model:                            GLM   Df Residuals:                     7381\n",
      "Model Family:                Binomial   Df Model:                           10\n",
      "Link Function:                  logit   Scale:                          1.0000\n",
      "Method:                          IRLS   Log-Likelihood:                -3479.9\n",
      "Date:                Mon, 14 Jun 2021   Deviance:                       6959.7\n",
      "Time:                        22:38:28   Pearson chi2:                 9.10e+03\n",
      "No. Iterations:                     7                                         \n",
      "Covariance Type:            nonrobust                                         \n",
      "========================================================================================================================\n",
      "                                                           coef    std err          z      P>|z|      [0.025      0.975]\n",
      "------------------------------------------------------------------------------------------------------------------------\n",
      "const                                                   -2.1299      0.068    -31.234      0.000      -2.264      -1.996\n",
      "Do Not Email                                            -1.3779      0.143     -9.603      0.000      -1.659      -1.097\n",
      "TotalVisits                                              4.1186      1.190      3.462      0.001       1.787       6.450\n",
      "Total Time Spent on Website                              4.5348      0.144     31.453      0.000       4.252       4.817\n",
      "Lead Origin_Lead Add Form                                4.0611      0.190     21.370      0.000       3.689       4.434\n",
      "Lead Source_Olark Chat                                   0.8637      0.091      9.486      0.000       0.685       1.042\n",
      "Lead Source_Referral Sites                              -0.6701      0.301     -2.228      0.026      -1.260      -0.081\n",
      "Lead Source_Welingak Website                             2.1174      0.740      2.861      0.004       0.667       3.568\n",
      "Specialization_Hospitality Management                   -0.6329      0.277     -2.281      0.023      -1.177      -0.089\n",
      "Specialization_Retail Management                        -0.4417      0.297     -1.489      0.137      -1.023       0.140\n",
      "What is your current occupation_Working Professional     2.7634      0.164     16.822      0.000       2.441       3.085\n",
      "========================================================================================================================\n"
     ]
    }
   ],
   "source": [
    "# Training the model\n",
    "x_train_sm  =  sm.add_constant(x_train)\n",
    "log_6 = sm.GLM(y_train,x_train_sm,family=sm.families.Binomial())\n",
    "model_6 = log_6.fit()\n",
    "print(model_6.summary())"
   ]
  },
  {
   "cell_type": "code",
   "execution_count": 72,
   "metadata": {
    "colab": {
     "base_uri": "https://localhost:8080/",
     "height": 345
    },
    "id": "SdrCdtsVyPiK",
    "outputId": "b9453f01-6e4e-44ec-ea85-d853094861d9"
   },
   "outputs": [
    {
     "data": {
      "text/html": [
       "<div>\n",
       "<style scoped>\n",
       "    .dataframe tbody tr th:only-of-type {\n",
       "        vertical-align: middle;\n",
       "    }\n",
       "\n",
       "    .dataframe tbody tr th {\n",
       "        vertical-align: top;\n",
       "    }\n",
       "\n",
       "    .dataframe thead th {\n",
       "        text-align: right;\n",
       "    }\n",
       "</style>\n",
       "<table border=\"1\" class=\"dataframe\">\n",
       "  <thead>\n",
       "    <tr style=\"text-align: right;\">\n",
       "      <th></th>\n",
       "      <th>Features</th>\n",
       "      <th>VIF</th>\n",
       "    </tr>\n",
       "  </thead>\n",
       "  <tbody>\n",
       "    <tr>\n",
       "      <th>2</th>\n",
       "      <td>Total Time Spent on Website</td>\n",
       "      <td>1.57</td>\n",
       "    </tr>\n",
       "    <tr>\n",
       "      <th>1</th>\n",
       "      <td>TotalVisits</td>\n",
       "      <td>1.56</td>\n",
       "    </tr>\n",
       "    <tr>\n",
       "      <th>3</th>\n",
       "      <td>Lead Origin_Lead Add Form</td>\n",
       "      <td>1.36</td>\n",
       "    </tr>\n",
       "    <tr>\n",
       "      <th>6</th>\n",
       "      <td>Lead Source_Welingak Website</td>\n",
       "      <td>1.25</td>\n",
       "    </tr>\n",
       "    <tr>\n",
       "      <th>9</th>\n",
       "      <td>What is your current occupation_Working Profes...</td>\n",
       "      <td>1.18</td>\n",
       "    </tr>\n",
       "    <tr>\n",
       "      <th>0</th>\n",
       "      <td>Do Not Email</td>\n",
       "      <td>1.06</td>\n",
       "    </tr>\n",
       "    <tr>\n",
       "      <th>5</th>\n",
       "      <td>Lead Source_Referral Sites</td>\n",
       "      <td>1.02</td>\n",
       "    </tr>\n",
       "    <tr>\n",
       "      <th>7</th>\n",
       "      <td>Specialization_Hospitality Management</td>\n",
       "      <td>1.02</td>\n",
       "    </tr>\n",
       "    <tr>\n",
       "      <th>4</th>\n",
       "      <td>Lead Source_Olark Chat</td>\n",
       "      <td>1.01</td>\n",
       "    </tr>\n",
       "    <tr>\n",
       "      <th>8</th>\n",
       "      <td>Specialization_Retail Management</td>\n",
       "      <td>1.01</td>\n",
       "    </tr>\n",
       "  </tbody>\n",
       "</table>\n",
       "</div>"
      ],
      "text/plain": [
       "                                            Features   VIF\n",
       "2                        Total Time Spent on Website  1.57\n",
       "1                                        TotalVisits  1.56\n",
       "3                          Lead Origin_Lead Add Form  1.36\n",
       "6                       Lead Source_Welingak Website  1.25\n",
       "9  What is your current occupation_Working Profes...  1.18\n",
       "0                                       Do Not Email  1.06\n",
       "5                         Lead Source_Referral Sites  1.02\n",
       "7              Specialization_Hospitality Management  1.02\n",
       "4                             Lead Source_Olark Chat  1.01\n",
       "8                   Specialization_Retail Management  1.01"
      ]
     },
     "execution_count": 72,
     "metadata": {},
     "output_type": "execute_result"
    }
   ],
   "source": [
    "# Calculating the VIF\n",
    "VIF(x_train)"
   ]
  },
  {
   "cell_type": "markdown",
   "metadata": {
    "id": "h52_tFNRyakz"
   },
   "source": [
    "### Seventh model"
   ]
  },
  {
   "cell_type": "code",
   "execution_count": 73,
   "metadata": {
    "id": "pyUzeKLpOM2F"
   },
   "outputs": [],
   "source": [
    "# Dropping the column 'Specialization_Rural and Agribusiness'\n",
    "cols = cols.drop('Specialization_Retail Management')\n",
    "x_train = x_train[cols]"
   ]
  },
  {
   "cell_type": "code",
   "execution_count": 74,
   "metadata": {
    "colab": {
     "base_uri": "https://localhost:8080/"
    },
    "id": "VXlxqIv7OM4t",
    "outputId": "bb9a3a1c-e7c2-4d65-e77b-33c2f1797467"
   },
   "outputs": [
    {
     "name": "stdout",
     "output_type": "stream",
     "text": [
      "                 Generalized Linear Model Regression Results                  \n",
      "==============================================================================\n",
      "Dep. Variable:              Converted   No. Observations:                 7392\n",
      "Model:                            GLM   Df Residuals:                     7382\n",
      "Model Family:                Binomial   Df Model:                            9\n",
      "Link Function:                  logit   Scale:                          1.0000\n",
      "Method:                          IRLS   Log-Likelihood:                -3481.0\n",
      "Date:                Mon, 14 Jun 2021   Deviance:                       6962.0\n",
      "Time:                        22:38:29   Pearson chi2:                 9.10e+03\n",
      "No. Iterations:                     7                                         \n",
      "Covariance Type:            nonrobust                                         \n",
      "========================================================================================================================\n",
      "                                                           coef    std err          z      P>|z|      [0.025      0.975]\n",
      "------------------------------------------------------------------------------------------------------------------------\n",
      "const                                                   -2.1330      0.068    -31.324      0.000      -2.266      -2.000\n",
      "Do Not Email                                            -1.3815      0.143     -9.634      0.000      -1.663      -1.100\n",
      "TotalVisits                                              4.0958      1.185      3.457      0.001       1.774       6.418\n",
      "Total Time Spent on Website                              4.5290      0.144     31.442      0.000       4.247       4.811\n",
      "Lead Origin_Lead Add Form                                4.0630      0.190     21.381      0.000       3.691       4.435\n",
      "Lead Source_Olark Chat                                   0.8665      0.091      9.521      0.000       0.688       1.045\n",
      "Lead Source_Referral Sites                              -0.6639      0.301     -2.208      0.027      -1.253      -0.075\n",
      "Lead Source_Welingak Website                             2.1197      0.740      2.864      0.004       0.669       3.570\n",
      "Specialization_Hospitality Management                   -0.6263      0.277     -2.258      0.024      -1.170      -0.083\n",
      "What is your current occupation_Working Professional     2.7579      0.164     16.800      0.000       2.436       3.080\n",
      "========================================================================================================================\n"
     ]
    }
   ],
   "source": [
    "# Training the model\n",
    "x_train_sm  =  sm.add_constant(x_train)\n",
    "log_7 = sm.GLM(y_train,x_train_sm,family=sm.families.Binomial())\n",
    "model_7 = log_7.fit()\n",
    "print(model_7.summary())"
   ]
  },
  {
   "cell_type": "code",
   "execution_count": 75,
   "metadata": {
    "colab": {
     "base_uri": "https://localhost:8080/",
     "height": 314
    },
    "id": "AjVcSFY8OM9j",
    "outputId": "baaab453-7f0e-4bd8-830a-a5457cd63230"
   },
   "outputs": [
    {
     "data": {
      "text/html": [
       "<div>\n",
       "<style scoped>\n",
       "    .dataframe tbody tr th:only-of-type {\n",
       "        vertical-align: middle;\n",
       "    }\n",
       "\n",
       "    .dataframe tbody tr th {\n",
       "        vertical-align: top;\n",
       "    }\n",
       "\n",
       "    .dataframe thead th {\n",
       "        text-align: right;\n",
       "    }\n",
       "</style>\n",
       "<table border=\"1\" class=\"dataframe\">\n",
       "  <thead>\n",
       "    <tr style=\"text-align: right;\">\n",
       "      <th></th>\n",
       "      <th>Features</th>\n",
       "      <th>VIF</th>\n",
       "    </tr>\n",
       "  </thead>\n",
       "  <tbody>\n",
       "    <tr>\n",
       "      <th>2</th>\n",
       "      <td>Total Time Spent on Website</td>\n",
       "      <td>1.57</td>\n",
       "    </tr>\n",
       "    <tr>\n",
       "      <th>1</th>\n",
       "      <td>TotalVisits</td>\n",
       "      <td>1.56</td>\n",
       "    </tr>\n",
       "    <tr>\n",
       "      <th>3</th>\n",
       "      <td>Lead Origin_Lead Add Form</td>\n",
       "      <td>1.36</td>\n",
       "    </tr>\n",
       "    <tr>\n",
       "      <th>6</th>\n",
       "      <td>Lead Source_Welingak Website</td>\n",
       "      <td>1.25</td>\n",
       "    </tr>\n",
       "    <tr>\n",
       "      <th>8</th>\n",
       "      <td>What is your current occupation_Working Profes...</td>\n",
       "      <td>1.18</td>\n",
       "    </tr>\n",
       "    <tr>\n",
       "      <th>0</th>\n",
       "      <td>Do Not Email</td>\n",
       "      <td>1.06</td>\n",
       "    </tr>\n",
       "    <tr>\n",
       "      <th>5</th>\n",
       "      <td>Lead Source_Referral Sites</td>\n",
       "      <td>1.02</td>\n",
       "    </tr>\n",
       "    <tr>\n",
       "      <th>7</th>\n",
       "      <td>Specialization_Hospitality Management</td>\n",
       "      <td>1.02</td>\n",
       "    </tr>\n",
       "    <tr>\n",
       "      <th>4</th>\n",
       "      <td>Lead Source_Olark Chat</td>\n",
       "      <td>1.01</td>\n",
       "    </tr>\n",
       "  </tbody>\n",
       "</table>\n",
       "</div>"
      ],
      "text/plain": [
       "                                            Features   VIF\n",
       "2                        Total Time Spent on Website  1.57\n",
       "1                                        TotalVisits  1.56\n",
       "3                          Lead Origin_Lead Add Form  1.36\n",
       "6                       Lead Source_Welingak Website  1.25\n",
       "8  What is your current occupation_Working Profes...  1.18\n",
       "0                                       Do Not Email  1.06\n",
       "5                         Lead Source_Referral Sites  1.02\n",
       "7              Specialization_Hospitality Management  1.02\n",
       "4                             Lead Source_Olark Chat  1.01"
      ]
     },
     "execution_count": 75,
     "metadata": {},
     "output_type": "execute_result"
    }
   ],
   "source": [
    "# Calculating the VIF\n",
    "VIF(x_train)"
   ]
  },
  {
   "cell_type": "markdown",
   "metadata": {
    "id": "04ueX5MkUIlA"
   },
   "source": [
    "We can select this model as the variables are significant and has low VIF."
   ]
  },
  {
   "cell_type": "markdown",
   "metadata": {
    "id": "FqK1zkrs8gUx"
   },
   "source": [
    "## 5.Creating a prediction on train set"
   ]
  },
  {
   "cell_type": "code",
   "execution_count": 76,
   "metadata": {
    "id": "gO7JV-A2QzQR"
   },
   "outputs": [],
   "source": [
    "# Predicting the train dataset with our final model\n",
    "y_train_pred = model_7.predict(x_train_sm)\n",
    "\n",
    "# Reshaping to an array\n",
    "y_train_pred =  y_train_pred.values.reshape(-1)"
   ]
  },
  {
   "cell_type": "code",
   "execution_count": 77,
   "metadata": {
    "colab": {
     "base_uri": "https://localhost:8080/",
     "height": 196
    },
    "id": "aNzSx77zRuTQ",
    "outputId": "c3dfd70e-5a2f-4b5e-95e4-9152e5bc560f"
   },
   "outputs": [
    {
     "data": {
      "text/html": [
       "<div>\n",
       "<style scoped>\n",
       "    .dataframe tbody tr th:only-of-type {\n",
       "        vertical-align: middle;\n",
       "    }\n",
       "\n",
       "    .dataframe tbody tr th {\n",
       "        vertical-align: top;\n",
       "    }\n",
       "\n",
       "    .dataframe thead th {\n",
       "        text-align: right;\n",
       "    }\n",
       "</style>\n",
       "<table border=\"1\" class=\"dataframe\">\n",
       "  <thead>\n",
       "    <tr style=\"text-align: right;\">\n",
       "      <th></th>\n",
       "      <th>churn</th>\n",
       "      <th>churn_proba</th>\n",
       "    </tr>\n",
       "  </thead>\n",
       "  <tbody>\n",
       "    <tr>\n",
       "      <th>587</th>\n",
       "      <td>0</td>\n",
       "      <td>0.108023</td>\n",
       "    </tr>\n",
       "    <tr>\n",
       "      <th>8290</th>\n",
       "      <td>1</td>\n",
       "      <td>0.219854</td>\n",
       "    </tr>\n",
       "    <tr>\n",
       "      <th>1106</th>\n",
       "      <td>1</td>\n",
       "      <td>0.288474</td>\n",
       "    </tr>\n",
       "    <tr>\n",
       "      <th>2591</th>\n",
       "      <td>0</td>\n",
       "      <td>0.187495</td>\n",
       "    </tr>\n",
       "    <tr>\n",
       "      <th>6146</th>\n",
       "      <td>0</td>\n",
       "      <td>0.044665</td>\n",
       "    </tr>\n",
       "  </tbody>\n",
       "</table>\n",
       "</div>"
      ],
      "text/plain": [
       "      churn  churn_proba\n",
       "587       0     0.108023\n",
       "8290      1     0.219854\n",
       "1106      1     0.288474\n",
       "2591      0     0.187495\n",
       "6146      0     0.044665"
      ]
     },
     "execution_count": 77,
     "metadata": {},
     "output_type": "execute_result"
    }
   ],
   "source": [
    "# Creating a new dataset and saving predicted values in it\n",
    "\n",
    "y_train_pred_final = pd.DataFrame({'churn':y_train,\n",
    "                                   'churn_proba': y_train_pred})\n",
    "y_train_pred_final.head()"
   ]
  },
  {
   "cell_type": "code",
   "execution_count": 78,
   "metadata": {
    "colab": {
     "base_uri": "https://localhost:8080/",
     "height": 196
    },
    "id": "mYhOWxU0Ru0o",
    "outputId": "09752010-9972-4c19-fb6f-75b7db58575c"
   },
   "outputs": [
    {
     "data": {
      "text/html": [
       "<div>\n",
       "<style scoped>\n",
       "    .dataframe tbody tr th:only-of-type {\n",
       "        vertical-align: middle;\n",
       "    }\n",
       "\n",
       "    .dataframe tbody tr th {\n",
       "        vertical-align: top;\n",
       "    }\n",
       "\n",
       "    .dataframe thead th {\n",
       "        text-align: right;\n",
       "    }\n",
       "</style>\n",
       "<table border=\"1\" class=\"dataframe\">\n",
       "  <thead>\n",
       "    <tr style=\"text-align: right;\">\n",
       "      <th></th>\n",
       "      <th>churn</th>\n",
       "      <th>churn_proba</th>\n",
       "      <th>predicted</th>\n",
       "    </tr>\n",
       "  </thead>\n",
       "  <tbody>\n",
       "    <tr>\n",
       "      <th>587</th>\n",
       "      <td>0</td>\n",
       "      <td>0.108023</td>\n",
       "      <td>0</td>\n",
       "    </tr>\n",
       "    <tr>\n",
       "      <th>8290</th>\n",
       "      <td>1</td>\n",
       "      <td>0.219854</td>\n",
       "      <td>0</td>\n",
       "    </tr>\n",
       "    <tr>\n",
       "      <th>1106</th>\n",
       "      <td>1</td>\n",
       "      <td>0.288474</td>\n",
       "      <td>0</td>\n",
       "    </tr>\n",
       "    <tr>\n",
       "      <th>2591</th>\n",
       "      <td>0</td>\n",
       "      <td>0.187495</td>\n",
       "      <td>0</td>\n",
       "    </tr>\n",
       "    <tr>\n",
       "      <th>6146</th>\n",
       "      <td>0</td>\n",
       "      <td>0.044665</td>\n",
       "      <td>0</td>\n",
       "    </tr>\n",
       "  </tbody>\n",
       "</table>\n",
       "</div>"
      ],
      "text/plain": [
       "      churn  churn_proba  predicted\n",
       "587       0     0.108023          0\n",
       "8290      1     0.219854          0\n",
       "1106      1     0.288474          0\n",
       "2591      0     0.187495          0\n",
       "6146      0     0.044665          0"
      ]
     },
     "execution_count": 78,
     "metadata": {},
     "output_type": "execute_result"
    }
   ],
   "source": [
    "# Substituting 0 or 1 with the cut off as 0.5 in the varaible 'predicted' for the values of predicted probablility.\n",
    "y_train_pred_final['predicted'] = y_train_pred_final['churn_proba'].map(lambda x: 1 if x>0.5 else 0)\n",
    "y_train_pred_final.head()"
   ]
  },
  {
   "cell_type": "markdown",
   "metadata": {
    "id": "FvZ3uR1D_B0i"
   },
   "source": [
    "### Model evaluation"
   ]
  },
  {
   "cell_type": "code",
   "execution_count": 79,
   "metadata": {
    "id": "E98ZgXEVRu3j"
   },
   "outputs": [],
   "source": [
    "from sklearn.metrics import accuracy_score\n",
    "from sklearn.metrics import confusion_matrix\n",
    "from sklearn.metrics import classification_report\n",
    "from sklearn.metrics import roc_curve\n",
    "from sklearn.metrics import roc_auc_score\n",
    "from sklearn.metrics import precision_recall_curve"
   ]
  },
  {
   "cell_type": "code",
   "execution_count": 80,
   "metadata": {
    "colab": {
     "base_uri": "https://localhost:8080/"
    },
    "id": "f_wfCgUbSM5L",
    "outputId": "c7f19914-d80d-4725-c55d-91a36def3441"
   },
   "outputs": [
    {
     "name": "stdout",
     "output_type": "stream",
     "text": [
      "[[4021  544]\n",
      " [1039 1788]]\n"
     ]
    }
   ],
   "source": [
    "# Looking at the confusion matrix for the train set.\n",
    "confusion = confusion_matrix(y_train_pred_final.churn,y_train_pred_final.predicted)\n",
    "print(confusion)"
   ]
  },
  {
   "cell_type": "code",
   "execution_count": 81,
   "metadata": {
    "colab": {
     "base_uri": "https://localhost:8080/"
    },
    "id": "qZVSz87XSf05",
    "outputId": "2c9bfc21-5014-46c9-cec9-ef8973a87aa8"
   },
   "outputs": [
    {
     "data": {
      "text/plain": [
       "0.7858495670995671"
      ]
     },
     "execution_count": 81,
     "metadata": {},
     "output_type": "execute_result"
    }
   ],
   "source": [
    "# Looking at the accuracy score for the train dataset\n",
    "score = accuracy_score(y_train_pred_final.churn,y_train_pred_final.predicted)\n",
    "score"
   ]
  },
  {
   "cell_type": "markdown",
   "metadata": {
    "id": "nN-llIWjFB1S"
   },
   "source": [
    "With the current cut off as 0.5 we have an accuracy around 79%."
   ]
  },
  {
   "cell_type": "code",
   "execution_count": 82,
   "metadata": {
    "id": "o6Cp_GDsS_fi"
   },
   "outputs": [],
   "source": [
    "tp = confusion[1][1]  # true positives\n",
    "tn = confusion[0][0] # true negatives\n",
    "fp = confusion[0][1]  # false positives\n",
    "fn = confusion[1][0]  # false negatives"
   ]
  },
  {
   "cell_type": "code",
   "execution_count": 83,
   "metadata": {
    "colab": {
     "base_uri": "https://localhost:8080/"
    },
    "id": "Ywvzm254TIio",
    "outputId": "7ff7d6d2-7840-47cd-b94c-7fe7cf5adf33"
   },
   "outputs": [
    {
     "name": "stdout",
     "output_type": "stream",
     "text": [
      "Sensitivity : 0.63\n",
      "Specificity : 0.88\n"
     ]
    }
   ],
   "source": [
    "# Checking sensitivity and specificity of the train dataset.\n",
    "sensi  = tp/(tp+fn)\n",
    "print('Sensitivity',\":\",round(sensi,2))\n",
    "speci = tn/(tn+fp)\n",
    "print('Specificity',\":\",round(speci,2))"
   ]
  },
  {
   "cell_type": "markdown",
   "metadata": {
    "id": "B-RKMLDx9vz0"
   },
   "source": [
    "Looking at the sensitivity and specificity we can say that we need to set a different cutoff for the probability"
   ]
  },
  {
   "cell_type": "markdown",
   "metadata": {
    "id": "rr8cl5hWAdYo"
   },
   "source": [
    "### ROC curve"
   ]
  },
  {
   "cell_type": "code",
   "execution_count": 84,
   "metadata": {
    "id": "zu-dITP8TZrl"
   },
   "outputs": [],
   "source": [
    "def draw_roc( actual, probs ):\n",
    "    fpr, tpr, thresholds = roc_curve( actual, probs,\n",
    "                                              drop_intermediate = False )\n",
    "    auc_score = roc_auc_score( actual, probs )\n",
    "    plt.figure(figsize=(5, 5))\n",
    "    plt.plot( fpr, tpr, label='ROC curve (area = %0.2f)' % auc_score )\n",
    "    plt.plot([0, 1], [0, 1], 'k--')\n",
    "    plt.xlim([0.0, 1.0])\n",
    "    plt.ylim([0.0, 1.05])\n",
    "    plt.xlabel('False Positive Rate or [1 - True Negative Rate]')\n",
    "    plt.ylabel('True Positive Rate')\n",
    "    plt.title('Receiver operating characteristic example')\n",
    "    plt.legend(loc=\"lower right\")\n",
    "    plt.show()\n",
    "\n",
    "    return None"
   ]
  },
  {
   "cell_type": "code",
   "execution_count": 85,
   "metadata": {
    "colab": {
     "base_uri": "https://localhost:8080/",
     "height": 375
    },
    "id": "rLgzTQ0eThgi",
    "outputId": "3042bb6d-ed52-4be1-888a-11ff5a27d72a"
   },
   "outputs": [
    {
     "data": {
      "image/png": "[encoded data removed]",
      "text/plain": [
       "<Figure size 360x360 with 1 Axes>"
      ]
     },
     "metadata": {},
     "output_type": "display_data"
    }
   ],
   "source": [
    "# Plotting the curve\n",
    "draw_roc(y_train_pred_final.churn, y_train_pred_final.churn_proba)"
   ]
  },
  {
   "cell_type": "code",
   "execution_count": 86,
   "metadata": {
    "colab": {
     "base_uri": "https://localhost:8080/"
    },
    "id": "xPsW_4gaTpVV",
    "outputId": "636af29e-07b4-44fb-85d4-98bac1a689ff"
   },
   "outputs": [
    {
     "data": {
      "text/plain": [
       "0.8376434638447671"
      ]
     },
     "execution_count": 86,
     "metadata": {},
     "output_type": "execute_result"
    }
   ],
   "source": [
    "# Checking the roc score\n",
    "roc_score = roc_auc_score(y_train_pred_final['churn'],y_train_pred_final['churn_proba'])\n",
    "roc_score"
   ]
  },
  {
   "cell_type": "markdown",
   "metadata": {
    "id": "9BYPKueQFXMT"
   },
   "source": [
    "The area under ROC curve is 0.84 which is a very good value."
   ]
  },
  {
   "cell_type": "markdown",
   "metadata": {
    "id": "WGUK0ZQFB68g"
   },
   "source": [
    "Even though we selected the cutoff at random the roc score is pretty good."
   ]
  },
  {
   "cell_type": "markdown",
   "metadata": {
    "id": "mwviHzZbCLeL"
   },
   "source": [
    "We can plot the sensitivity VS specificity graph to check the optimum cutoff value."
   ]
  },
  {
   "cell_type": "markdown",
   "metadata": {
    "id": "Q8rV-frACfPC"
   },
   "source": [
    "### Sensitivity Vs specificity graph"
   ]
  },
  {
   "cell_type": "code",
   "execution_count": 87,
   "metadata": {
    "colab": {
     "base_uri": "https://localhost:8080/",
     "height": 195
    },
    "id": "YqzwtyJuUMma",
    "outputId": "818357cb-cb51-4b77-fee1-218aca41bf8c"
   },
   "outputs": [
    {
     "data": {
      "text/html": [
       "<div>\n",
       "<style scoped>\n",
       "    .dataframe tbody tr th:only-of-type {\n",
       "        vertical-align: middle;\n",
       "    }\n",
       "\n",
       "    .dataframe tbody tr th {\n",
       "        vertical-align: top;\n",
       "    }\n",
       "\n",
       "    .dataframe thead th {\n",
       "        text-align: right;\n",
       "    }\n",
       "</style>\n",
       "<table border=\"1\" class=\"dataframe\">\n",
       "  <thead>\n",
       "    <tr style=\"text-align: right;\">\n",
       "      <th></th>\n",
       "      <th>prob</th>\n",
       "      <th>accuracy</th>\n",
       "      <th>sensi</th>\n",
       "      <th>speci</th>\n",
       "    </tr>\n",
       "  </thead>\n",
       "  <tbody>\n",
       "    <tr>\n",
       "      <th>0.0</th>\n",
       "      <td>0.0</td>\n",
       "      <td>0.38</td>\n",
       "      <td>1.00</td>\n",
       "      <td>0.00</td>\n",
       "    </tr>\n",
       "    <tr>\n",
       "      <th>0.1</th>\n",
       "      <td>0.1</td>\n",
       "      <td>0.44</td>\n",
       "      <td>0.99</td>\n",
       "      <td>0.10</td>\n",
       "    </tr>\n",
       "    <tr>\n",
       "      <th>0.2</th>\n",
       "      <td>0.2</td>\n",
       "      <td>0.64</td>\n",
       "      <td>0.90</td>\n",
       "      <td>0.48</td>\n",
       "    </tr>\n",
       "    <tr>\n",
       "      <th>0.3</th>\n",
       "      <td>0.3</td>\n",
       "      <td>0.79</td>\n",
       "      <td>0.75</td>\n",
       "      <td>0.82</td>\n",
       "    </tr>\n",
       "    <tr>\n",
       "      <th>0.4</th>\n",
       "      <td>0.4</td>\n",
       "      <td>0.80</td>\n",
       "      <td>0.71</td>\n",
       "      <td>0.86</td>\n",
       "    </tr>\n",
       "  </tbody>\n",
       "</table>\n",
       "</div>"
      ],
      "text/plain": [
       "     prob  accuracy  sensi  speci\n",
       "0.0   0.0      0.38   1.00   0.00\n",
       "0.1   0.1      0.44   0.99   0.10\n",
       "0.2   0.2      0.64   0.90   0.48\n",
       "0.3   0.3      0.79   0.75   0.82\n",
       "0.4   0.4      0.80   0.71   0.86"
      ]
     },
     "execution_count": 87,
     "metadata": {},
     "output_type": "execute_result"
    }
   ],
   "source": [
    "'''Creating a dataframe to see the values of accuracy, sensitivity, and \n",
    "   specificity at different values of probabiity cutoffs'''\n",
    "cuttoff_df = pd.DataFrame(columns=['prob','accuracy','sensi','speci'])\n",
    "\n",
    "# Making confusing matrix to find values of sensitivity, accurace and specificity for each level of probablity\n",
    "num = [0.0,0.1,0.2,0.3,0.4,0.5,0.6,0.7,0.8,0.9]\n",
    "for i in num:\n",
    "  y_train_pred_final[i] = y_train_pred_final.churn_proba.map(lambda x : 1 if x >i else  0 )\n",
    "  con = confusion_matrix(y_train_pred_final.churn,y_train_pred_final[i])\n",
    "  tn  = con[0][0]\n",
    "  fp = con[0][1]\n",
    "  tp = con[1][1]\n",
    "  fn = con[1][0]\n",
    "  prob = i\n",
    "  accuracy =round((tp+tn)/(tp+tn+fp+fn),2)\n",
    "  sensi = round((tp /(tp+fn)),2)\n",
    "  speci = round((tn / (tn+fp)),2)\n",
    "  cuttoff_df.loc[i] =[i,accuracy,sensi,speci] \n",
    "\n",
    "  \n",
    "\n",
    "cuttoff_df.head()"
   ]
  },
  {
   "cell_type": "code",
   "execution_count": 88,
   "metadata": {
    "colab": {
     "base_uri": "https://localhost:8080/",
     "height": 301
    },
    "id": "JrEMptkuUhGh",
    "outputId": "005eed76-18b2-48a0-83d0-45b4ba70f2c7"
   },
   "outputs": [
    {
     "data": {
      "image/png": "[encoded data removed]",
      "text/plain": [
       "<Figure size 432x288 with 1 Axes>"
      ]
     },
     "metadata": {},
     "output_type": "display_data"
    }
   ],
   "source": [
    "# Plotting it\n",
    "cuttoff_df.plot.line(x = 'prob' ,y= ['accuracy','sensi','speci'])\n",
    "plt.show()"
   ]
  },
  {
   "cell_type": "markdown",
   "metadata": {
    "id": "2OS4KWxsARXx"
   },
   "source": [
    "### Precision vs Recall graph"
   ]
  },
  {
   "cell_type": "code",
   "execution_count": 89,
   "metadata": {
    "colab": {
     "base_uri": "https://localhost:8080/",
     "height": 279
    },
    "id": "az0Irew80U-p",
    "outputId": "b3c5c5b8-7fdb-41c1-f856-7c917d00ffb7"
   },
   "outputs": [
    {
     "data": {
      "image/png": "[encoded data removed]",
      "text/plain": [
       "<Figure size 432x288 with 1 Axes>"
      ]
     },
     "metadata": {},
     "output_type": "display_data"
    }
   ],
   "source": [
    "# Precision vs recall graph\n",
    "p,r,thresh = precision_recall_curve(y_train_pred_final.churn,y_train_pred_final.churn_proba)\n",
    "plt.plot(thresh,p[:-1],'g-')\n",
    "plt.plot(thresh,r[:-1],'r-')\n",
    "plt.show()"
   ]
  },
  {
   "cell_type": "markdown",
   "metadata": {
    "id": "zTIr4CIV0bu5"
   },
   "source": [
    "### Tuning the model"
   ]
  },
  {
   "cell_type": "markdown",
   "metadata": {
    "id": "X7Pb1LsEGOVI"
   },
   "source": [
    "From the graph it is visible that the optimal cut off is at 0.25"
   ]
  },
  {
   "cell_type": "code",
   "execution_count": 90,
   "metadata": {
    "id": "OoVVXLA5GieJ"
   },
   "outputs": [],
   "source": [
    "y_train_pred_final['predicted'] = y_train_pred_final['churn_proba'].map(lambda x: 1 if x>0.25 else 0)"
   ]
  },
  {
   "cell_type": "code",
   "execution_count": 91,
   "metadata": {
    "colab": {
     "base_uri": "https://localhost:8080/"
    },
    "id": "SJZlfdWWGqk_",
    "outputId": "a4cb1c85-a4c6-4f9f-d8da-b633f460e470"
   },
   "outputs": [
    {
     "name": "stdout",
     "output_type": "stream",
     "text": [
      "[[3570  995]\n",
      " [ 636 2191]]\n"
     ]
    }
   ],
   "source": [
    "# Looking at the confusion matrix for the train set.\n",
    "confusion = confusion_matrix(y_train_pred_final.churn,y_train_pred_final.predicted)\n",
    "print(confusion)"
   ]
  },
  {
   "cell_type": "code",
   "execution_count": 92,
   "metadata": {
    "colab": {
     "base_uri": "https://localhost:8080/"
    },
    "id": "xvDxHRMnGqnu",
    "outputId": "3428b059-0b28-44dd-ad06-031b4d744388"
   },
   "outputs": [
    {
     "data": {
      "text/plain": [
       "0.7793560606060606"
      ]
     },
     "execution_count": 92,
     "metadata": {},
     "output_type": "execute_result"
    }
   ],
   "source": [
    "# Looking at the accuracy score for the train dataset\n",
    "score = accuracy_score(y_train_pred_final.churn,y_train_pred_final.predicted)\n",
    "score"
   ]
  },
  {
   "cell_type": "markdown",
   "metadata": {
    "id": "Q5rn4Ntw_D6w"
   },
   "source": [
    "We have an accuracy of 0.78 on the train set which is good."
   ]
  },
  {
   "cell_type": "code",
   "execution_count": 93,
   "metadata": {
    "id": "AQtt2plMGqqf"
   },
   "outputs": [],
   "source": [
    "\n",
    "tp = confusion[1][1]  # true positives\n",
    "tn = confusion[0][0] # true negatives\n",
    "fp = confusion[0][1]  # false positives\n",
    "fn = confusion[1][0]  # false negatives"
   ]
  },
  {
   "cell_type": "code",
   "execution_count": 94,
   "metadata": {
    "colab": {
     "base_uri": "https://localhost:8080/"
    },
    "id": "Uq1nK2g_Gqtj",
    "outputId": "42101594-bb36-4fec-ebd2-f8ededdb0749"
   },
   "outputs": [
    {
     "name": "stdout",
     "output_type": "stream",
     "text": [
      "Sensitivity : 0.78\n",
      "Specificity : 0.78\n"
     ]
    }
   ],
   "source": [
    "# Checking sensitivity and specificity of the train dataset.\n",
    "sensi  = tp/(tp+fn)\n",
    "print('Sensitivity',\":\",round(sensi,2))\n",
    "speci = tn/(tn+fp)\n",
    "print('Specificity',\":\",round(speci,2))"
   ]
  },
  {
   "cell_type": "markdown",
   "metadata": {
    "id": "09QHTUjY1l5T"
   },
   "source": [
    "Here on the train set we have Sensitivity of .78 while the Specificity is 0.78 which is good."
   ]
  },
  {
   "cell_type": "markdown",
   "metadata": {
    "id": "BEnNw4NhVVxb"
   },
   "source": [
    "##  6.Creating prediction on the test set"
   ]
  },
  {
   "cell_type": "markdown",
   "metadata": {
    "id": "TcPaM7ws2CjI"
   },
   "source": [
    "### Scaling the test dataset"
   ]
  },
  {
   "cell_type": "code",
   "execution_count": 95,
   "metadata": {
    "id": "OQ7cnTwwIY3e"
   },
   "outputs": [],
   "source": [
    "x_test[['TotalVisits','Page Views Per Visit','Total Time Spent on Website']] = scaler.fit_transform(x_test[['TotalVisits', 'Page Views Per Visit', 'Total Time Spent on Website']])"
   ]
  },
  {
   "cell_type": "code",
   "execution_count": 96,
   "metadata": {
    "id": "0l4TLPYoVSIU"
   },
   "outputs": [],
   "source": [
    "x_test  = x_test[cols]"
   ]
  },
  {
   "cell_type": "markdown",
   "metadata": {
    "id": "iXf2Guo52Hu1"
   },
   "source": [
    "### Making predictions"
   ]
  },
  {
   "cell_type": "code",
   "execution_count": 97,
   "metadata": {
    "id": "4NEujC_KVZjW"
   },
   "outputs": [],
   "source": [
    "x_test_sm = sm.add_constant(x_test)\n",
    "y_test_pred = model_7.predict(x_test_sm)"
   ]
  },
  {
   "cell_type": "markdown",
   "metadata": {
    "id": "AQMdutOQ2PKX"
   },
   "source": [
    "### Model evaluation"
   ]
  },
  {
   "cell_type": "code",
   "execution_count": 98,
   "metadata": {
    "colab": {
     "base_uri": "https://localhost:8080/",
     "height": 195
    },
    "id": "zij1r_xGVgf9",
    "outputId": "99e2054c-5c8b-4d7f-9618-8df17a359610"
   },
   "outputs": [
    {
     "data": {
      "text/html": [
       "<div>\n",
       "<style scoped>\n",
       "    .dataframe tbody tr th:only-of-type {\n",
       "        vertical-align: middle;\n",
       "    }\n",
       "\n",
       "    .dataframe tbody tr th {\n",
       "        vertical-align: top;\n",
       "    }\n",
       "\n",
       "    .dataframe thead th {\n",
       "        text-align: right;\n",
       "    }\n",
       "</style>\n",
       "<table border=\"1\" class=\"dataframe\">\n",
       "  <thead>\n",
       "    <tr style=\"text-align: right;\">\n",
       "      <th></th>\n",
       "      <th>churn_proba</th>\n",
       "      <th>churn</th>\n",
       "      <th>predicted</th>\n",
       "    </tr>\n",
       "  </thead>\n",
       "  <tbody>\n",
       "    <tr>\n",
       "      <th>7131</th>\n",
       "      <td>0.198040</td>\n",
       "      <td>0</td>\n",
       "      <td>0</td>\n",
       "    </tr>\n",
       "    <tr>\n",
       "      <th>5974</th>\n",
       "      <td>0.143451</td>\n",
       "      <td>0</td>\n",
       "      <td>0</td>\n",
       "    </tr>\n",
       "    <tr>\n",
       "      <th>5587</th>\n",
       "      <td>0.219854</td>\n",
       "      <td>0</td>\n",
       "      <td>0</td>\n",
       "    </tr>\n",
       "    <tr>\n",
       "      <th>5607</th>\n",
       "      <td>0.148732</td>\n",
       "      <td>0</td>\n",
       "      <td>0</td>\n",
       "    </tr>\n",
       "    <tr>\n",
       "      <th>1193</th>\n",
       "      <td>0.660585</td>\n",
       "      <td>1</td>\n",
       "      <td>1</td>\n",
       "    </tr>\n",
       "  </tbody>\n",
       "</table>\n",
       "</div>"
      ],
      "text/plain": [
       "      churn_proba  churn  predicted\n",
       "7131     0.198040      0          0\n",
       "5974     0.143451      0          0\n",
       "5587     0.219854      0          0\n",
       "5607     0.148732      0          0\n",
       "1193     0.660585      1          1"
      ]
     },
     "execution_count": 98,
     "metadata": {},
     "output_type": "execute_result"
    }
   ],
   "source": [
    "# Creating a dataframe\n",
    "y_pred_1 = pd.DataFrame(y_test_pred)\n",
    "y_pred_1.rename(columns= {0:'churn_proba'},inplace= True)\n",
    "y_pred_1['churn'] = y_test\n",
    "# Predicting the outcomes with probability cutoff as 0.25 by creating new columns in the final test dataset\n",
    "y_pred_1['predicted'] = y_pred_1['churn_proba'].map(lambda x:1 if x>0.25 else 0)\n",
    "y_pred_1.head()"
   ]
  },
  {
   "cell_type": "code",
   "execution_count": 99,
   "metadata": {
    "colab": {
     "base_uri": "https://localhost:8080/"
    },
    "id": "Tdz9hNmZgDZd",
    "outputId": "100f4abe-2981-456b-d66f-a32a8e35d9d4"
   },
   "outputs": [
    {
     "name": "stdout",
     "output_type": "stream",
     "text": [
      "[[879 235]\n",
      " [164 570]]\n"
     ]
    }
   ],
   "source": [
    "# Looking at the confusion matrix for the test set.\n",
    "confusion = confusion_matrix(y_pred_1['churn'],y_pred_1['predicted'])\n",
    "print(confusion)"
   ]
  },
  {
   "cell_type": "code",
   "execution_count": 100,
   "metadata": {
    "colab": {
     "base_uri": "https://localhost:8080/"
    },
    "id": "BYRIBrri-gTB",
    "outputId": "1416136c-a1d2-4e08-b7ff-d10c1469d78a"
   },
   "outputs": [
    {
     "data": {
      "text/plain": [
       "0.7840909090909091"
      ]
     },
     "execution_count": 100,
     "metadata": {},
     "output_type": "execute_result"
    }
   ],
   "source": [
    "# Looking at the accuracy score for the train dataset\n",
    "score = accuracy_score(y_pred_1['churn'],y_pred_1['predicted'])\n",
    "score"
   ]
  },
  {
   "cell_type": "markdown",
   "metadata": {
    "id": "1fU7Nd97_5E4"
   },
   "source": [
    "Here on the test set we have an accuracy of .78 which is good."
   ]
  },
  {
   "cell_type": "code",
   "execution_count": 101,
   "metadata": {
    "id": "NImgzC1AgQBP"
   },
   "outputs": [],
   "source": [
    "tp = confusion[1][1]  # true positives\n",
    "tn = confusion[0][0]  # true negatives\n",
    "fp = confusion[0][1]  # false positives\n",
    "fn = confusion[1][0]  # false negatives"
   ]
  },
  {
   "cell_type": "code",
   "execution_count": 102,
   "metadata": {
    "colab": {
     "base_uri": "https://localhost:8080/"
    },
    "id": "cb_V1LzHgUBm",
    "outputId": "09ca0410-af57-42b6-d8da-4ff587ace2d3"
   },
   "outputs": [
    {
     "name": "stdout",
     "output_type": "stream",
     "text": [
      "Sensitivity : 0.78\n",
      "Specificity : 0.79\n"
     ]
    }
   ],
   "source": [
    "# Checking sensitivity and specificity of the test dataset.\n",
    "sensi  = tp/(tp+fn)\n",
    "print('Sensitivity',\":\",round(sensi,2))\n",
    "speci = tn/(tn+fp)\n",
    "print('Specificity',\":\",round(speci,2))"
   ]
  },
  {
   "cell_type": "markdown",
   "metadata": {
    "id": "niAazaaH4C6V"
   },
   "source": [
    "Here we have a Sensitivity of .78 and Specificity of .79 on the test set."
   ]
  },
  {
   "cell_type": "markdown",
   "metadata": {
    "id": "zGWWRx6x392d"
   },
   "source": [
    "### ROC curve"
   ]
  },
  {
   "cell_type": "code",
   "execution_count": 103,
   "metadata": {
    "id": "olgte1lFgV2T"
   },
   "outputs": [],
   "source": [
    "def draw_roc( actual, probs ):\n",
    "    fpr, tpr, thresholds = roc_curve( actual, probs,\n",
    "                                              drop_intermediate = False )\n",
    "    auc_score = roc_auc_score( actual, probs )\n",
    "    plt.figure(figsize=(5, 5))\n",
    "    plt.plot( fpr, tpr, label='ROC curve (area = %0.2f)' % auc_score )\n",
    "    plt.plot([0, 1], [0, 1], 'k--')\n",
    "    plt.xlim([0.0, 1.0])\n",
    "    plt.ylim([0.0, 1.05])\n",
    "    plt.xlabel('False Positive Rate or [1 - True Negative Rate]')\n",
    "    plt.ylabel('True Positive Rate')\n",
    "    plt.title('Receiver operating characteristic example')\n",
    "    plt.legend(loc=\"lower right\")\n",
    "    plt.show()\n",
    "\n",
    "    return None"
   ]
  },
  {
   "cell_type": "code",
   "execution_count": 104,
   "metadata": {
    "colab": {
     "base_uri": "https://localhost:8080/",
     "height": 375
    },
    "id": "MOI9GWmn4A05",
    "outputId": "740660ff-252c-4532-d73d-3cb2785b5681"
   },
   "outputs": [
    {
     "data": {
      "image/png": "[encoded data removed]",
      "text/plain": [
       "<Figure size 360x360 with 1 Axes>"
      ]
     },
     "metadata": {},
     "output_type": "display_data"
    }
   ],
   "source": [
    "# Plotting the curve\n",
    "draw_roc(y_pred_1['churn'],y_pred_1['churn_proba'])"
   ]
  },
  {
   "cell_type": "code",
   "execution_count": 105,
   "metadata": {
    "colab": {
     "base_uri": "https://localhost:8080/"
    },
    "id": "arPJYNAc4IoQ",
    "outputId": "bd3e72d1-3b66-4451-b17c-d139f2f337a0"
   },
   "outputs": [
    {
     "data": {
      "text/plain": [
       "0.8388726096889232"
      ]
     },
     "execution_count": 105,
     "metadata": {},
     "output_type": "execute_result"
    }
   ],
   "source": [
    "# Checking the roc score\n",
    "roc_score = roc_auc_score(y_pred_1['churn'],y_pred_1['churn_proba'])\n",
    "roc_score"
   ]
  },
  {
   "cell_type": "markdown",
   "metadata": {
    "id": "qHrgB2nl4N5Q"
   },
   "source": [
    "Here we a roc socre of .84 which is good."
   ]
  },
  {
   "cell_type": "markdown",
   "metadata": {
    "id": "Q8_In7sE4bQf"
   },
   "source": [
    "### Sensitivity Vs specificity graph"
   ]
  },
  {
   "cell_type": "code",
   "execution_count": 106,
   "metadata": {
    "colab": {
     "base_uri": "https://localhost:8080/",
     "height": 195
    },
    "id": "9xrHbi49AghQ",
    "outputId": "e604b018-08d5-415a-f48b-55c2d70925b3"
   },
   "outputs": [
    {
     "data": {
      "text/html": [
       "<div>\n",
       "<style scoped>\n",
       "    .dataframe tbody tr th:only-of-type {\n",
       "        vertical-align: middle;\n",
       "    }\n",
       "\n",
       "    .dataframe tbody tr th {\n",
       "        vertical-align: top;\n",
       "    }\n",
       "\n",
       "    .dataframe thead th {\n",
       "        text-align: right;\n",
       "    }\n",
       "</style>\n",
       "<table border=\"1\" class=\"dataframe\">\n",
       "  <thead>\n",
       "    <tr style=\"text-align: right;\">\n",
       "      <th></th>\n",
       "      <th>prob</th>\n",
       "      <th>accuracy</th>\n",
       "      <th>sensi</th>\n",
       "      <th>speci</th>\n",
       "    </tr>\n",
       "  </thead>\n",
       "  <tbody>\n",
       "    <tr>\n",
       "      <th>0.0</th>\n",
       "      <td>0.0</td>\n",
       "      <td>0.40</td>\n",
       "      <td>1.00</td>\n",
       "      <td>0.00</td>\n",
       "    </tr>\n",
       "    <tr>\n",
       "      <th>0.1</th>\n",
       "      <td>0.1</td>\n",
       "      <td>0.45</td>\n",
       "      <td>0.99</td>\n",
       "      <td>0.09</td>\n",
       "    </tr>\n",
       "    <tr>\n",
       "      <th>0.2</th>\n",
       "      <td>0.2</td>\n",
       "      <td>0.66</td>\n",
       "      <td>0.90</td>\n",
       "      <td>0.50</td>\n",
       "    </tr>\n",
       "    <tr>\n",
       "      <th>0.3</th>\n",
       "      <td>0.3</td>\n",
       "      <td>0.80</td>\n",
       "      <td>0.76</td>\n",
       "      <td>0.83</td>\n",
       "    </tr>\n",
       "    <tr>\n",
       "      <th>0.4</th>\n",
       "      <td>0.4</td>\n",
       "      <td>0.80</td>\n",
       "      <td>0.71</td>\n",
       "      <td>0.86</td>\n",
       "    </tr>\n",
       "  </tbody>\n",
       "</table>\n",
       "</div>"
      ],
      "text/plain": [
       "     prob  accuracy  sensi  speci\n",
       "0.0   0.0      0.40   1.00   0.00\n",
       "0.1   0.1      0.45   0.99   0.09\n",
       "0.2   0.2      0.66   0.90   0.50\n",
       "0.3   0.3      0.80   0.76   0.83\n",
       "0.4   0.4      0.80   0.71   0.86"
      ]
     },
     "execution_count": 106,
     "metadata": {},
     "output_type": "execute_result"
    }
   ],
   "source": [
    "'''Creating a dataframe to see the values of accuracy, sensitivity, and specificity \n",
    "    at different values of probabiity cutoffs'''\n",
    "cuttoff_df = pd.DataFrame(columns=['prob','accuracy','sensi','speci'])\n",
    "\n",
    "# Making confusing matrix to find values of sensitivity, accurace and specificity for each level of probablity\n",
    "num = [0.0,0.1,0.2,0.3,0.4,0.5,0.6,0.7,0.8,0.9]\n",
    "for i in num:\n",
    "  y_pred_1[i] =y_pred_1['churn_proba'].map(lambda x : 1 if x >i else  0 )\n",
    "  con = confusion_matrix(y_pred_1['churn'],y_pred_1[i])\n",
    "  tn  = con[0][0]\n",
    "  fp = con[0][1]\n",
    "  tp = con[1][1]\n",
    "  fn = con[1][0]\n",
    "  prob = i\n",
    "  accuracy =round((tp+tn)/(tp+tn+fp+fn),2)\n",
    "  sensi = round((tp /(tp+fn)),2)\n",
    "  speci = round((tn / (tn+fp)),2)\n",
    "  cuttoff_df.loc[i] =[i,accuracy,sensi,speci] \n",
    "\n",
    "  \n",
    "\n",
    "cuttoff_df.head()"
   ]
  },
  {
   "cell_type": "code",
   "execution_count": 107,
   "metadata": {
    "colab": {
     "base_uri": "https://localhost:8080/",
     "height": 301
    },
    "id": "lP1fcYfcBRku",
    "outputId": "0d483871-22c2-423c-e64c-0794499e28e1"
   },
   "outputs": [
    {
     "data": {
      "image/png": "[encoded data removed]",
      "text/plain": [
       "<Figure size 432x288 with 1 Axes>"
      ]
     },
     "metadata": {},
     "output_type": "display_data"
    }
   ],
   "source": [
    "# Plotting it\n",
    "cuttoff_df.plot.line(x = 'prob' ,y= ['accuracy','sensi','speci'])\n",
    "plt.show()"
   ]
  },
  {
   "cell_type": "markdown",
   "metadata": {
    "id": "267EfXYKBfEL"
   },
   "source": [
    "### Precision vs Recall graph"
   ]
  },
  {
   "cell_type": "code",
   "execution_count": 108,
   "metadata": {
    "colab": {
     "base_uri": "https://localhost:8080/",
     "height": 279
    },
    "id": "3rNgGRIC4Lkx",
    "outputId": "169148f2-e921-44b5-8bc3-128d69b78848"
   },
   "outputs": [
    {
     "data": {
      "image/png": "[encoded data removed]",
      "text/plain": [
       "<Figure size 432x288 with 1 Axes>"
      ]
     },
     "metadata": {},
     "output_type": "display_data"
    }
   ],
   "source": [
    "# Precision vs recall graph\n",
    "p,r,thresh = precision_recall_curve(y_pred_1['churn'],y_pred_1['churn_proba'])\n",
    "plt.plot(thresh,p[:-1],'g-')\n",
    "plt.plot(thresh,r[:-1],'r-')\n",
    "plt.show()"
   ]
  },
  {
   "cell_type": "markdown",
   "metadata": {
    "id": "KkjI4OdmsZe1"
   },
   "source": [
    "###Creating Score for hot leads"
   ]
  },
  {
   "cell_type": "code",
   "execution_count": 109,
   "metadata": {
    "colab": {
     "base_uri": "https://localhost:8080/",
     "height": 195
    },
    "id": "HXAhqDqQskzY",
    "outputId": "8e55a168-5301-4ba0-9daa-6f8921111e62"
   },
   "outputs": [
    {
     "data": {
      "text/html": [
       "<div>\n",
       "<style scoped>\n",
       "    .dataframe tbody tr th:only-of-type {\n",
       "        vertical-align: middle;\n",
       "    }\n",
       "\n",
       "    .dataframe tbody tr th {\n",
       "        vertical-align: top;\n",
       "    }\n",
       "\n",
       "    .dataframe thead th {\n",
       "        text-align: right;\n",
       "    }\n",
       "</style>\n",
       "<table border=\"1\" class=\"dataframe\">\n",
       "  <thead>\n",
       "    <tr style=\"text-align: right;\">\n",
       "      <th></th>\n",
       "      <th>Probablity</th>\n",
       "      <th>Predicted</th>\n",
       "      <th>Score</th>\n",
       "    </tr>\n",
       "  </thead>\n",
       "  <tbody>\n",
       "    <tr>\n",
       "      <th>7131</th>\n",
       "      <td>0.198040</td>\n",
       "      <td>0</td>\n",
       "      <td>19.80</td>\n",
       "    </tr>\n",
       "    <tr>\n",
       "      <th>5974</th>\n",
       "      <td>0.143451</td>\n",
       "      <td>0</td>\n",
       "      <td>14.35</td>\n",
       "    </tr>\n",
       "    <tr>\n",
       "      <th>5587</th>\n",
       "      <td>0.219854</td>\n",
       "      <td>0</td>\n",
       "      <td>21.99</td>\n",
       "    </tr>\n",
       "    <tr>\n",
       "      <th>5607</th>\n",
       "      <td>0.148732</td>\n",
       "      <td>0</td>\n",
       "      <td>14.87</td>\n",
       "    </tr>\n",
       "    <tr>\n",
       "      <th>1193</th>\n",
       "      <td>0.660585</td>\n",
       "      <td>1</td>\n",
       "      <td>66.06</td>\n",
       "    </tr>\n",
       "  </tbody>\n",
       "</table>\n",
       "</div>"
      ],
      "text/plain": [
       "      Probablity  Predicted  Score\n",
       "7131    0.198040          0  19.80\n",
       "5974    0.143451          0  14.35\n",
       "5587    0.219854          0  21.99\n",
       "5607    0.148732          0  14.87\n",
       "1193    0.660585          1  66.06"
      ]
     },
     "execution_count": 109,
     "metadata": {},
     "output_type": "execute_result"
    }
   ],
   "source": [
    "# Creating a dataframe for hot leads.\n",
    "lead = pd.DataFrame()\n",
    "lead['Probablity'] = y_pred_1['churn_proba']\n",
    "lead['Predicted']  = y_pred_1['predicted']\n",
    "lead['Score'] = y_pred_1['churn_proba'].apply(lambda x: round(x*100,2))\n",
    "lead.head()"
   ]
  },
  {
   "cell_type": "markdown",
   "metadata": {
    "id": "GK0vcKt6DuyN"
   },
   "source": [
    "## 7.Conclusion"
   ]
  },
  {
   "cell_type": "markdown",
   "metadata": {
    "id": "0uHp7M66D5T2"
   },
   "source": [
    "Valuable Insights -\n",
    " - The Accuracy, Precision and Recall score we got from test set in aceptable range.\n",
    " - We have high recall score than precision score as per the requirement.\n",
    " - In business terms, this model has an ability to adjust with the company’s requirements in coming future.\n",
    " - This concludes that the model is in stable state.\n",
    " - Important features responsible for good conversion rate or the ones' which contributes more towards the probability of a lead getting converted are :\n",
    "    - **Total Time Spent on Website**\n",
    "    - **Total visits to the website** and\n",
    "    - **Lead_origin_Lead Add Form**"
   ]
  }
 ],
 "metadata": {
  "colab": {
   "collapsed_sections": [],
   "name": "leadd.ipynb",
   "provenance": []
  },
  "kernelspec": {
   "display_name": "Python 3",
   "language": "python",
   "name": "python3"
  },
  "language_info": {
   "codemirror_mode": {
    "name": "ipython",
    "version": 3
   },
   "file_extension": ".py",
   "mimetype": "text/x-python",
   "name": "python",
   "nbconvert_exporter": "python",
   "pygments_lexer": "ipython3",
   "version": "3.8.5"
  }
 },
 "nbformat": 4,
 "nbformat_minor": 1
}
